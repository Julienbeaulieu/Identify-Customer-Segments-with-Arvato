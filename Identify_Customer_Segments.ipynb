{
 "cells": [
  {
   "cell_type": "markdown",
   "metadata": {},
   "source": [
    "# Project: Identify Customer Segments\n",
    "\n",
    "In this project, we apply unsupervised learning techniques to identify segments of the population that form the core customer base for a mail-order sales company in Germany. These segments can then be used to direct marketing campaigns towards audiences that will have the highest expected rate of returns. The data that we use has been provided by Udacity partners at Bertelsmann Arvato Analytics, and represents a real-life data science task."
   ]
  },
  {
   "cell_type": "code",
   "execution_count": 1,
   "metadata": {},
   "outputs": [],
   "source": [
    "# import libraries here; add more as necessary\n",
    "import numpy as np\n",
    "import pandas as pd\n",
    "import matplotlib.pyplot as plt\n",
    "import seaborn as sns\n",
    "import random\n",
    "\n",
    "from sklearn.preprocessing import StandardScaler, Imputer\n",
    "from sklearn.decomposition import PCA\n",
    "from sklearn.cluster import KMeans\n",
    "\n",
    "# magic word for producing visualizations in notebook\n",
    "%matplotlib inline"
   ]
  },
  {
   "cell_type": "markdown",
   "metadata": {},
   "source": [
    "### Step 0: Load the Data\n",
    "\n",
    "There are four files associated with this project (not including this one):\n",
    "\n",
    "- `Udacity_AZDIAS_Subset.csv`: Demographics data for the general population of Germany; 891211 persons (rows) x 85 features (columns).\n",
    "- `Udacity_CUSTOMERS_Subset.csv`: Demographics data for customers of a mail-order company; 191652 persons (rows) x 85 features (columns).\n",
    "- `Data_Dictionary.md`: Detailed information file about the features in the provided datasets.\n",
    "- `AZDIAS_Feature_Summary.csv`: Summary of feature attributes for demographics data; 85 features (rows) x 4 columns\n",
    "\n",
    "Each row of the demographics files represents a single person, but also includes information outside of individuals, including information about their household, building, and neighborhood. We will:\n",
    "\n",
    "1. Use this information to cluster the general population into groups with similar demographic properties. \n",
    "2. See how the people in the customers dataset fit into those created clusters. \n",
    "\n",
    "The hope here is that certain clusters are over-represented in the customers data, as compared to the general population; those over-represented clusters will be assumed to be part of the core userbase. This information can then be used for further applications, such as targeting for a marketing campaign.\n",
    "\n",
    "To start off with, we load in the demographics data for the general population into a pandas DataFrame as well as the Feature Summary csv. "
   ]
  },
  {
   "cell_type": "code",
   "execution_count": 2,
   "metadata": {},
   "outputs": [],
   "source": [
    "# Load in the general demographics data.\n",
    "azdias = pd.read_csv('Udacity_AZDIAS_Subset.csv', sep=';')\n",
    "\n",
    "# Load in the feature summary file.\n",
    "feat_info = pd.read_csv('AZDIAS_Feature_Summary.csv', sep=';')"
   ]
  },
  {
   "cell_type": "code",
   "execution_count": 3,
   "metadata": {},
   "outputs": [
    {
     "name": "stdout",
     "output_type": "stream",
     "text": [
      "<class 'pandas.core.frame.DataFrame'>\n",
      "RangeIndex: 891221 entries, 0 to 891220\n",
      "Data columns (total 85 columns):\n",
      "AGER_TYP                 891221 non-null int64\n",
      "ALTERSKATEGORIE_GROB     891221 non-null int64\n",
      "ANREDE_KZ                891221 non-null int64\n",
      "CJT_GESAMTTYP            886367 non-null float64\n",
      "FINANZ_MINIMALIST        891221 non-null int64\n",
      "FINANZ_SPARER            891221 non-null int64\n",
      "FINANZ_VORSORGER         891221 non-null int64\n",
      "FINANZ_ANLEGER           891221 non-null int64\n",
      "FINANZ_UNAUFFAELLIGER    891221 non-null int64\n",
      "FINANZ_HAUSBAUER         891221 non-null int64\n",
      "FINANZTYP                891221 non-null int64\n",
      "GEBURTSJAHR              891221 non-null int64\n",
      "GFK_URLAUBERTYP          886367 non-null float64\n",
      "GREEN_AVANTGARDE         891221 non-null int64\n",
      "HEALTH_TYP               891221 non-null int64\n",
      "LP_LEBENSPHASE_FEIN      886367 non-null float64\n",
      "LP_LEBENSPHASE_GROB      886367 non-null float64\n",
      "LP_FAMILIE_FEIN          886367 non-null float64\n",
      "LP_FAMILIE_GROB          886367 non-null float64\n",
      "LP_STATUS_FEIN           886367 non-null float64\n",
      "LP_STATUS_GROB           886367 non-null float64\n",
      "NATIONALITAET_KZ         891221 non-null int64\n",
      "PRAEGENDE_JUGENDJAHRE    891221 non-null int64\n",
      "RETOURTYP_BK_S           886367 non-null float64\n",
      "SEMIO_SOZ                891221 non-null int64\n",
      "SEMIO_FAM                891221 non-null int64\n",
      "SEMIO_REL                891221 non-null int64\n",
      "SEMIO_MAT                891221 non-null int64\n",
      "SEMIO_VERT               891221 non-null int64\n",
      "SEMIO_LUST               891221 non-null int64\n",
      "SEMIO_ERL                891221 non-null int64\n",
      "SEMIO_KULT               891221 non-null int64\n",
      "SEMIO_RAT                891221 non-null int64\n",
      "SEMIO_KRIT               891221 non-null int64\n",
      "SEMIO_DOM                891221 non-null int64\n",
      "SEMIO_KAEM               891221 non-null int64\n",
      "SEMIO_PFLICHT            891221 non-null int64\n",
      "SEMIO_TRADV              891221 non-null int64\n",
      "SHOPPER_TYP              891221 non-null int64\n",
      "SOHO_KZ                  817722 non-null float64\n",
      "TITEL_KZ                 817722 non-null float64\n",
      "VERS_TYP                 891221 non-null int64\n",
      "ZABEOTYP                 891221 non-null int64\n",
      "ALTER_HH                 817722 non-null float64\n",
      "ANZ_PERSONEN             817722 non-null float64\n",
      "ANZ_TITEL                817722 non-null float64\n",
      "HH_EINKOMMEN_SCORE       872873 non-null float64\n",
      "KK_KUNDENTYP             306609 non-null float64\n",
      "W_KEIT_KIND_HH           783619 non-null float64\n",
      "WOHNDAUER_2008           817722 non-null float64\n",
      "ANZ_HAUSHALTE_AKTIV      798073 non-null float64\n",
      "ANZ_HH_TITEL             794213 non-null float64\n",
      "GEBAEUDETYP              798073 non-null float64\n",
      "KONSUMNAEHE              817252 non-null float64\n",
      "MIN_GEBAEUDEJAHR         798073 non-null float64\n",
      "OST_WEST_KZ              798073 non-null object\n",
      "WOHNLAGE                 798073 non-null float64\n",
      "CAMEO_DEUG_2015          792242 non-null object\n",
      "CAMEO_DEU_2015           792242 non-null object\n",
      "CAMEO_INTL_2015          792242 non-null object\n",
      "KBA05_ANTG1              757897 non-null float64\n",
      "KBA05_ANTG2              757897 non-null float64\n",
      "KBA05_ANTG3              757897 non-null float64\n",
      "KBA05_ANTG4              757897 non-null float64\n",
      "KBA05_BAUMAX             757897 non-null float64\n",
      "KBA05_GBZ                757897 non-null float64\n",
      "BALLRAUM                 797481 non-null float64\n",
      "EWDICHTE                 797481 non-null float64\n",
      "INNENSTADT               797481 non-null float64\n",
      "GEBAEUDETYP_RASTER       798066 non-null float64\n",
      "KKK                      770025 non-null float64\n",
      "MOBI_REGIO               757897 non-null float64\n",
      "ONLINE_AFFINITAET        886367 non-null float64\n",
      "REGIOTYP                 770025 non-null float64\n",
      "KBA13_ANZAHL_PKW         785421 non-null float64\n",
      "PLZ8_ANTG1               774706 non-null float64\n",
      "PLZ8_ANTG2               774706 non-null float64\n",
      "PLZ8_ANTG3               774706 non-null float64\n",
      "PLZ8_ANTG4               774706 non-null float64\n",
      "PLZ8_BAUMAX              774706 non-null float64\n",
      "PLZ8_HHZ                 774706 non-null float64\n",
      "PLZ8_GBZ                 774706 non-null float64\n",
      "ARBEIT                   794005 non-null float64\n",
      "ORTSGR_KLS9              794005 non-null float64\n",
      "RELAT_AB                 794005 non-null float64\n",
      "dtypes: float64(49), int64(32), object(4)\n",
      "memory usage: 578.0+ MB\n"
     ]
    }
   ],
   "source": [
    "# Check the structure of the data\n",
    "azdias.info()"
   ]
  },
  {
   "cell_type": "code",
   "execution_count": 4,
   "metadata": {},
   "outputs": [
    {
     "data": {
      "text/html": [
       "<div>\n",
       "<style scoped>\n",
       "    .dataframe tbody tr th:only-of-type {\n",
       "        vertical-align: middle;\n",
       "    }\n",
       "\n",
       "    .dataframe tbody tr th {\n",
       "        vertical-align: top;\n",
       "    }\n",
       "\n",
       "    .dataframe thead th {\n",
       "        text-align: right;\n",
       "    }\n",
       "</style>\n",
       "<table border=\"1\" class=\"dataframe\">\n",
       "  <thead>\n",
       "    <tr style=\"text-align: right;\">\n",
       "      <th></th>\n",
       "      <th>AGER_TYP</th>\n",
       "      <th>ALTERSKATEGORIE_GROB</th>\n",
       "      <th>ANREDE_KZ</th>\n",
       "      <th>CJT_GESAMTTYP</th>\n",
       "      <th>FINANZ_MINIMALIST</th>\n",
       "      <th>FINANZ_SPARER</th>\n",
       "      <th>FINANZ_VORSORGER</th>\n",
       "      <th>FINANZ_ANLEGER</th>\n",
       "      <th>FINANZ_UNAUFFAELLIGER</th>\n",
       "      <th>FINANZ_HAUSBAUER</th>\n",
       "      <th>...</th>\n",
       "      <th>PLZ8_ANTG1</th>\n",
       "      <th>PLZ8_ANTG2</th>\n",
       "      <th>PLZ8_ANTG3</th>\n",
       "      <th>PLZ8_ANTG4</th>\n",
       "      <th>PLZ8_BAUMAX</th>\n",
       "      <th>PLZ8_HHZ</th>\n",
       "      <th>PLZ8_GBZ</th>\n",
       "      <th>ARBEIT</th>\n",
       "      <th>ORTSGR_KLS9</th>\n",
       "      <th>RELAT_AB</th>\n",
       "    </tr>\n",
       "  </thead>\n",
       "  <tbody>\n",
       "    <tr>\n",
       "      <th>636027</th>\n",
       "      <td>-1</td>\n",
       "      <td>3</td>\n",
       "      <td>1</td>\n",
       "      <td>4.0</td>\n",
       "      <td>4</td>\n",
       "      <td>3</td>\n",
       "      <td>4</td>\n",
       "      <td>2</td>\n",
       "      <td>2</td>\n",
       "      <td>2</td>\n",
       "      <td>...</td>\n",
       "      <td>3.0</td>\n",
       "      <td>3.0</td>\n",
       "      <td>1.0</td>\n",
       "      <td>0.0</td>\n",
       "      <td>1.0</td>\n",
       "      <td>3.0</td>\n",
       "      <td>4.0</td>\n",
       "      <td>3.0</td>\n",
       "      <td>5.0</td>\n",
       "      <td>1.0</td>\n",
       "    </tr>\n",
       "    <tr>\n",
       "      <th>227204</th>\n",
       "      <td>-1</td>\n",
       "      <td>3</td>\n",
       "      <td>2</td>\n",
       "      <td>5.0</td>\n",
       "      <td>3</td>\n",
       "      <td>3</td>\n",
       "      <td>4</td>\n",
       "      <td>4</td>\n",
       "      <td>2</td>\n",
       "      <td>3</td>\n",
       "      <td>...</td>\n",
       "      <td>3.0</td>\n",
       "      <td>2.0</td>\n",
       "      <td>1.0</td>\n",
       "      <td>0.0</td>\n",
       "      <td>1.0</td>\n",
       "      <td>5.0</td>\n",
       "      <td>5.0</td>\n",
       "      <td>4.0</td>\n",
       "      <td>5.0</td>\n",
       "      <td>5.0</td>\n",
       "    </tr>\n",
       "    <tr>\n",
       "      <th>124051</th>\n",
       "      <td>-1</td>\n",
       "      <td>3</td>\n",
       "      <td>2</td>\n",
       "      <td>6.0</td>\n",
       "      <td>1</td>\n",
       "      <td>5</td>\n",
       "      <td>3</td>\n",
       "      <td>5</td>\n",
       "      <td>4</td>\n",
       "      <td>5</td>\n",
       "      <td>...</td>\n",
       "      <td>3.0</td>\n",
       "      <td>3.0</td>\n",
       "      <td>1.0</td>\n",
       "      <td>0.0</td>\n",
       "      <td>1.0</td>\n",
       "      <td>2.0</td>\n",
       "      <td>3.0</td>\n",
       "      <td>2.0</td>\n",
       "      <td>4.0</td>\n",
       "      <td>1.0</td>\n",
       "    </tr>\n",
       "    <tr>\n",
       "      <th>820899</th>\n",
       "      <td>3</td>\n",
       "      <td>2</td>\n",
       "      <td>2</td>\n",
       "      <td>3.0</td>\n",
       "      <td>3</td>\n",
       "      <td>1</td>\n",
       "      <td>5</td>\n",
       "      <td>1</td>\n",
       "      <td>2</td>\n",
       "      <td>5</td>\n",
       "      <td>...</td>\n",
       "      <td>2.0</td>\n",
       "      <td>3.0</td>\n",
       "      <td>2.0</td>\n",
       "      <td>0.0</td>\n",
       "      <td>1.0</td>\n",
       "      <td>3.0</td>\n",
       "      <td>3.0</td>\n",
       "      <td>2.0</td>\n",
       "      <td>4.0</td>\n",
       "      <td>3.0</td>\n",
       "    </tr>\n",
       "    <tr>\n",
       "      <th>783265</th>\n",
       "      <td>-1</td>\n",
       "      <td>2</td>\n",
       "      <td>1</td>\n",
       "      <td>3.0</td>\n",
       "      <td>4</td>\n",
       "      <td>3</td>\n",
       "      <td>3</td>\n",
       "      <td>5</td>\n",
       "      <td>3</td>\n",
       "      <td>2</td>\n",
       "      <td>...</td>\n",
       "      <td>2.0</td>\n",
       "      <td>2.0</td>\n",
       "      <td>0.0</td>\n",
       "      <td>0.0</td>\n",
       "      <td>1.0</td>\n",
       "      <td>2.0</td>\n",
       "      <td>3.0</td>\n",
       "      <td>2.0</td>\n",
       "      <td>3.0</td>\n",
       "      <td>3.0</td>\n",
       "    </tr>\n",
       "    <tr>\n",
       "      <th>520684</th>\n",
       "      <td>-1</td>\n",
       "      <td>4</td>\n",
       "      <td>2</td>\n",
       "      <td>1.0</td>\n",
       "      <td>2</td>\n",
       "      <td>3</td>\n",
       "      <td>4</td>\n",
       "      <td>3</td>\n",
       "      <td>1</td>\n",
       "      <td>3</td>\n",
       "      <td>...</td>\n",
       "      <td>1.0</td>\n",
       "      <td>2.0</td>\n",
       "      <td>3.0</td>\n",
       "      <td>2.0</td>\n",
       "      <td>4.0</td>\n",
       "      <td>3.0</td>\n",
       "      <td>1.0</td>\n",
       "      <td>3.0</td>\n",
       "      <td>7.0</td>\n",
       "      <td>4.0</td>\n",
       "    </tr>\n",
       "    <tr>\n",
       "      <th>693482</th>\n",
       "      <td>1</td>\n",
       "      <td>4</td>\n",
       "      <td>1</td>\n",
       "      <td>4.0</td>\n",
       "      <td>5</td>\n",
       "      <td>1</td>\n",
       "      <td>5</td>\n",
       "      <td>1</td>\n",
       "      <td>2</td>\n",
       "      <td>2</td>\n",
       "      <td>...</td>\n",
       "      <td>3.0</td>\n",
       "      <td>3.0</td>\n",
       "      <td>2.0</td>\n",
       "      <td>0.0</td>\n",
       "      <td>1.0</td>\n",
       "      <td>4.0</td>\n",
       "      <td>4.0</td>\n",
       "      <td>3.0</td>\n",
       "      <td>7.0</td>\n",
       "      <td>2.0</td>\n",
       "    </tr>\n",
       "    <tr>\n",
       "      <th>399345</th>\n",
       "      <td>-1</td>\n",
       "      <td>3</td>\n",
       "      <td>2</td>\n",
       "      <td>2.0</td>\n",
       "      <td>4</td>\n",
       "      <td>2</td>\n",
       "      <td>4</td>\n",
       "      <td>4</td>\n",
       "      <td>2</td>\n",
       "      <td>1</td>\n",
       "      <td>...</td>\n",
       "      <td>3.0</td>\n",
       "      <td>2.0</td>\n",
       "      <td>1.0</td>\n",
       "      <td>0.0</td>\n",
       "      <td>1.0</td>\n",
       "      <td>4.0</td>\n",
       "      <td>5.0</td>\n",
       "      <td>1.0</td>\n",
       "      <td>3.0</td>\n",
       "      <td>1.0</td>\n",
       "    </tr>\n",
       "    <tr>\n",
       "      <th>83190</th>\n",
       "      <td>-1</td>\n",
       "      <td>2</td>\n",
       "      <td>1</td>\n",
       "      <td>5.0</td>\n",
       "      <td>3</td>\n",
       "      <td>4</td>\n",
       "      <td>2</td>\n",
       "      <td>4</td>\n",
       "      <td>5</td>\n",
       "      <td>1</td>\n",
       "      <td>...</td>\n",
       "      <td>2.0</td>\n",
       "      <td>3.0</td>\n",
       "      <td>2.0</td>\n",
       "      <td>0.0</td>\n",
       "      <td>1.0</td>\n",
       "      <td>3.0</td>\n",
       "      <td>3.0</td>\n",
       "      <td>4.0</td>\n",
       "      <td>9.0</td>\n",
       "      <td>4.0</td>\n",
       "    </tr>\n",
       "    <tr>\n",
       "      <th>744363</th>\n",
       "      <td>-1</td>\n",
       "      <td>4</td>\n",
       "      <td>2</td>\n",
       "      <td>1.0</td>\n",
       "      <td>2</td>\n",
       "      <td>1</td>\n",
       "      <td>5</td>\n",
       "      <td>2</td>\n",
       "      <td>1</td>\n",
       "      <td>5</td>\n",
       "      <td>...</td>\n",
       "      <td>1.0</td>\n",
       "      <td>4.0</td>\n",
       "      <td>3.0</td>\n",
       "      <td>1.0</td>\n",
       "      <td>3.0</td>\n",
       "      <td>3.0</td>\n",
       "      <td>2.0</td>\n",
       "      <td>4.0</td>\n",
       "      <td>6.0</td>\n",
       "      <td>5.0</td>\n",
       "    </tr>\n",
       "    <tr>\n",
       "      <th>332283</th>\n",
       "      <td>2</td>\n",
       "      <td>3</td>\n",
       "      <td>1</td>\n",
       "      <td>4.0</td>\n",
       "      <td>4</td>\n",
       "      <td>1</td>\n",
       "      <td>5</td>\n",
       "      <td>2</td>\n",
       "      <td>1</td>\n",
       "      <td>4</td>\n",
       "      <td>...</td>\n",
       "      <td>3.0</td>\n",
       "      <td>2.0</td>\n",
       "      <td>1.0</td>\n",
       "      <td>0.0</td>\n",
       "      <td>1.0</td>\n",
       "      <td>4.0</td>\n",
       "      <td>5.0</td>\n",
       "      <td>2.0</td>\n",
       "      <td>4.0</td>\n",
       "      <td>3.0</td>\n",
       "    </tr>\n",
       "    <tr>\n",
       "      <th>162900</th>\n",
       "      <td>-1</td>\n",
       "      <td>1</td>\n",
       "      <td>2</td>\n",
       "      <td>6.0</td>\n",
       "      <td>1</td>\n",
       "      <td>5</td>\n",
       "      <td>2</td>\n",
       "      <td>4</td>\n",
       "      <td>5</td>\n",
       "      <td>2</td>\n",
       "      <td>...</td>\n",
       "      <td>2.0</td>\n",
       "      <td>3.0</td>\n",
       "      <td>1.0</td>\n",
       "      <td>0.0</td>\n",
       "      <td>1.0</td>\n",
       "      <td>5.0</td>\n",
       "      <td>5.0</td>\n",
       "      <td>3.0</td>\n",
       "      <td>3.0</td>\n",
       "      <td>3.0</td>\n",
       "    </tr>\n",
       "    <tr>\n",
       "      <th>96200</th>\n",
       "      <td>-1</td>\n",
       "      <td>2</td>\n",
       "      <td>1</td>\n",
       "      <td>3.0</td>\n",
       "      <td>2</td>\n",
       "      <td>5</td>\n",
       "      <td>1</td>\n",
       "      <td>4</td>\n",
       "      <td>3</td>\n",
       "      <td>3</td>\n",
       "      <td>...</td>\n",
       "      <td>3.0</td>\n",
       "      <td>2.0</td>\n",
       "      <td>0.0</td>\n",
       "      <td>0.0</td>\n",
       "      <td>1.0</td>\n",
       "      <td>3.0</td>\n",
       "      <td>3.0</td>\n",
       "      <td>4.0</td>\n",
       "      <td>4.0</td>\n",
       "      <td>3.0</td>\n",
       "    </tr>\n",
       "    <tr>\n",
       "      <th>190002</th>\n",
       "      <td>-1</td>\n",
       "      <td>2</td>\n",
       "      <td>1</td>\n",
       "      <td>4.0</td>\n",
       "      <td>4</td>\n",
       "      <td>4</td>\n",
       "      <td>2</td>\n",
       "      <td>4</td>\n",
       "      <td>5</td>\n",
       "      <td>1</td>\n",
       "      <td>...</td>\n",
       "      <td>3.0</td>\n",
       "      <td>2.0</td>\n",
       "      <td>0.0</td>\n",
       "      <td>0.0</td>\n",
       "      <td>1.0</td>\n",
       "      <td>2.0</td>\n",
       "      <td>3.0</td>\n",
       "      <td>2.0</td>\n",
       "      <td>2.0</td>\n",
       "      <td>1.0</td>\n",
       "    </tr>\n",
       "    <tr>\n",
       "      <th>446162</th>\n",
       "      <td>-1</td>\n",
       "      <td>4</td>\n",
       "      <td>1</td>\n",
       "      <td>5.0</td>\n",
       "      <td>4</td>\n",
       "      <td>1</td>\n",
       "      <td>5</td>\n",
       "      <td>1</td>\n",
       "      <td>3</td>\n",
       "      <td>2</td>\n",
       "      <td>...</td>\n",
       "      <td>NaN</td>\n",
       "      <td>NaN</td>\n",
       "      <td>NaN</td>\n",
       "      <td>NaN</td>\n",
       "      <td>NaN</td>\n",
       "      <td>NaN</td>\n",
       "      <td>NaN</td>\n",
       "      <td>4.0</td>\n",
       "      <td>6.0</td>\n",
       "      <td>3.0</td>\n",
       "    </tr>\n",
       "    <tr>\n",
       "      <th>490930</th>\n",
       "      <td>-1</td>\n",
       "      <td>1</td>\n",
       "      <td>1</td>\n",
       "      <td>3.0</td>\n",
       "      <td>1</td>\n",
       "      <td>5</td>\n",
       "      <td>3</td>\n",
       "      <td>4</td>\n",
       "      <td>5</td>\n",
       "      <td>5</td>\n",
       "      <td>...</td>\n",
       "      <td>3.0</td>\n",
       "      <td>3.0</td>\n",
       "      <td>2.0</td>\n",
       "      <td>1.0</td>\n",
       "      <td>1.0</td>\n",
       "      <td>4.0</td>\n",
       "      <td>4.0</td>\n",
       "      <td>4.0</td>\n",
       "      <td>8.0</td>\n",
       "      <td>3.0</td>\n",
       "    </tr>\n",
       "    <tr>\n",
       "      <th>641539</th>\n",
       "      <td>1</td>\n",
       "      <td>3</td>\n",
       "      <td>2</td>\n",
       "      <td>5.0</td>\n",
       "      <td>5</td>\n",
       "      <td>1</td>\n",
       "      <td>5</td>\n",
       "      <td>2</td>\n",
       "      <td>2</td>\n",
       "      <td>3</td>\n",
       "      <td>...</td>\n",
       "      <td>4.0</td>\n",
       "      <td>2.0</td>\n",
       "      <td>0.0</td>\n",
       "      <td>0.0</td>\n",
       "      <td>1.0</td>\n",
       "      <td>4.0</td>\n",
       "      <td>5.0</td>\n",
       "      <td>4.0</td>\n",
       "      <td>4.0</td>\n",
       "      <td>5.0</td>\n",
       "    </tr>\n",
       "    <tr>\n",
       "      <th>133150</th>\n",
       "      <td>-1</td>\n",
       "      <td>3</td>\n",
       "      <td>1</td>\n",
       "      <td>3.0</td>\n",
       "      <td>2</td>\n",
       "      <td>5</td>\n",
       "      <td>2</td>\n",
       "      <td>5</td>\n",
       "      <td>5</td>\n",
       "      <td>3</td>\n",
       "      <td>...</td>\n",
       "      <td>1.0</td>\n",
       "      <td>3.0</td>\n",
       "      <td>1.0</td>\n",
       "      <td>1.0</td>\n",
       "      <td>5.0</td>\n",
       "      <td>2.0</td>\n",
       "      <td>3.0</td>\n",
       "      <td>2.0</td>\n",
       "      <td>4.0</td>\n",
       "      <td>3.0</td>\n",
       "    </tr>\n",
       "    <tr>\n",
       "      <th>248822</th>\n",
       "      <td>-1</td>\n",
       "      <td>3</td>\n",
       "      <td>1</td>\n",
       "      <td>4.0</td>\n",
       "      <td>4</td>\n",
       "      <td>4</td>\n",
       "      <td>2</td>\n",
       "      <td>4</td>\n",
       "      <td>5</td>\n",
       "      <td>1</td>\n",
       "      <td>...</td>\n",
       "      <td>NaN</td>\n",
       "      <td>NaN</td>\n",
       "      <td>NaN</td>\n",
       "      <td>NaN</td>\n",
       "      <td>NaN</td>\n",
       "      <td>NaN</td>\n",
       "      <td>NaN</td>\n",
       "      <td>NaN</td>\n",
       "      <td>NaN</td>\n",
       "      <td>NaN</td>\n",
       "    </tr>\n",
       "    <tr>\n",
       "      <th>637823</th>\n",
       "      <td>-1</td>\n",
       "      <td>2</td>\n",
       "      <td>2</td>\n",
       "      <td>3.0</td>\n",
       "      <td>1</td>\n",
       "      <td>5</td>\n",
       "      <td>3</td>\n",
       "      <td>5</td>\n",
       "      <td>5</td>\n",
       "      <td>5</td>\n",
       "      <td>...</td>\n",
       "      <td>1.0</td>\n",
       "      <td>4.0</td>\n",
       "      <td>3.0</td>\n",
       "      <td>1.0</td>\n",
       "      <td>3.0</td>\n",
       "      <td>4.0</td>\n",
       "      <td>3.0</td>\n",
       "      <td>4.0</td>\n",
       "      <td>7.0</td>\n",
       "      <td>3.0</td>\n",
       "    </tr>\n",
       "  </tbody>\n",
       "</table>\n",
       "<p>20 rows × 85 columns</p>\n",
       "</div>"
      ],
      "text/plain": [
       "        AGER_TYP  ALTERSKATEGORIE_GROB  ANREDE_KZ  CJT_GESAMTTYP  \\\n",
       "636027        -1                     3          1            4.0   \n",
       "227204        -1                     3          2            5.0   \n",
       "124051        -1                     3          2            6.0   \n",
       "820899         3                     2          2            3.0   \n",
       "783265        -1                     2          1            3.0   \n",
       "520684        -1                     4          2            1.0   \n",
       "693482         1                     4          1            4.0   \n",
       "399345        -1                     3          2            2.0   \n",
       "83190         -1                     2          1            5.0   \n",
       "744363        -1                     4          2            1.0   \n",
       "332283         2                     3          1            4.0   \n",
       "162900        -1                     1          2            6.0   \n",
       "96200         -1                     2          1            3.0   \n",
       "190002        -1                     2          1            4.0   \n",
       "446162        -1                     4          1            5.0   \n",
       "490930        -1                     1          1            3.0   \n",
       "641539         1                     3          2            5.0   \n",
       "133150        -1                     3          1            3.0   \n",
       "248822        -1                     3          1            4.0   \n",
       "637823        -1                     2          2            3.0   \n",
       "\n",
       "        FINANZ_MINIMALIST  FINANZ_SPARER  FINANZ_VORSORGER  FINANZ_ANLEGER  \\\n",
       "636027                  4              3                 4               2   \n",
       "227204                  3              3                 4               4   \n",
       "124051                  1              5                 3               5   \n",
       "820899                  3              1                 5               1   \n",
       "783265                  4              3                 3               5   \n",
       "520684                  2              3                 4               3   \n",
       "693482                  5              1                 5               1   \n",
       "399345                  4              2                 4               4   \n",
       "83190                   3              4                 2               4   \n",
       "744363                  2              1                 5               2   \n",
       "332283                  4              1                 5               2   \n",
       "162900                  1              5                 2               4   \n",
       "96200                   2              5                 1               4   \n",
       "190002                  4              4                 2               4   \n",
       "446162                  4              1                 5               1   \n",
       "490930                  1              5                 3               4   \n",
       "641539                  5              1                 5               2   \n",
       "133150                  2              5                 2               5   \n",
       "248822                  4              4                 2               4   \n",
       "637823                  1              5                 3               5   \n",
       "\n",
       "        FINANZ_UNAUFFAELLIGER  FINANZ_HAUSBAUER    ...     PLZ8_ANTG1  \\\n",
       "636027                      2                 2    ...            3.0   \n",
       "227204                      2                 3    ...            3.0   \n",
       "124051                      4                 5    ...            3.0   \n",
       "820899                      2                 5    ...            2.0   \n",
       "783265                      3                 2    ...            2.0   \n",
       "520684                      1                 3    ...            1.0   \n",
       "693482                      2                 2    ...            3.0   \n",
       "399345                      2                 1    ...            3.0   \n",
       "83190                       5                 1    ...            2.0   \n",
       "744363                      1                 5    ...            1.0   \n",
       "332283                      1                 4    ...            3.0   \n",
       "162900                      5                 2    ...            2.0   \n",
       "96200                       3                 3    ...            3.0   \n",
       "190002                      5                 1    ...            3.0   \n",
       "446162                      3                 2    ...            NaN   \n",
       "490930                      5                 5    ...            3.0   \n",
       "641539                      2                 3    ...            4.0   \n",
       "133150                      5                 3    ...            1.0   \n",
       "248822                      5                 1    ...            NaN   \n",
       "637823                      5                 5    ...            1.0   \n",
       "\n",
       "        PLZ8_ANTG2  PLZ8_ANTG3  PLZ8_ANTG4  PLZ8_BAUMAX  PLZ8_HHZ  PLZ8_GBZ  \\\n",
       "636027         3.0         1.0         0.0          1.0       3.0       4.0   \n",
       "227204         2.0         1.0         0.0          1.0       5.0       5.0   \n",
       "124051         3.0         1.0         0.0          1.0       2.0       3.0   \n",
       "820899         3.0         2.0         0.0          1.0       3.0       3.0   \n",
       "783265         2.0         0.0         0.0          1.0       2.0       3.0   \n",
       "520684         2.0         3.0         2.0          4.0       3.0       1.0   \n",
       "693482         3.0         2.0         0.0          1.0       4.0       4.0   \n",
       "399345         2.0         1.0         0.0          1.0       4.0       5.0   \n",
       "83190          3.0         2.0         0.0          1.0       3.0       3.0   \n",
       "744363         4.0         3.0         1.0          3.0       3.0       2.0   \n",
       "332283         2.0         1.0         0.0          1.0       4.0       5.0   \n",
       "162900         3.0         1.0         0.0          1.0       5.0       5.0   \n",
       "96200          2.0         0.0         0.0          1.0       3.0       3.0   \n",
       "190002         2.0         0.0         0.0          1.0       2.0       3.0   \n",
       "446162         NaN         NaN         NaN          NaN       NaN       NaN   \n",
       "490930         3.0         2.0         1.0          1.0       4.0       4.0   \n",
       "641539         2.0         0.0         0.0          1.0       4.0       5.0   \n",
       "133150         3.0         1.0         1.0          5.0       2.0       3.0   \n",
       "248822         NaN         NaN         NaN          NaN       NaN       NaN   \n",
       "637823         4.0         3.0         1.0          3.0       4.0       3.0   \n",
       "\n",
       "        ARBEIT  ORTSGR_KLS9  RELAT_AB  \n",
       "636027     3.0          5.0       1.0  \n",
       "227204     4.0          5.0       5.0  \n",
       "124051     2.0          4.0       1.0  \n",
       "820899     2.0          4.0       3.0  \n",
       "783265     2.0          3.0       3.0  \n",
       "520684     3.0          7.0       4.0  \n",
       "693482     3.0          7.0       2.0  \n",
       "399345     1.0          3.0       1.0  \n",
       "83190      4.0          9.0       4.0  \n",
       "744363     4.0          6.0       5.0  \n",
       "332283     2.0          4.0       3.0  \n",
       "162900     3.0          3.0       3.0  \n",
       "96200      4.0          4.0       3.0  \n",
       "190002     2.0          2.0       1.0  \n",
       "446162     4.0          6.0       3.0  \n",
       "490930     4.0          8.0       3.0  \n",
       "641539     4.0          4.0       5.0  \n",
       "133150     2.0          4.0       3.0  \n",
       "248822     NaN          NaN       NaN  \n",
       "637823     4.0          7.0       3.0  \n",
       "\n",
       "[20 rows x 85 columns]"
      ]
     },
     "execution_count": 4,
     "metadata": {},
     "output_type": "execute_result"
    }
   ],
   "source": [
    "# Visual assessment of the data\n",
    "azdias.sample(20)"
   ]
  },
  {
   "cell_type": "code",
   "execution_count": 5,
   "metadata": {},
   "outputs": [
    {
     "data": {
      "text/html": [
       "<div>\n",
       "<style scoped>\n",
       "    .dataframe tbody tr th:only-of-type {\n",
       "        vertical-align: middle;\n",
       "    }\n",
       "\n",
       "    .dataframe tbody tr th {\n",
       "        vertical-align: top;\n",
       "    }\n",
       "\n",
       "    .dataframe thead th {\n",
       "        text-align: right;\n",
       "    }\n",
       "</style>\n",
       "<table border=\"1\" class=\"dataframe\">\n",
       "  <thead>\n",
       "    <tr style=\"text-align: right;\">\n",
       "      <th></th>\n",
       "      <th>attribute</th>\n",
       "      <th>information_level</th>\n",
       "      <th>type</th>\n",
       "      <th>missing_or_unknown</th>\n",
       "    </tr>\n",
       "  </thead>\n",
       "  <tbody>\n",
       "    <tr>\n",
       "      <th>0</th>\n",
       "      <td>AGER_TYP</td>\n",
       "      <td>person</td>\n",
       "      <td>categorical</td>\n",
       "      <td>[-1,0]</td>\n",
       "    </tr>\n",
       "    <tr>\n",
       "      <th>1</th>\n",
       "      <td>ALTERSKATEGORIE_GROB</td>\n",
       "      <td>person</td>\n",
       "      <td>ordinal</td>\n",
       "      <td>[-1,0,9]</td>\n",
       "    </tr>\n",
       "    <tr>\n",
       "      <th>2</th>\n",
       "      <td>ANREDE_KZ</td>\n",
       "      <td>person</td>\n",
       "      <td>categorical</td>\n",
       "      <td>[-1,0]</td>\n",
       "    </tr>\n",
       "    <tr>\n",
       "      <th>3</th>\n",
       "      <td>CJT_GESAMTTYP</td>\n",
       "      <td>person</td>\n",
       "      <td>categorical</td>\n",
       "      <td>[0]</td>\n",
       "    </tr>\n",
       "    <tr>\n",
       "      <th>4</th>\n",
       "      <td>FINANZ_MINIMALIST</td>\n",
       "      <td>person</td>\n",
       "      <td>ordinal</td>\n",
       "      <td>[-1]</td>\n",
       "    </tr>\n",
       "    <tr>\n",
       "      <th>5</th>\n",
       "      <td>FINANZ_SPARER</td>\n",
       "      <td>person</td>\n",
       "      <td>ordinal</td>\n",
       "      <td>[-1]</td>\n",
       "    </tr>\n",
       "    <tr>\n",
       "      <th>6</th>\n",
       "      <td>FINANZ_VORSORGER</td>\n",
       "      <td>person</td>\n",
       "      <td>ordinal</td>\n",
       "      <td>[-1]</td>\n",
       "    </tr>\n",
       "    <tr>\n",
       "      <th>7</th>\n",
       "      <td>FINANZ_ANLEGER</td>\n",
       "      <td>person</td>\n",
       "      <td>ordinal</td>\n",
       "      <td>[-1]</td>\n",
       "    </tr>\n",
       "    <tr>\n",
       "      <th>8</th>\n",
       "      <td>FINANZ_UNAUFFAELLIGER</td>\n",
       "      <td>person</td>\n",
       "      <td>ordinal</td>\n",
       "      <td>[-1]</td>\n",
       "    </tr>\n",
       "    <tr>\n",
       "      <th>9</th>\n",
       "      <td>FINANZ_HAUSBAUER</td>\n",
       "      <td>person</td>\n",
       "      <td>ordinal</td>\n",
       "      <td>[-1]</td>\n",
       "    </tr>\n",
       "  </tbody>\n",
       "</table>\n",
       "</div>"
      ],
      "text/plain": [
       "               attribute information_level         type missing_or_unknown\n",
       "0               AGER_TYP            person  categorical             [-1,0]\n",
       "1   ALTERSKATEGORIE_GROB            person      ordinal           [-1,0,9]\n",
       "2              ANREDE_KZ            person  categorical             [-1,0]\n",
       "3          CJT_GESAMTTYP            person  categorical                [0]\n",
       "4      FINANZ_MINIMALIST            person      ordinal               [-1]\n",
       "5          FINANZ_SPARER            person      ordinal               [-1]\n",
       "6       FINANZ_VORSORGER            person      ordinal               [-1]\n",
       "7         FINANZ_ANLEGER            person      ordinal               [-1]\n",
       "8  FINANZ_UNAUFFAELLIGER            person      ordinal               [-1]\n",
       "9       FINANZ_HAUSBAUER            person      ordinal               [-1]"
      ]
     },
     "execution_count": 5,
     "metadata": {},
     "output_type": "execute_result"
    }
   ],
   "source": [
    "# Visual assessement of the feature info dataset\n",
    "feat_info.head(10)"
   ]
  },
  {
   "cell_type": "markdown",
   "metadata": {},
   "source": [
    "\n",
    "## Step 1: Preprocessing\n",
    "\n",
    "### Step 1.1: Assess Missing Data\n",
    "\n",
    "The feature summary file contains a summary of properties for each demographics data column. We will use this file to help us make cleaning decisions during this stage of the project. First of all, we will assess the demographics data in terms of missing data. \n",
    "\n",
    "#### Step 1.1.1: Convert Missing Value Codes to NaNs\n",
    "The fourth column of the feature attributes summary (loaded in above as `feat_info`) documents the codes from the data dictionary that indicate missing or unknown data. While the file encodes this as a list (e.g. `[-1,0]`), this will get read in as a string object. We'll need to do a little bit of parsing to make use of it to identify and clean the data. First we'll convert data that matches a 'missing' or 'unknown' value code into a numpy NaN value. "
   ]
  },
  {
   "cell_type": "code",
   "execution_count": 6,
   "metadata": {},
   "outputs": [],
   "source": [
    "# Create a copy of the original dataset and work on the copy\n",
    "azdias_clean = azdias.copy()"
   ]
  },
  {
   "cell_type": "code",
   "execution_count": 7,
   "metadata": {},
   "outputs": [],
   "source": [
    "# Identify missing or unknown data values and convert them to NaNs\n",
    "# Every 0 or -1 value has to be replaced with NaN\n",
    "azdias_clean = azdias_clean.replace([-1,0], np.nan)"
   ]
  },
  {
   "cell_type": "code",
   "execution_count": 8,
   "metadata": {},
   "outputs": [
    {
     "data": {
      "text/plain": [
       "['ALTERSKATEGORIE_GROB',\n",
       " 'SEMIO_SOZ',\n",
       " 'SEMIO_FAM',\n",
       " 'SEMIO_REL',\n",
       " 'SEMIO_MAT',\n",
       " 'SEMIO_VERT',\n",
       " 'SEMIO_LUST',\n",
       " 'SEMIO_ERL',\n",
       " 'SEMIO_KULT',\n",
       " 'SEMIO_RAT',\n",
       " 'SEMIO_KRIT',\n",
       " 'SEMIO_DOM',\n",
       " 'SEMIO_KAEM',\n",
       " 'SEMIO_PFLICHT',\n",
       " 'SEMIO_TRADV',\n",
       " 'ZABEOTYP',\n",
       " 'ARBEIT',\n",
       " 'RELAT_AB']"
      ]
     },
     "execution_count": 8,
     "metadata": {},
     "output_type": "execute_result"
    }
   ],
   "source": [
    "# Next we need to replace the value 9 with NaN only for certain columns that contain 9 in the feat_info dataset:\n",
    "cols_with_9 = []\n",
    "row_name = ''\n",
    "\n",
    "# Get a list of features that contain the number 9 in 'missing_or_unknown' column\n",
    "for idx, row in enumerate(feat_info.missing_or_unknown):\n",
    "        if str(9) in row:\n",
    "            row_name = feat_info.attribute[idx]\n",
    "            cols_with_9.append(row_name)\n",
    "            \n",
    "cols_with_9"
   ]
  },
  {
   "cell_type": "code",
   "execution_count": 9,
   "metadata": {},
   "outputs": [
    {
     "name": "stdout",
     "output_type": "stream",
     "text": [
      "3    358533\n",
      "4    228510\n",
      "2    158410\n",
      "1    142887\n",
      "9      2881\n",
      "Name: ALTERSKATEGORIE_GROB, dtype: int64\n",
      "3.0    358533\n",
      "4.0    228510\n",
      "2.0    158410\n",
      "1.0    142887\n",
      "Name: ALTERSKATEGORIE_GROB, dtype: int64\n"
     ]
    }
   ],
   "source": [
    "# Replace 9 with NaN for the above columns\n",
    "azdias_clean[cols_with_9] = azdias_clean[cols_with_9].replace(9, np.nan)\n",
    "\n",
    "# Check if it worked - After shouldn't contain value 9\n",
    "# Before\n",
    "print(azdias.ALTERSKATEGORIE_GROB.value_counts())\n",
    "\n",
    "# After\n",
    "print(azdias_clean.ALTERSKATEGORIE_GROB.value_counts())"
   ]
  },
  {
   "cell_type": "markdown",
   "metadata": {},
   "source": [
    "#### Step 1.1.2: Assess Missing Data in Each Column\n",
    "\n",
    "How much missing data is present in each column? There are a few columns that are outliers in terms of the proportion of values that are missing. We will use matplotlib's [`hist()`](https://matplotlib.org/api/_as_gen/matplotlib.pyplot.hist.html) function to visualize the distribution of missing value counts to find these columns the identify and document these columns. For this project we will just remove them from the dataframe. "
   ]
  },
  {
   "cell_type": "code",
   "execution_count": 10,
   "metadata": {},
   "outputs": [
    {
     "data": {
      "text/plain": [
       "AGER_TYP                 685843\n",
       "ALTERSKATEGORIE_GROB       2881\n",
       "ANREDE_KZ                     0\n",
       "CJT_GESAMTTYP              4854\n",
       "FINANZ_MINIMALIST             0\n",
       "FINANZ_SPARER                 0\n",
       "FINANZ_VORSORGER              0\n",
       "FINANZ_ANLEGER                0\n",
       "FINANZ_UNAUFFAELLIGER         0\n",
       "FINANZ_HAUSBAUER              0\n",
       "FINANZTYP                     0\n",
       "GEBURTSJAHR              392318\n",
       "GFK_URLAUBERTYP            4854\n",
       "GREEN_AVANTGARDE         715996\n",
       "HEALTH_TYP               111196\n",
       "LP_LEBENSPHASE_FEIN       97632\n",
       "LP_LEBENSPHASE_GROB       94572\n",
       "LP_FAMILIE_FEIN           77792\n",
       "LP_FAMILIE_GROB           77792\n",
       "LP_STATUS_FEIN             4854\n",
       "LP_STATUS_GROB             4854\n",
       "NATIONALITAET_KZ         108315\n",
       "PRAEGENDE_JUGENDJAHRE    108164\n",
       "RETOURTYP_BK_S             4854\n",
       "SEMIO_SOZ                     0\n",
       "SEMIO_FAM                     0\n",
       "SEMIO_REL                     0\n",
       "SEMIO_MAT                     0\n",
       "SEMIO_VERT                    0\n",
       "SEMIO_LUST                    0\n",
       "                          ...  \n",
       "OST_WEST_KZ               93148\n",
       "WOHNLAGE                 100098\n",
       "CAMEO_DEUG_2015           98979\n",
       "CAMEO_DEU_2015            98979\n",
       "CAMEO_INTL_2015           98979\n",
       "KBA05_ANTG1              394373\n",
       "KBA05_ANTG2              425862\n",
       "KBA05_ANTG3              644869\n",
       "KBA05_ANTG4              733495\n",
       "KBA05_BAUMAX             476524\n",
       "KBA05_GBZ                133324\n",
       "BALLRAUM                  93740\n",
       "EWDICHTE                  93740\n",
       "INNENSTADT                93740\n",
       "GEBAEUDETYP_RASTER        93155\n",
       "KKK                      158064\n",
       "MOBI_REGIO               133324\n",
       "ONLINE_AFFINITAET         70570\n",
       "REGIOTYP                 158064\n",
       "KBA13_ANZAHL_PKW         105862\n",
       "PLZ8_ANTG1               121985\n",
       "PLZ8_ANTG2               123953\n",
       "PLZ8_ANTG3               236309\n",
       "PLZ8_ANTG4               472904\n",
       "PLZ8_BAUMAX              116515\n",
       "PLZ8_HHZ                 116515\n",
       "PLZ8_GBZ                 116515\n",
       "ARBEIT                    97375\n",
       "ORTSGR_KLS9               97274\n",
       "RELAT_AB                  97375\n",
       "Length: 85, dtype: int64"
      ]
     },
     "execution_count": 10,
     "metadata": {},
     "output_type": "execute_result"
    }
   ],
   "source": [
    "azdias_clean.isnull().sum() "
   ]
  },
  {
   "cell_type": "code",
   "execution_count": 11,
   "metadata": {},
   "outputs": [
    {
     "data": {
      "text/html": [
       "<div>\n",
       "<style scoped>\n",
       "    .dataframe tbody tr th:only-of-type {\n",
       "        vertical-align: middle;\n",
       "    }\n",
       "\n",
       "    .dataframe tbody tr th {\n",
       "        vertical-align: top;\n",
       "    }\n",
       "\n",
       "    .dataframe thead th {\n",
       "        text-align: right;\n",
       "    }\n",
       "</style>\n",
       "<table border=\"1\" class=\"dataframe\">\n",
       "  <thead>\n",
       "    <tr style=\"text-align: right;\">\n",
       "      <th></th>\n",
       "      <th>number_of_nulls</th>\n",
       "      <th>percentage_of_nulls</th>\n",
       "    </tr>\n",
       "  </thead>\n",
       "  <tbody>\n",
       "    <tr>\n",
       "      <th>AGER_TYP</th>\n",
       "      <td>685843</td>\n",
       "      <td>76.955435</td>\n",
       "    </tr>\n",
       "    <tr>\n",
       "      <th>ALTERSKATEGORIE_GROB</th>\n",
       "      <td>2881</td>\n",
       "      <td>0.323264</td>\n",
       "    </tr>\n",
       "    <tr>\n",
       "      <th>ANREDE_KZ</th>\n",
       "      <td>0</td>\n",
       "      <td>0.000000</td>\n",
       "    </tr>\n",
       "    <tr>\n",
       "      <th>CJT_GESAMTTYP</th>\n",
       "      <td>4854</td>\n",
       "      <td>0.544646</td>\n",
       "    </tr>\n",
       "    <tr>\n",
       "      <th>FINANZ_MINIMALIST</th>\n",
       "      <td>0</td>\n",
       "      <td>0.000000</td>\n",
       "    </tr>\n",
       "    <tr>\n",
       "      <th>FINANZ_SPARER</th>\n",
       "      <td>0</td>\n",
       "      <td>0.000000</td>\n",
       "    </tr>\n",
       "    <tr>\n",
       "      <th>FINANZ_VORSORGER</th>\n",
       "      <td>0</td>\n",
       "      <td>0.000000</td>\n",
       "    </tr>\n",
       "    <tr>\n",
       "      <th>FINANZ_ANLEGER</th>\n",
       "      <td>0</td>\n",
       "      <td>0.000000</td>\n",
       "    </tr>\n",
       "    <tr>\n",
       "      <th>FINANZ_UNAUFFAELLIGER</th>\n",
       "      <td>0</td>\n",
       "      <td>0.000000</td>\n",
       "    </tr>\n",
       "    <tr>\n",
       "      <th>FINANZ_HAUSBAUER</th>\n",
       "      <td>0</td>\n",
       "      <td>0.000000</td>\n",
       "    </tr>\n",
       "    <tr>\n",
       "      <th>FINANZTYP</th>\n",
       "      <td>0</td>\n",
       "      <td>0.000000</td>\n",
       "    </tr>\n",
       "    <tr>\n",
       "      <th>GEBURTSJAHR</th>\n",
       "      <td>392318</td>\n",
       "      <td>44.020282</td>\n",
       "    </tr>\n",
       "    <tr>\n",
       "      <th>GFK_URLAUBERTYP</th>\n",
       "      <td>4854</td>\n",
       "      <td>0.544646</td>\n",
       "    </tr>\n",
       "    <tr>\n",
       "      <th>GREEN_AVANTGARDE</th>\n",
       "      <td>715996</td>\n",
       "      <td>80.338771</td>\n",
       "    </tr>\n",
       "    <tr>\n",
       "      <th>HEALTH_TYP</th>\n",
       "      <td>111196</td>\n",
       "      <td>12.476816</td>\n",
       "    </tr>\n",
       "    <tr>\n",
       "      <th>LP_LEBENSPHASE_FEIN</th>\n",
       "      <td>97632</td>\n",
       "      <td>10.954859</td>\n",
       "    </tr>\n",
       "    <tr>\n",
       "      <th>LP_LEBENSPHASE_GROB</th>\n",
       "      <td>94572</td>\n",
       "      <td>10.611509</td>\n",
       "    </tr>\n",
       "    <tr>\n",
       "      <th>LP_FAMILIE_FEIN</th>\n",
       "      <td>77792</td>\n",
       "      <td>8.728699</td>\n",
       "    </tr>\n",
       "    <tr>\n",
       "      <th>LP_FAMILIE_GROB</th>\n",
       "      <td>77792</td>\n",
       "      <td>8.728699</td>\n",
       "    </tr>\n",
       "    <tr>\n",
       "      <th>LP_STATUS_FEIN</th>\n",
       "      <td>4854</td>\n",
       "      <td>0.544646</td>\n",
       "    </tr>\n",
       "    <tr>\n",
       "      <th>LP_STATUS_GROB</th>\n",
       "      <td>4854</td>\n",
       "      <td>0.544646</td>\n",
       "    </tr>\n",
       "    <tr>\n",
       "      <th>NATIONALITAET_KZ</th>\n",
       "      <td>108315</td>\n",
       "      <td>12.153551</td>\n",
       "    </tr>\n",
       "    <tr>\n",
       "      <th>PRAEGENDE_JUGENDJAHRE</th>\n",
       "      <td>108164</td>\n",
       "      <td>12.136608</td>\n",
       "    </tr>\n",
       "    <tr>\n",
       "      <th>RETOURTYP_BK_S</th>\n",
       "      <td>4854</td>\n",
       "      <td>0.544646</td>\n",
       "    </tr>\n",
       "    <tr>\n",
       "      <th>SEMIO_SOZ</th>\n",
       "      <td>0</td>\n",
       "      <td>0.000000</td>\n",
       "    </tr>\n",
       "    <tr>\n",
       "      <th>SEMIO_FAM</th>\n",
       "      <td>0</td>\n",
       "      <td>0.000000</td>\n",
       "    </tr>\n",
       "    <tr>\n",
       "      <th>SEMIO_REL</th>\n",
       "      <td>0</td>\n",
       "      <td>0.000000</td>\n",
       "    </tr>\n",
       "    <tr>\n",
       "      <th>SEMIO_MAT</th>\n",
       "      <td>0</td>\n",
       "      <td>0.000000</td>\n",
       "    </tr>\n",
       "    <tr>\n",
       "      <th>SEMIO_VERT</th>\n",
       "      <td>0</td>\n",
       "      <td>0.000000</td>\n",
       "    </tr>\n",
       "    <tr>\n",
       "      <th>SEMIO_LUST</th>\n",
       "      <td>0</td>\n",
       "      <td>0.000000</td>\n",
       "    </tr>\n",
       "    <tr>\n",
       "      <th>SEMIO_ERL</th>\n",
       "      <td>0</td>\n",
       "      <td>0.000000</td>\n",
       "    </tr>\n",
       "    <tr>\n",
       "      <th>SEMIO_KULT</th>\n",
       "      <td>0</td>\n",
       "      <td>0.000000</td>\n",
       "    </tr>\n",
       "    <tr>\n",
       "      <th>SEMIO_RAT</th>\n",
       "      <td>0</td>\n",
       "      <td>0.000000</td>\n",
       "    </tr>\n",
       "    <tr>\n",
       "      <th>SEMIO_KRIT</th>\n",
       "      <td>0</td>\n",
       "      <td>0.000000</td>\n",
       "    </tr>\n",
       "    <tr>\n",
       "      <th>SEMIO_DOM</th>\n",
       "      <td>0</td>\n",
       "      <td>0.000000</td>\n",
       "    </tr>\n",
       "    <tr>\n",
       "      <th>SEMIO_KAEM</th>\n",
       "      <td>0</td>\n",
       "      <td>0.000000</td>\n",
       "    </tr>\n",
       "    <tr>\n",
       "      <th>SEMIO_PFLICHT</th>\n",
       "      <td>0</td>\n",
       "      <td>0.000000</td>\n",
       "    </tr>\n",
       "    <tr>\n",
       "      <th>SEMIO_TRADV</th>\n",
       "      <td>0</td>\n",
       "      <td>0.000000</td>\n",
       "    </tr>\n",
       "    <tr>\n",
       "      <th>SHOPPER_TYP</th>\n",
       "      <td>238778</td>\n",
       "      <td>26.792232</td>\n",
       "    </tr>\n",
       "    <tr>\n",
       "      <th>SOHO_KZ</th>\n",
       "      <td>884333</td>\n",
       "      <td>99.227128</td>\n",
       "    </tr>\n",
       "    <tr>\n",
       "      <th>TITEL_KZ</th>\n",
       "      <td>889061</td>\n",
       "      <td>99.757636</td>\n",
       "    </tr>\n",
       "    <tr>\n",
       "      <th>VERS_TYP</th>\n",
       "      <td>111196</td>\n",
       "      <td>12.476816</td>\n",
       "    </tr>\n",
       "    <tr>\n",
       "      <th>ZABEOTYP</th>\n",
       "      <td>0</td>\n",
       "      <td>0.000000</td>\n",
       "    </tr>\n",
       "    <tr>\n",
       "      <th>ALTER_HH</th>\n",
       "      <td>310267</td>\n",
       "      <td>34.813699</td>\n",
       "    </tr>\n",
       "    <tr>\n",
       "      <th>ANZ_PERSONEN</th>\n",
       "      <td>107602</td>\n",
       "      <td>12.073549</td>\n",
       "    </tr>\n",
       "    <tr>\n",
       "      <th>ANZ_TITEL</th>\n",
       "      <td>888041</td>\n",
       "      <td>99.643186</td>\n",
       "    </tr>\n",
       "    <tr>\n",
       "      <th>HH_EINKOMMEN_SCORE</th>\n",
       "      <td>18348</td>\n",
       "      <td>2.058749</td>\n",
       "    </tr>\n",
       "    <tr>\n",
       "      <th>KK_KUNDENTYP</th>\n",
       "      <td>584612</td>\n",
       "      <td>65.596749</td>\n",
       "    </tr>\n",
       "    <tr>\n",
       "      <th>W_KEIT_KIND_HH</th>\n",
       "      <td>147988</td>\n",
       "      <td>16.605084</td>\n",
       "    </tr>\n",
       "    <tr>\n",
       "      <th>WOHNDAUER_2008</th>\n",
       "      <td>73499</td>\n",
       "      <td>8.247000</td>\n",
       "    </tr>\n",
       "  </tbody>\n",
       "</table>\n",
       "</div>"
      ],
      "text/plain": [
       "                       number_of_nulls  percentage_of_nulls\n",
       "AGER_TYP                        685843            76.955435\n",
       "ALTERSKATEGORIE_GROB              2881             0.323264\n",
       "ANREDE_KZ                            0             0.000000\n",
       "CJT_GESAMTTYP                     4854             0.544646\n",
       "FINANZ_MINIMALIST                    0             0.000000\n",
       "FINANZ_SPARER                        0             0.000000\n",
       "FINANZ_VORSORGER                     0             0.000000\n",
       "FINANZ_ANLEGER                       0             0.000000\n",
       "FINANZ_UNAUFFAELLIGER                0             0.000000\n",
       "FINANZ_HAUSBAUER                     0             0.000000\n",
       "FINANZTYP                            0             0.000000\n",
       "GEBURTSJAHR                     392318            44.020282\n",
       "GFK_URLAUBERTYP                   4854             0.544646\n",
       "GREEN_AVANTGARDE                715996            80.338771\n",
       "HEALTH_TYP                      111196            12.476816\n",
       "LP_LEBENSPHASE_FEIN              97632            10.954859\n",
       "LP_LEBENSPHASE_GROB              94572            10.611509\n",
       "LP_FAMILIE_FEIN                  77792             8.728699\n",
       "LP_FAMILIE_GROB                  77792             8.728699\n",
       "LP_STATUS_FEIN                    4854             0.544646\n",
       "LP_STATUS_GROB                    4854             0.544646\n",
       "NATIONALITAET_KZ                108315            12.153551\n",
       "PRAEGENDE_JUGENDJAHRE           108164            12.136608\n",
       "RETOURTYP_BK_S                    4854             0.544646\n",
       "SEMIO_SOZ                            0             0.000000\n",
       "SEMIO_FAM                            0             0.000000\n",
       "SEMIO_REL                            0             0.000000\n",
       "SEMIO_MAT                            0             0.000000\n",
       "SEMIO_VERT                           0             0.000000\n",
       "SEMIO_LUST                           0             0.000000\n",
       "SEMIO_ERL                            0             0.000000\n",
       "SEMIO_KULT                           0             0.000000\n",
       "SEMIO_RAT                            0             0.000000\n",
       "SEMIO_KRIT                           0             0.000000\n",
       "SEMIO_DOM                            0             0.000000\n",
       "SEMIO_KAEM                           0             0.000000\n",
       "SEMIO_PFLICHT                        0             0.000000\n",
       "SEMIO_TRADV                          0             0.000000\n",
       "SHOPPER_TYP                     238778            26.792232\n",
       "SOHO_KZ                         884333            99.227128\n",
       "TITEL_KZ                        889061            99.757636\n",
       "VERS_TYP                        111196            12.476816\n",
       "ZABEOTYP                             0             0.000000\n",
       "ALTER_HH                        310267            34.813699\n",
       "ANZ_PERSONEN                    107602            12.073549\n",
       "ANZ_TITEL                       888041            99.643186\n",
       "HH_EINKOMMEN_SCORE               18348             2.058749\n",
       "KK_KUNDENTYP                    584612            65.596749\n",
       "W_KEIT_KIND_HH                  147988            16.605084\n",
       "WOHNDAUER_2008                   73499             8.247000"
      ]
     },
     "execution_count": 11,
     "metadata": {},
     "output_type": "execute_result"
    }
   ],
   "source": [
    "# Investigate patterns in the amount of missing data in each column.\n",
    "col1 = azdias_clean.isnull().sum()  \n",
    "\n",
    "# Create a DatFrame of null values\n",
    "df_nulls = pd.DataFrame(data= col1, columns = ['number_of_nulls'])\n",
    "df_nulls['percentage_of_nulls'] = azdias_clean.isnull().sum() / len(azdias_clean) * 100\n",
    "df_nulls.head(50)"
   ]
  },
  {
   "cell_type": "code",
   "execution_count": 12,
   "metadata": {},
   "outputs": [
    {
     "data": {
      "text/plain": [
       "Text(0.5,1,'Missing value distribution for each column')"
      ]
     },
     "execution_count": 12,
     "metadata": {},
     "output_type": "execute_result"
    },
    {
     "data": {
      "image/png": "[encoded data removed]",
      "text/plain": [
       "<matplotlib.figure.Figure at 0x7ff9058bbba8>"
      ]
     },
     "metadata": {
      "needs_background": "light"
     },
     "output_type": "display_data"
    }
   ],
   "source": [
    "# Visualize the proportion of how much missing data there is in our columns\n",
    "plt.figure(figsize=(15,6))\n",
    "plt.hist(azdias_clean.isnull().sum() / len(azdias_clean) * 100);\n",
    "plt.xlabel('Percentage of missing values per column')\n",
    "plt.ylabel('Count of columns')\n",
    "plt.title('Missing value distribution for each column')\n"
   ]
  },
  {
   "cell_type": "code",
   "execution_count": 13,
   "metadata": {},
   "outputs": [
    {
     "data": {
      "text/plain": [
       "array(['AGER_TYP', 'GEBURTSJAHR', 'GREEN_AVANTGARDE', 'SHOPPER_TYP',\n",
       "       'SOHO_KZ', 'TITEL_KZ', 'ALTER_HH', 'ANZ_TITEL', 'KK_KUNDENTYP',\n",
       "       'ANZ_HH_TITEL', 'KBA05_ANTG1', 'KBA05_ANTG2', 'KBA05_ANTG3',\n",
       "       'KBA05_ANTG4', 'KBA05_BAUMAX', 'PLZ8_ANTG3', 'PLZ8_ANTG4'], dtype=object)"
      ]
     },
     "execution_count": 13,
     "metadata": {},
     "output_type": "execute_result"
    }
   ],
   "source": [
    "# Get column names of columns that have *over* 20% of null values\n",
    "high_null_count_cols = df_nulls.query('percentage_of_nulls > 20')\n",
    "high_null_count_cols.index.values"
   ]
  },
  {
   "cell_type": "code",
   "execution_count": 14,
   "metadata": {},
   "outputs": [
    {
     "data": {
      "text/plain": [
       "(891221, 68)"
      ]
     },
     "execution_count": 14,
     "metadata": {},
     "output_type": "execute_result"
    }
   ],
   "source": [
    "# Remove these columns from our dataset - they have too many null values\n",
    "remove_cols = high_null_count_cols.index.values\n",
    "azdias_clean.drop(remove_cols, axis = 1, inplace=True)\n",
    "\n",
    "# Check the new structure of our cleaned dataset\n",
    "azdias_clean.shape"
   ]
  },
  {
   "cell_type": "markdown",
   "metadata": {},
   "source": [
    "#### Discussion 1.1.2: Assess Missing Data in Each Column\n",
    "\n",
    "- Most columns have less than 20% of values that are missing. This was the threshold we chose to keep or remove columns from our dataset. All columns with over 20% of missing values were removed.\n",
    "\n",
    "- Here is a sample of the columns we removed from the dataset: \n",
    "\n",
    " 'AGER_TYP', 'GEBURTSJAHR', 'GREEN_AVANTGARDE', 'SHOPPER_TYP', 'SOHO_KZ', 'TITEL_KZ', 'ALTER_HH', 'ANZ_TITEL', 'KK_KUNDENTYP'. \n",
    " \n",
    "- The dataset contains columns that can be grouped. For example there are columns related to fiancial data that start with FINANZ. There are also personnality columns that begin with SEMIO. These columns usually have the same amount of missing values meaning they were probably gathered in the same research exercise."
   ]
  },
  {
   "cell_type": "markdown",
   "metadata": {},
   "source": [
    "#### Step 1.1.3: Assess Missing Data in Each Row\n",
    "\n",
    "Now, we'll perform a similar assessment for the rows of the dataset. How much data is missing in each row? As with the columns, we should see some groups of points that have a very different numbers of missing values. We'll divide the data into two subsets: one for data points that are above some threshold for missing values, and a second subset for points below that threshold.\n",
    "\n",
    "In order to know what to do with the outlier rows, we'll see if the distribution of data values on columns that are not missing data (or are missing very little data) are similar or different between the two groups. We'll select at least five of these columns and compare the distribution of values.\n",
    "\n",
    "If the distributions of non-missing features look similar between the data with many missing values and the data with few or no missing values, then we could argue that simply dropping those points from the analysis won't present a major issue. On the other hand, if the data with many missing values looks very different from the data with few or no missing values, then we should make a note on those data as special. We'll revisit these data later on. **Either way, for this project we will continue our analysis using just the subset of the data with few or no missing values.**"
   ]
  },
  {
   "cell_type": "code",
   "execution_count": 15,
   "metadata": {},
   "outputs": [
    {
     "data": {
      "text/plain": [
       "Text(0.5,1,'Missing value distribution for each row')"
      ]
     },
     "execution_count": 15,
     "metadata": {},
     "output_type": "execute_result"
    },
    {
     "data": {
      "image/png": "[encoded data removed]",
      "text/plain": [
       "<matplotlib.figure.Figure at 0x7ff8c783f9e8>"
      ]
     },
     "metadata": {
      "needs_background": "light"
     },
     "output_type": "display_data"
    }
   ],
   "source": [
    "# How much data is missing in each row of the dataset?\n",
    "plt.figure(figsize=(10,5))\n",
    "plt.hist(68 - azdias_clean.count(axis=1), bins=10);\n",
    "plt.xlabel('Number of missing values per row')\n",
    "plt.ylabel('Count of rows')\n",
    "plt.title('Missing value distribution for each row')"
   ]
  },
  {
   "cell_type": "code",
   "execution_count": 16,
   "metadata": {},
   "outputs": [
    {
     "data": {
      "text/plain": [
       "(719376, 171845)"
      ]
     },
     "execution_count": 16,
     "metadata": {},
     "output_type": "execute_result"
    }
   ],
   "source": [
    "# create 2 DataFrames where number of NaN values for each row is lower than 5, and greater or equal than 5\n",
    "low_nan_rows = azdias_clean[azdias_clean.isnull().sum(axis=1) < 5]\n",
    "high_nan_rows = azdias_clean[azdias_clean.isnull().sum(axis=1) >= 5]\n",
    "\n",
    "# Check how many total rows there are for both new datasets\n",
    "len(low_nan_rows), len(high_nan_rows)"
   ]
  },
  {
   "cell_type": "code",
   "execution_count": 17,
   "metadata": {},
   "outputs": [
    {
     "data": {
      "text/plain": [
       "Index(['ALTERSKATEGORIE_GROB', 'ANREDE_KZ', 'CJT_GESAMTTYP',\n",
       "       'FINANZ_MINIMALIST', 'FINANZ_SPARER', 'FINANZ_VORSORGER',\n",
       "       'FINANZ_ANLEGER', 'FINANZ_UNAUFFAELLIGER', 'FINANZ_HAUSBAUER',\n",
       "       'FINANZTYP', 'GFK_URLAUBERTYP', 'HEALTH_TYP', 'LP_LEBENSPHASE_FEIN',\n",
       "       'LP_LEBENSPHASE_GROB', 'LP_FAMILIE_FEIN', 'LP_FAMILIE_GROB',\n",
       "       'LP_STATUS_FEIN', 'LP_STATUS_GROB', 'NATIONALITAET_KZ',\n",
       "       'PRAEGENDE_JUGENDJAHRE', 'RETOURTYP_BK_S', 'SEMIO_SOZ', 'SEMIO_FAM',\n",
       "       'SEMIO_REL', 'SEMIO_MAT', 'SEMIO_VERT', 'SEMIO_LUST', 'SEMIO_ERL',\n",
       "       'SEMIO_KULT', 'SEMIO_RAT', 'SEMIO_KRIT', 'SEMIO_DOM', 'SEMIO_KAEM',\n",
       "       'SEMIO_PFLICHT', 'SEMIO_TRADV', 'VERS_TYP', 'ZABEOTYP', 'ANZ_PERSONEN',\n",
       "       'HH_EINKOMMEN_SCORE', 'W_KEIT_KIND_HH', 'WOHNDAUER_2008',\n",
       "       'ANZ_HAUSHALTE_AKTIV', 'GEBAEUDETYP', 'KONSUMNAEHE', 'MIN_GEBAEUDEJAHR',\n",
       "       'OST_WEST_KZ', 'WOHNLAGE', 'CAMEO_DEUG_2015', 'CAMEO_DEU_2015',\n",
       "       'CAMEO_INTL_2015', 'KBA05_GBZ', 'BALLRAUM', 'EWDICHTE', 'INNENSTADT',\n",
       "       'GEBAEUDETYP_RASTER', 'KKK', 'MOBI_REGIO', 'ONLINE_AFFINITAET',\n",
       "       'REGIOTYP', 'KBA13_ANZAHL_PKW', 'PLZ8_ANTG1', 'PLZ8_ANTG2',\n",
       "       'PLZ8_BAUMAX', 'PLZ8_HHZ', 'PLZ8_GBZ', 'ARBEIT', 'ORTSGR_KLS9',\n",
       "       'RELAT_AB'],\n",
       "      dtype='object')"
      ]
     },
     "execution_count": 17,
     "metadata": {},
     "output_type": "execute_result"
    }
   ],
   "source": [
    "# Compare the distribution of values for at least five columns where there are\n",
    "# no or few missing values, between the two subsets.\n",
    "\n",
    "# Find 5 columns with 0 missing values\n",
    "no_nan_values = (high_nan_rows.isnull().sum()) == 0\n",
    "no_nan_values.index"
   ]
  },
  {
   "cell_type": "code",
   "execution_count": 18,
   "metadata": {
    "scrolled": false
   },
   "outputs": [
    {
     "data": {
      "image/png": "[encoded data removed]",
      "text/plain": [
       "<matplotlib.figure.Figure at 0x7ff8c7770320>"
      ]
     },
     "metadata": {
      "needs_background": "light"
     },
     "output_type": "display_data"
    },
    {
     "data": {
      "image/png": "[encoded data removed]",
      "text/plain": [
       "<matplotlib.figure.Figure at 0x7ff8aad7c710>"
      ]
     },
     "metadata": {
      "needs_background": "light"
     },
     "output_type": "display_data"
    },
    {
     "data": {
      "image/png": "[encoded data removed]",
      "text/plain": [
       "<matplotlib.figure.Figure at 0x7ff8aad0cba8>"
      ]
     },
     "metadata": {
      "needs_background": "light"
     },
     "output_type": "display_data"
    },
    {
     "data": {
      "image/png": "[encoded data removed]",
      "text/plain": [
       "<matplotlib.figure.Figure at 0x7ff8aaca7d30>"
      ]
     },
     "metadata": {
      "needs_background": "light"
     },
     "output_type": "display_data"
    },
    {
     "data": {
      "image/png": "[encoded data removed]",
      "text/plain": [
       "<matplotlib.figure.Figure at 0x7ff8aabd81d0>"
      ]
     },
     "metadata": {
      "needs_background": "light"
     },
     "output_type": "display_data"
    }
   ],
   "source": [
    "# Get all cols with no missing values\n",
    "cols = list(no_nan_values.index)\n",
    "\n",
    "# Function that compares the distribution between our DataFrames of high and low amount of NaN values\n",
    "def compare_distrib(col_name):\n",
    "\n",
    "    base_color = sns.color_palette()[0]\n",
    "\n",
    "    fig = plt.figure(figsize=(15, 6))\n",
    "    plt.subplot(1, 2, 1)\n",
    "    ax1 = sns.countplot(x= col_name, data = high_nan_rows, color = base_color)\n",
    "    plt.title('Data with high amount of NaN values')\n",
    "\n",
    "    plt.subplot(1, 2, 2)\n",
    "    sns.countplot(x= col_name, data = low_nan_rows, color = base_color)\n",
    "    plt.title('Data with low amount of NaN values')\n",
    "\n",
    "# Compare 5 random distributions within the cols list\n",
    "for col in random.sample(cols, 5):\n",
    "    compare_distrib(col)"
   ]
  },
  {
   "cell_type": "markdown",
   "metadata": {},
   "source": [
    "#### Discussion 1.1.3: Assess Missing Data in Each Row\n",
    "\n",
    "Based on my observations, our dataset with lots of missing values has, for about 1/3rd of our columns, qualitatively different data than our dataset with few or no missing values. In other words, there is almost no difference in the distribution of values for 2/3rds of our columns, and a big difference for the remaining third. For example, the distributions are very different for the following columns: SEMIO_DOM, SEMIO_PFLICH, SEMIO_TRADV. \n",
    "\n",
    "In normal cases, we would want to keep the data with different distributions because in removing them we lose some of the variability of our dataset. \n",
    "\n",
    "As mentioned before, for the purposes of this project, **we will continue our analysis using just the subset of the data with few or no missing values.**"
   ]
  },
  {
   "cell_type": "code",
   "execution_count": 19,
   "metadata": {},
   "outputs": [
    {
     "data": {
      "text/plain": [
       "(719376, 68)"
      ]
     },
     "execution_count": 19,
     "metadata": {},
     "output_type": "execute_result"
    }
   ],
   "source": [
    "# use azdias_new for the remainder of our analysis\n",
    "azdias_new = low_nan_rows.copy()\n",
    "azdias_new.shape"
   ]
  },
  {
   "cell_type": "markdown",
   "metadata": {},
   "source": [
    "### Step 1.2: Select and Re-Encode Features\n",
    "\n",
    "Checking for missing data isn't the only way in which we can prepare a dataset for analysis. Since the unsupervised learning techniques to be used will only work on data that is encoded numerically, we need to make a few encoding changes or additional assumptions to be able to make progress. In addition, while almost all of the values in the dataset are encoded using numbers, not all of them represent numeric values. We can check the third column of the feature summary (`feat_info`) for a summary of types of measurement.\n",
    "- For numeric and interval data, these features can be kept without changes.\n",
    "- Most of the variables in the dataset are ordinal in nature. While ordinal values may technically be non-linear in spacing, we make the simplifying assumption that the ordinal variables can be treated as being interval in nature (that is, kept without any changes).\n",
    "\n",
    "In the first two parts of this sub-step, we will perform an investigation of the categorical and mixed-type features and make a decision on each of them, whether we will keep, drop, or re-encode each. Then, in the last part, we will create a new data frame with only the selected and engineered columns."
   ]
  },
  {
   "cell_type": "code",
   "execution_count": 20,
   "metadata": {},
   "outputs": [
    {
     "data": {
      "text/plain": [
       "Text(0.5,1,'Count of each data type')"
      ]
     },
     "execution_count": 20,
     "metadata": {},
     "output_type": "execute_result"
    },
    {
     "data": {
      "image/png": "[encoded data removed]",
      "text/plain": [
       "<matplotlib.figure.Figure at 0x7ff8aabfb710>"
      ]
     },
     "metadata": {
      "needs_background": "light"
     },
     "output_type": "display_data"
    }
   ],
   "source": [
    "# How many features are there of each data type? Let's visualize this first\n",
    "base_color = sns.color_palette()[0]\n",
    "sns.countplot(x='type', data= feat_info, color = base_color)\n",
    "plt.title('Count of each data type')"
   ]
  },
  {
   "cell_type": "code",
   "execution_count": 21,
   "metadata": {},
   "outputs": [
    {
     "data": {
      "text/plain": [
       "ordinal        49\n",
       "categorical    21\n",
       "numeric         7\n",
       "mixed           7\n",
       "interval        1\n",
       "Name: type, dtype: int64"
      ]
     },
     "execution_count": 21,
     "metadata": {},
     "output_type": "execute_result"
    }
   ],
   "source": [
    "feat_info.type.value_counts()"
   ]
  },
  {
   "cell_type": "markdown",
   "metadata": {},
   "source": [
    "#### Step 1.2.1: Re-Encode Categorical Features\n",
    "\n",
    "For categorical data, we would ordinarily need to encode the levels as dummy variables. Depending on the number of categories, we perform one of the following:\n",
    "- For binary (two-level) categoricals that take numeric values, we can keep them without needing to do anything.\n",
    "- There is one binary variable that takes on non-numeric values. For this one, we need to re-encode the values as numbers.\n",
    "- For multi-level categoricals (three or more values), we can choose to encode the values using multiple dummy variables (e.g. via [OneHotEncoder](http://scikit-learn.org/stable/modules/generated/sklearn.preprocessing.OneHotEncoder.html)), or (to keep things straightforward) just drop them from the analysis. "
   ]
  },
  {
   "cell_type": "code",
   "execution_count": 22,
   "metadata": {},
   "outputs": [
    {
     "data": {
      "text/plain": [
       "['AGER_TYP',\n",
       " 'ANREDE_KZ',\n",
       " 'CJT_GESAMTTYP',\n",
       " 'FINANZTYP',\n",
       " 'GFK_URLAUBERTYP',\n",
       " 'GREEN_AVANTGARDE',\n",
       " 'LP_FAMILIE_FEIN',\n",
       " 'LP_FAMILIE_GROB',\n",
       " 'LP_STATUS_FEIN',\n",
       " 'LP_STATUS_GROB',\n",
       " 'NATIONALITAET_KZ',\n",
       " 'SHOPPER_TYP',\n",
       " 'SOHO_KZ',\n",
       " 'TITEL_KZ',\n",
       " 'VERS_TYP',\n",
       " 'ZABEOTYP',\n",
       " 'KK_KUNDENTYP',\n",
       " 'GEBAEUDETYP',\n",
       " 'OST_WEST_KZ',\n",
       " 'CAMEO_DEUG_2015',\n",
       " 'CAMEO_DEU_2015']"
      ]
     },
     "execution_count": 22,
     "metadata": {},
     "output_type": "execute_result"
    }
   ],
   "source": [
    "# Get a list of all categorical columns \n",
    "category_data = feat_info.query('type == \"categorical\" ' ) \n",
    "cat_names = list(category_data.attribute.values)\n",
    "\n",
    "cat_names"
   ]
  },
  {
   "cell_type": "code",
   "execution_count": 23,
   "metadata": {
    "scrolled": false
   },
   "outputs": [
    {
     "name": "stdout",
     "output_type": "stream",
     "text": [
      "ANREDE_KZ:         [1 2]\n",
      "CJT_GESAMTTYP:         [  2.   5.   3.   4.   1.   6.  nan]\n",
      "FINANZTYP:         [4 1 6 5 2 3]\n",
      "GFK_URLAUBERTYP:         [ 10.   1.   5.  12.   9.   3.   8.  11.   4.   2.   7.   6.  nan]\n",
      "LP_FAMILIE_FEIN:         [  2.   5.   1.  nan  10.   7.  11.   3.   8.   4.   6.   9.]\n",
      "LP_FAMILIE_GROB:         [  2.   3.   1.  nan   5.   4.]\n",
      "LP_STATUS_FEIN:         [  1.   2.   3.   9.   4.  10.   5.   8.   6.   7.  nan]\n",
      "LP_STATUS_GROB:         [  1.   2.   4.   5.   3.  nan]\n",
      "NATIONALITAET_KZ:         [ nan   1.   3.   2.]\n",
      "VERS_TYP:         [ nan   2.   1.]\n",
      "ZABEOTYP:         [3 5 4 1 6 2]\n",
      "GEBAEUDETYP:         [ nan   8.   1.   3.   2.   6.   4.   5.]\n",
      "OST_WEST_KZ:         [nan 'W' 'O']\n",
      "CAMEO_DEUG_2015:         [nan '8' '4' '2' '6' '1' '9' '5' '7' '3' 'X']\n",
      "CAMEO_DEU_2015:         [nan '8A' '4C' '2A' '6B' '8C' '4A' '2D' '1A' '1E' '9D' '5C' '8B' '7A' '5D'\n",
      " '9E' '9B' '1B' '3D' '4E' '4B' '3C' '5A' '7B' '9A' '6D' '6E' '2C' '7C' '9C'\n",
      " '7D' '5E' '1D' '8D' '6C' '6A' '5B' '4D' '3A' '2B' '7E' '3B' '6F' '5F' '1C'\n",
      " 'XX']\n"
     ]
    }
   ],
   "source": [
    "# Print all possible values for our categorical features to see which ones to keep\n",
    "categorical_features = []\n",
    "for attr in cat_names:\n",
    "    if attr in (azdias_clean.columns):\n",
    "        print('{}:        '.format(attr), azdias_clean[attr].unique())\n",
    "        categorical_features.append(attr)"
   ]
  },
  {
   "cell_type": "code",
   "execution_count": 24,
   "metadata": {},
   "outputs": [
    {
     "data": {
      "text/plain": [
       "['CJT_GESAMTTYP',\n",
       " 'FINANZTYP',\n",
       " 'GFK_URLAUBERTYP',\n",
       " 'LP_FAMILIE_FEIN',\n",
       " 'LP_FAMILIE_GROB',\n",
       " 'LP_STATUS_FEIN',\n",
       " 'LP_STATUS_GROB',\n",
       " 'NATIONALITAET_KZ',\n",
       " 'ZABEOTYP',\n",
       " 'GEBAEUDETYP',\n",
       " 'CAMEO_DEUG_2015',\n",
       " 'CAMEO_DEU_2015']"
      ]
     },
     "execution_count": 24,
     "metadata": {},
     "output_type": "execute_result"
    }
   ],
   "source": [
    "# For simplicity, keep only categories that are binary\n",
    "cats_to_keep = ['ANREDE_KZ', 'VERS_TYP', 'OST_WEST_KZ']\n",
    "\n",
    "# Create a variable with categories we want to drop\n",
    "cats_to_drop = [e for e in categorical_features if e not in cats_to_keep]\n",
    "cats_to_drop"
   ]
  },
  {
   "cell_type": "code",
   "execution_count": 25,
   "metadata": {},
   "outputs": [
    {
     "data": {
      "text/plain": [
       "(719376, 56)"
      ]
     },
     "execution_count": 25,
     "metadata": {},
     "output_type": "execute_result"
    }
   ],
   "source": [
    "# Remove categories that are not binary from our dataframe\n",
    "azdias_new.drop(cats_to_drop, axis=1, inplace=True)\n",
    "azdias_new.shape"
   ]
  },
  {
   "cell_type": "code",
   "execution_count": 26,
   "metadata": {},
   "outputs": [],
   "source": [
    "# Re-encode 'OST_WEST_KZ' category\n",
    "azdias_new.OST_WEST_KZ.replace(('W', 'O'), (1, 0), inplace=True)"
   ]
  },
  {
   "cell_type": "markdown",
   "metadata": {},
   "source": [
    "#### Discussion 1.2.1: Re-Encode Categorical Features\n",
    "\n",
    "For the sake of simplicity, I decided to only keep categorical features that were binary. The categories that were kept were the following: 'ANREDE_KZ', 'VERS_TYP', 'OST_WEST_KZ'. \n",
    "\n",
    "For OST_WEST_KZ, I had to re-encode the data to numerical values so that our algorithm can interpret it. \n",
    "All other categorical features were removed. "
   ]
  },
  {
   "cell_type": "markdown",
   "metadata": {},
   "source": [
    "#### Step 1.2.2: Engineer Mixed-Type Features\n",
    "\n",
    "There are a handful of features that are marked as \"mixed\" in the feature summary that require special treatment in order to be included in the analysis. There are two in particular that deserve attention:\n",
    "- \"PRAEGENDE_JUGENDJAHRE\" combines information on three dimensions: generation by decade, movement (mainstream vs. avantgarde), and nation (east vs. west). While there aren't enough levels to disentangle east from west, we will create two new variables to capture the other two dimensions: an interval-type variable for decade, and a binary variable for movement.\n",
    "- \"CAMEO_INTL_2015\" combines information on two axes: wealth and life stage. Break up the two-digit codes by their 'tens'-place and 'ones'-place digits into two new ordinal variables (which, for the purposes of this project, is equivalent to just treating them as their raw numeric values).\n",
    "- If you decide to keep or engineer new features around the other mixed-type features, make sure you note your steps in the Discussion section.\n"
   ]
  },
  {
   "cell_type": "code",
   "execution_count": 27,
   "metadata": {},
   "outputs": [
    {
     "data": {
      "text/plain": [
       "array([ 14.,  15.,   8.,   3.,  10.,  11.,   9.,   6.,   4.,   5.,  nan,\n",
       "         2.,   1.,  12.,  13.,   7.])"
      ]
     },
     "execution_count": 27,
     "metadata": {},
     "output_type": "execute_result"
    }
   ],
   "source": [
    "# Check all values of PRAEGENDE_JUGENDJAHRE\n",
    "azdias_new.PRAEGENDE_JUGENDJAHRE.unique()"
   ]
  },
  {
   "cell_type": "code",
   "execution_count": 28,
   "metadata": {},
   "outputs": [],
   "source": [
    "# Investigate \"PRAEGENDE_JUGENDJAHRE\" and engineer two new variables.\n",
    "\n",
    "# Values associated with mainstream movement\n",
    "mainstream = [1, 3, 5, 8, 10, 12, 14]\n",
    "\n",
    "# Create new column with 0 for 'mainstream' and 1 for 'avantgarde'\n",
    "azdias_new['movement'] = np.where(azdias_new['PRAEGENDE_JUGENDJAHRE'].isin(mainstream), 0, 1) "
   ]
  },
  {
   "cell_type": "code",
   "execution_count": 29,
   "metadata": {},
   "outputs": [
    {
     "data": {
      "text/plain": [
       "0    548154\n",
       "1    171222\n",
       "Name: movement, dtype: int64"
      ]
     },
     "execution_count": 29,
     "metadata": {},
     "output_type": "execute_result"
    }
   ],
   "source": [
    "# check value counts\n",
    "azdias_new['movement'].value_counts()"
   ]
  },
  {
   "cell_type": "code",
   "execution_count": 30,
   "metadata": {},
   "outputs": [],
   "source": [
    "'''\n",
    "Numbers associated with decade: \n",
    "\n",
    "40s = 1, 2\n",
    "50s = 3, 4\n",
    "60s = 5, 6, 7\n",
    "70s = 8, 9 \n",
    "80s = 10, 11, 12, 13 \n",
    "90s = 14, 15\n",
    "'''\n",
    "\n",
    "# map old values to new decade values\n",
    "decade = {1:1, 2:1, 3:2, 4:2, 5:3, 6:3, 7:3, 8:4, 9:4, 10:5, 11:5, 12:5, 13:5, 14:6, 15:6}\n",
    "\n",
    "azdias_new['decade'] = azdias_new['PRAEGENDE_JUGENDJAHRE'].replace(decade)\n"
   ]
  },
  {
   "cell_type": "code",
   "execution_count": 31,
   "metadata": {},
   "outputs": [
    {
     "data": {
      "text/plain": [
       "6.0    207596\n",
       "4.0    162620\n",
       "5.0    140956\n",
       "3.0    106979\n",
       "2.0     69068\n",
       "1.0     24254\n",
       "Name: decade, dtype: int64"
      ]
     },
     "execution_count": 31,
     "metadata": {},
     "output_type": "execute_result"
    }
   ],
   "source": [
    "azdias_new['decade'].value_counts()"
   ]
  },
  {
   "cell_type": "code",
   "execution_count": 32,
   "metadata": {},
   "outputs": [
    {
     "data": {
      "text/plain": [
       "51    120572\n",
       "41     83636\n",
       "24     83390\n",
       "14     57683\n",
       "43     51707\n",
       "54     41368\n",
       "25     36436\n",
       "22     29939\n",
       "13     24104\n",
       "45     24067\n",
       "23     21755\n",
       "55     21232\n",
       "52     18597\n",
       "34     16722\n",
       "31     16139\n",
       "15     15875\n",
       "44     13437\n",
       "12     12105\n",
       "32      9498\n",
       "35      9401\n",
       "33      8896\n",
       "XX       277\n",
       "Name: CAMEO_INTL_2015, dtype: int64"
      ]
     },
     "execution_count": 32,
     "metadata": {},
     "output_type": "execute_result"
    }
   ],
   "source": [
    "# Investigate \"CAMEO_INTL_2015\" and engineer two new variables.\n",
    "'''\n",
    "11: Wealthy Households - Pre-Family Couples & Singles\n",
    "12: Wealthy Households - Young Couples With Children\n",
    "13: Wealthy Households - Families With School Age Children\n",
    "14: Wealthy Households - Older Families & Mature Couples\n",
    "15: Wealthy Households - Elders In Retirement\n",
    "21: Prosperous Households - Pre-Family Couples & Singles\n",
    "22: Prosperous Households - Young Couples With Children\n",
    "23: Prosperous Households - Families With School Age Children\n",
    "24: Prosperous Households - Older Families & Mature Couples\n",
    "25: Prosperous Households - Elders In Retirement\n",
    "31: Comfortable Households - Pre-Family Couples & Singles\n",
    "32: Comfortable Households - Young Couples With Children\n",
    "33: Comfortable Households - Families With School Age Children\n",
    "34: Comfortable Households - Older Families & Mature Couples\n",
    "35: Comfortable Households - Elders In Retirement\n",
    "41: Less Affluent Households - Pre-Family Couples & Singles\n",
    "42: Less Affluent Households - Young Couples With Children\n",
    "43: Less Affluent Households - Families With School Age Children\n",
    "44: Less Affluent Households - Older Families & Mature Couples\n",
    "45: Less Affluent Households - Elders In Retirement\n",
    "51: Poorer Households - Pre-Family Couples & Singles\n",
    "52: Poorer Households - Young Couples With Children\n",
    "53: Poorer Households - Families With School Age Children\n",
    "54: Poorer Households - Older Families & Mature Couples\n",
    "55: Poorer Households - Elders In Retirement\n",
    "XX: unknown'''\n",
    "azdias_new.CAMEO_INTL_2015.value_counts()"
   ]
  },
  {
   "cell_type": "code",
   "execution_count": 33,
   "metadata": {},
   "outputs": [],
   "source": [
    "# map old values to wealth and life_stage\n",
    "wealth = {11:1, 12:1, 13:1, 14:1, 15:1, \n",
    "          21:2, 22:2, 23:2, 24:2, 25:2, \n",
    "          31:3, 32:3, 33:3, 34:3, 35:3, \n",
    "          41:4, 42:4, 43:4, 44:4, 45:4,\n",
    "          51:5, 52:5, 53:5, 54:5, 55:5}\n",
    "\n",
    "life_stage = {11:1, 12:2, 13:3, 14:4, 15:5, \n",
    "              21:1, 22:2, 23:3, 24:4, 25:5, \n",
    "              31:1, 32:2, 33:3, 34:4, 35:5, \n",
    "              41:1, 42:2, 43:3, 44:4, 45:5,\n",
    "              51:1, 52:2, 53:3, 54:4, 55:5}\n",
    "# Convert value 'XX' to NaN \n",
    "azdias_new = azdias_new.replace('XX', np.nan)"
   ]
  },
  {
   "cell_type": "code",
   "execution_count": 34,
   "metadata": {},
   "outputs": [],
   "source": [
    "# Create 2 new columns with our maped values\n",
    "azdias_new['wealth'] = azdias_new['CAMEO_INTL_2015'].astype(float).replace(wealth)\n",
    "azdias_new['life_stage'] = azdias_new['CAMEO_INTL_2015'].astype(float).replace(life_stage)"
   ]
  },
  {
   "cell_type": "code",
   "execution_count": 35,
   "metadata": {},
   "outputs": [
    {
     "data": {
      "text/plain": [
       "5.0    201769\n",
       "4.0    172847\n",
       "2.0    171520\n",
       "1.0    109767\n",
       "3.0     60656\n",
       "Name: wealth, dtype: int64"
      ]
     },
     "execution_count": 35,
     "metadata": {},
     "output_type": "execute_result"
    }
   ],
   "source": [
    "azdias_new['wealth'].value_counts()"
   ]
  },
  {
   "cell_type": "code",
   "execution_count": 36,
   "metadata": {},
   "outputs": [
    {
     "data": {
      "text/plain": [
       "1.0    220347\n",
       "4.0    212600\n",
       "5.0    107011\n",
       "3.0    106462\n",
       "2.0     70139\n",
       "Name: life_stage, dtype: int64"
      ]
     },
     "execution_count": 36,
     "metadata": {},
     "output_type": "execute_result"
    }
   ],
   "source": [
    "azdias_new['life_stage'].value_counts()"
   ]
  },
  {
   "cell_type": "code",
   "execution_count": 37,
   "metadata": {},
   "outputs": [
    {
     "data": {
      "text/plain": [
       "(719376, 58)"
      ]
     },
     "execution_count": 37,
     "metadata": {},
     "output_type": "execute_result"
    }
   ],
   "source": [
    "# drop our old columns\n",
    "old_cols = ['PRAEGENDE_JUGENDJAHRE', 'CAMEO_INTL_2015']\n",
    "azdias_new.drop(old_cols, axis=1, inplace=True)\n",
    "\n",
    "# We should end up with 2 more columns than before: 58\n",
    "azdias_new.shape"
   ]
  },
  {
   "cell_type": "markdown",
   "metadata": {},
   "source": [
    "#### Discussion 1.2.2: Engineer Mixed-Type Features\n",
    "\n",
    "For mixed-types features I split \"PRAEGENDE_JUGENDJAHRE\" column into two new ones: 'movement' and 'decade'. \n",
    "\n",
    "Same for \"CAMEO_INTL_2015\" which was split in two new columns: 'life_stage' and 'wealth'. \n",
    "\n",
    "After the split, both \"PRAEGENDE_JUGENDJAHRE\" and \"CAMEO_INTL_2015\" were droped from our dataframe. "
   ]
  },
  {
   "cell_type": "markdown",
   "metadata": {},
   "source": [
    "### Step 1.3: Create a Cleaning Function\n",
    "\n",
    "Even though we've finished cleaning up the general population demographics data, it's important to look ahead to the future and realize that we'll need to perform the same cleaning steps on the customer demographics data. In this substep, complete the function below to execute the main feature selection, encoding, and re-engineering steps you performed above. Then, when it comes to looking at the customer data later on, we will just run this function on that DataFrame to get the trimmed dataset in a single step."
   ]
  },
  {
   "cell_type": "code",
   "execution_count": 38,
   "metadata": {},
   "outputs": [],
   "source": [
    "def clean_data(df_to_clean):\n",
    "    \"\"\"\n",
    "    Perform feature trimming, re-encoding, and engineering for demographics\n",
    "    data\n",
    "    \n",
    "    INPUT: Demographics DataFrame\n",
    "    OUTPUT: Trimmed and cleaned demographics DataFrame\n",
    "    \"\"\"\n",
    "    ### 1. Convert missing values ###\n",
    "    \n",
    "    # convert missing values [-1, 0] to NaNs for all columns\n",
    "    df_to_clean = df_to_clean.replace([-1,0], np.nan)\n",
    "    \n",
    "    # convert missing value '9' to NaNs just for certain columns\n",
    "    cols_with_9 = ['ALTERSKATEGORIE_GROB', 'SEMIO_SOZ', 'SEMIO_FAM', 'SEMIO_REL', \n",
    "                   'SEMIO_MAT', 'SEMIO_VERT', 'SEMIO_LUST', 'SEMIO_ERL', 'SEMIO_KULT', \n",
    "                   'SEMIO_RAT', 'SEMIO_KRIT', 'SEMIO_DOM', 'SEMIO_KAEM', 'SEMIO_PFLICHT', \n",
    "                   'SEMIO_TRADV', 'ZABEOTYP', 'ARBEIT', 'RELAT_AB']\n",
    "    \n",
    "    df_to_clean[cols_with_9] = df_to_clean[cols_with_9].replace(9, np.nan)\n",
    "    \n",
    "    \n",
    "    ### 2. Remove columns and rows ###\n",
    "    \n",
    "    # remove columns that have over 20% NaN among all values\n",
    "    remove_cols = ['AGER_TYP', 'GEBURTSJAHR', 'GREEN_AVANTGARDE', 'SHOPPER_TYP',\n",
    "                   'SOHO_KZ', 'TITEL_KZ', 'ALTER_HH', 'ANZ_TITEL', 'KK_KUNDENTYP', \n",
    "                   'ANZ_HH_TITEL', 'KBA05_ANTG1', 'KBA05_ANTG2', 'KBA05_ANTG3', 'KBA05_ANTG4', \n",
    "                   'KBA05_BAUMAX', 'PLZ8_ANTG3', 'PLZ8_ANTG4']\n",
    "    # Remove these columns from our dataset\n",
    "    df_to_clean.drop(remove_cols, axis = 1, inplace=True)\n",
    "    \n",
    "    # Remove rows where number of NaN values for each row is lower than 5\n",
    "    df_to_clean = df_to_clean[df_to_clean.isnull().sum(axis=1) < 5]\n",
    "    \n",
    "    \n",
    "    ### 3. Re-encode and enginner column values ### \n",
    "\n",
    "    # List of categories to drop\n",
    "    cats_to_drop = ['CJT_GESAMTTYP', 'FINANZTYP', 'GFK_URLAUBERTYP', 'LP_FAMILIE_FEIN', \n",
    "                    'LP_FAMILIE_GROB', 'LP_STATUS_FEIN', 'LP_STATUS_GROB', 'NATIONALITAET_KZ', \n",
    "                    'ZABEOTYP', 'GEBAEUDETYP', 'CAMEO_DEUG_2015', 'CAMEO_DEU_2015']\n",
    "    \n",
    "    # Remove categories that are not binary from our dataframe\n",
    "    df_to_clean.drop(cats_to_drop, axis=1, inplace=True)\n",
    "    # Re-encode 'OST_WEST_KZ' category\n",
    "    df_to_clean.OST_WEST_KZ.replace(('W', 'O'), (1, 0), inplace=True)\n",
    "\n",
    "    # Values associated with mainstream movement\n",
    "    mainstream = [1, 3, 5, 8, 10, 12, 14]\n",
    "\n",
    "    # Create new column with 0 for 'mainstream' and 1 for 'avantgarde'\n",
    "    df_to_clean['movement'] = np.where(df_to_clean['PRAEGENDE_JUGENDJAHRE'].isin(mainstream), 0, 1) \n",
    "\n",
    "    # map old values to new decade values\n",
    "    decade = {1:1, 2:1, 3:2, 4:2, 5:3, 6:3, 7:3, 8:4, 9:4, 10:5, 11:5, 12:5, 13:5, 14:6, 15:6}\n",
    "\n",
    "    df_to_clean['decade'] = df_to_clean['PRAEGENDE_JUGENDJAHRE'].replace(decade)\n",
    "    # map old values to wealth and life_stage\n",
    "    wealth = {11:1, 12:1, 13:1, 14:1, 15:1, 21:2, 22:2, 23:2, 24:2, 25:2, 31:3, 32:3, 33:3, 34:3, 35:3, 41:4, 42:4, 43:4, 44:4, 45:4,\n",
    "              51:5, 52:5, 53:5, 54:5, 55:5}\n",
    "\n",
    "    life_stage = {11:1, 12:2, 13:3, 14:4, 15:5, 21:1, 22:2, 23:3, 24:4, 25:5, 31:1, 32:2, 33:3, 34:4, 35:5, 41:1, 42:2, 43:3, 44:4, 45:5,\n",
    "                  51:1, 52:2, 53:3, 54:4, 55:5}\n",
    "    \n",
    "    # Convert value 'XX' to NaN \n",
    "    df_to_clean = df_to_clean.replace('XX', np.nan)\n",
    "\n",
    "    # Create 2 new columns with our maped values\n",
    "    df_to_clean['wealth'] = df_to_clean['CAMEO_INTL_2015'].astype(float).replace(wealth)\n",
    "    df_to_clean['life_stage'] = df_to_clean['CAMEO_INTL_2015'].astype(float).replace(life_stage)\n",
    "\n",
    "    # drop our old columns\n",
    "    old_cols = ['PRAEGENDE_JUGENDJAHRE', 'CAMEO_INTL_2015']\n",
    "    df_to_clean.drop(old_cols, axis=1, inplace=True)\n",
    "    \n",
    "    # Return the cleaned dataframe.\n",
    "    return df_to_clean\n",
    "    \n",
    "    "
   ]
  },
  {
   "cell_type": "markdown",
   "metadata": {},
   "source": [
    "## Step 2: Feature Transformation\n",
    "\n",
    "### Step 2.1: Apply Feature Scaling\n",
    "\n",
    "Before we apply dimensionality reduction techniques to the data, we need to perform feature scaling so that the principal component vectors are not influenced by the natural differences in scale for features. \n",
    "\n",
    "- sklearn requires that data not have missing values in order for its estimators to work properly. So, before applying the scaler to our data, we need make sure that we've cleaned the DataFrame of the remaining missing values. This can be as simple as just removing all data points with missing data, or applying an [Imputer](http://scikit-learn.org/stable/modules/generated/sklearn.preprocessing.Imputer.html) to replace all missing values. "
   ]
  },
  {
   "cell_type": "code",
   "execution_count": 39,
   "metadata": {},
   "outputs": [],
   "source": [
    "# Clean null values\n",
    "\n",
    "# First round of getting rid of null values. \n",
    "azdias_new.fillna(method='ffill', axis=0)\n",
    "\n",
    "# Second round of getting rid of null values with imputer\n",
    "imputer = Imputer(missing_values='NaN', strategy='most_frequent')\n",
    "df_azdias = pd.DataFrame(imputer.fit_transform(azdias_new))\n",
    "df_azdias.columns = azdias_new.columns\n",
    "df_azdias.index = azdias_new.index"
   ]
  },
  {
   "cell_type": "code",
   "execution_count": 40,
   "metadata": {},
   "outputs": [
    {
     "data": {
      "text/plain": [
       "ALTERSKATEGORIE_GROB     0\n",
       "ANREDE_KZ                0\n",
       "FINANZ_MINIMALIST        0\n",
       "FINANZ_SPARER            0\n",
       "FINANZ_VORSORGER         0\n",
       "FINANZ_ANLEGER           0\n",
       "FINANZ_UNAUFFAELLIGER    0\n",
       "FINANZ_HAUSBAUER         0\n",
       "HEALTH_TYP               0\n",
       "LP_LEBENSPHASE_FEIN      0\n",
       "LP_LEBENSPHASE_GROB      0\n",
       "RETOURTYP_BK_S           0\n",
       "SEMIO_SOZ                0\n",
       "SEMIO_FAM                0\n",
       "SEMIO_REL                0\n",
       "SEMIO_MAT                0\n",
       "SEMIO_VERT               0\n",
       "SEMIO_LUST               0\n",
       "SEMIO_ERL                0\n",
       "SEMIO_KULT               0\n",
       "SEMIO_RAT                0\n",
       "SEMIO_KRIT               0\n",
       "SEMIO_DOM                0\n",
       "SEMIO_KAEM               0\n",
       "SEMIO_PFLICHT            0\n",
       "SEMIO_TRADV              0\n",
       "VERS_TYP                 0\n",
       "ANZ_PERSONEN             0\n",
       "HH_EINKOMMEN_SCORE       0\n",
       "W_KEIT_KIND_HH           0\n",
       "WOHNDAUER_2008           0\n",
       "ANZ_HAUSHALTE_AKTIV      0\n",
       "KONSUMNAEHE              0\n",
       "MIN_GEBAEUDEJAHR         0\n",
       "OST_WEST_KZ              0\n",
       "WOHNLAGE                 0\n",
       "KBA05_GBZ                0\n",
       "BALLRAUM                 0\n",
       "EWDICHTE                 0\n",
       "INNENSTADT               0\n",
       "GEBAEUDETYP_RASTER       0\n",
       "KKK                      0\n",
       "MOBI_REGIO               0\n",
       "ONLINE_AFFINITAET        0\n",
       "REGIOTYP                 0\n",
       "KBA13_ANZAHL_PKW         0\n",
       "PLZ8_ANTG1               0\n",
       "PLZ8_ANTG2               0\n",
       "PLZ8_BAUMAX              0\n",
       "PLZ8_HHZ                 0\n",
       "PLZ8_GBZ                 0\n",
       "ARBEIT                   0\n",
       "ORTSGR_KLS9              0\n",
       "RELAT_AB                 0\n",
       "movement                 0\n",
       "decade                   0\n",
       "wealth                   0\n",
       "life_stage               0\n",
       "dtype: int64"
      ]
     },
     "execution_count": 40,
     "metadata": {},
     "output_type": "execute_result"
    }
   ],
   "source": [
    "# Check if there are null values remaining\n",
    "df_azdias.isnull().sum()"
   ]
  },
  {
   "cell_type": "code",
   "execution_count": 41,
   "metadata": {},
   "outputs": [
    {
     "data": {
      "text/plain": [
       "(719376, 58)"
      ]
     },
     "execution_count": 41,
     "metadata": {},
     "output_type": "execute_result"
    }
   ],
   "source": [
    "# Check if we will have our desired shape\n",
    "df_azdias.shape"
   ]
  },
  {
   "cell_type": "code",
   "execution_count": 42,
   "metadata": {},
   "outputs": [
    {
     "data": {
      "text/plain": [
       "(719376, 58)"
      ]
     },
     "execution_count": 42,
     "metadata": {},
     "output_type": "execute_result"
    }
   ],
   "source": [
    "# Apply feature scaling to the general population demographics data.\n",
    "scaler = StandardScaler()\n",
    "scaled_df =  scaler.fit_transform(df_azdias)\n",
    "scaled_df.shape"
   ]
  },
  {
   "cell_type": "markdown",
   "metadata": {},
   "source": [
    "### Discussion 2.1: Apply Feature Scaling\n",
    "\n",
    "In order to clean the missing values we did so in two steps: 1. Forward filling 2. Impute with most frequent. \n",
    "1. First round of getting rid of null values consisted of forward filling. This means that each null value is replaced by the value right before it. However, this technique doesn't fill all the null values in the dataset. \n",
    "\n",
    "Reasoning: Since some of the columns contain as much as 20% of null values, I didn't want to fill the null values with just 1 unique number. Forward filling might bias the data and give it a bit of randomness but we are not over representing the data with one chosen value. \n",
    "\n",
    "2. After forward filling, there still are some null values in the dataset. We use a 'most frequent' imputer to deal with the remaining null values. \n",
    "\n",
    "Once that was done we applied a standard scaler and fit_transformed the dataset. "
   ]
  },
  {
   "cell_type": "markdown",
   "metadata": {},
   "source": [
    "### Step 2.2: Perform Dimensionality Reduction\n",
    "\n",
    "We are now ready to apply dimensionality reduction techniques on our scaled dataset.\n",
    "\n",
    "- We will ue sklearn's [PCA](http://scikit-learn.org/stable/modules/generated/sklearn.decomposition.PCA.html) class to apply principal component analysis on the data, thus finding the vectors of maximal variance in the data. \n",
    "- We will then check out the ratio of variance explained by each principal component as well as the cumulative variance explained. "
   ]
  },
  {
   "cell_type": "code",
   "execution_count": 43,
   "metadata": {},
   "outputs": [
    {
     "data": {
      "text/plain": [
       "array([[ 3.76832693, -1.80288113, -3.12590032, ..., -0.36543019,\n",
       "        -0.51747838, -0.44078924],\n",
       "       [-0.18028224,  0.69851045, -3.06722011, ..., -1.02397373,\n",
       "        -0.31782557, -0.21122224],\n",
       "       [-0.17480574, -0.00891077,  3.28943061, ..., -0.32926164,\n",
       "         0.3150302 ,  0.73149334],\n",
       "       ..., \n",
       "       [ 3.18891779,  2.40040697,  1.3754668 , ..., -1.03696466,\n",
       "         0.06768043, -0.08876293],\n",
       "       [ 6.14548184, -1.73028709,  2.36963999, ...,  0.16303323,\n",
       "        -0.23064851,  0.01935581],\n",
       "       [-0.95888261,  0.29997724,  2.98320236, ..., -0.12785857,\n",
       "        -0.53431814, -0.60892068]])"
      ]
     },
     "execution_count": 43,
     "metadata": {},
     "output_type": "execute_result"
    }
   ],
   "source": [
    "# Apply PCA to the data with 25 components\n",
    "pca = PCA(n_components=25)\n",
    "pca.fit_transform(scaled_df)"
   ]
  },
  {
   "cell_type": "code",
   "execution_count": 44,
   "metadata": {},
   "outputs": [
    {
     "data": {
      "text/plain": [
       "array([ 0.16986668,  0.14331627,  0.10449819,  0.05661602,  0.04654677,\n",
       "        0.0358773 ,  0.0304516 ,  0.02665376,  0.02460171,  0.02264743,\n",
       "        0.02169643,  0.02036561,  0.01755365,  0.01639265,  0.01493044,\n",
       "        0.01446866,  0.0135496 ,  0.01278981,  0.01234942,  0.01156117,\n",
       "        0.01122083,  0.01056486,  0.00991057,  0.00877323,  0.00848974])"
      ]
     },
     "execution_count": 44,
     "metadata": {},
     "output_type": "execute_result"
    }
   ],
   "source": [
    "# Variance explained by each principal component\n",
    "pca.explained_variance_ratio_\n"
   ]
  },
  {
   "cell_type": "code",
   "execution_count": 45,
   "metadata": {},
   "outputs": [
    {
     "data": {
      "image/png": "[encoded data removed]",
      "text/plain": [
       "<matplotlib.figure.Figure at 0x7ff8aaba9e10>"
      ]
     },
     "metadata": {
      "needs_background": "light"
     },
     "output_type": "display_data"
    }
   ],
   "source": [
    "# Function that plots the variance accounted for by each principal component.\n",
    "def scree_plot(pca):\n",
    "    '''\n",
    "    Creates a scree plot associated with the principal components \n",
    "    \n",
    "    INPUT: pca - the result of instantian of PCA in scikit learn\n",
    "            \n",
    "    OUTPUT:\n",
    "            None\n",
    "    '''\n",
    "    num_components=len(pca.explained_variance_ratio_)\n",
    "    ind = np.arange(num_components)\n",
    "    vals = pca.explained_variance_ratio_\n",
    " \n",
    "    plt.figure(figsize=(17, 6))\n",
    "    ax = plt.subplot(111)\n",
    "    cumvals = np.cumsum(vals)\n",
    "    ax.bar(ind, vals)\n",
    "    ax.plot(ind, cumvals)\n",
    "    for i in range(num_components):\n",
    "        ax.annotate(r\"%s%%\" % ((str(vals[i]*100)[:4])), (ind[i]+0.2, vals[i]), va=\"bottom\", ha=\"center\", fontsize=10)\n",
    " \n",
    "    ax.xaxis.set_tick_params(width=0)\n",
    "    ax.yaxis.set_tick_params(width=2, length=12)\n",
    " \n",
    "    ax.set_xlabel(\"Principal Component\")\n",
    "    ax.set_ylabel(\"Variance Explained (%)\")\n",
    "    plt.title('Explained Variance Per Principal Component')\n",
    "\n",
    "scree_plot(pca)"
   ]
  },
  {
   "cell_type": "code",
   "execution_count": 46,
   "metadata": {},
   "outputs": [
    {
     "data": {
      "text/plain": [
       "array([[ 3.76832787, -1.80287767, -3.12590764, ...,  0.38882606,\n",
       "        -0.82871349, -0.69193317],\n",
       "       [-0.18028429,  0.69850513, -3.06721139, ...,  1.09465843,\n",
       "        -0.08009732, -0.21496404],\n",
       "       [-0.17480566, -0.00891221,  3.28943607, ..., -0.45902485,\n",
       "        -0.25748788,  1.3090009 ],\n",
       "       ..., \n",
       "       [ 3.18891909,  2.4004079 ,  1.3754527 , ..., -1.15008713,\n",
       "         0.69179438,  0.60803181],\n",
       "       [ 6.14548157, -1.73028705,  2.36962481, ..., -1.12390547,\n",
       "         0.90143515,  0.42069246],\n",
       "       [-0.95888306,  0.29997905,  2.98320463, ...,  1.34340557,\n",
       "        -0.81457302, -0.42834149]])"
      ]
     },
     "execution_count": 46,
     "metadata": {},
     "output_type": "execute_result"
    }
   ],
   "source": [
    "# Re-apply PCA to the data and keep principal components with an explained variance ratio above 1%\n",
    "pca = PCA(n_components=21)\n",
    "pca_X = pca.fit_transform(scaled_df)\n",
    "pca_X"
   ]
  },
  {
   "cell_type": "code",
   "execution_count": 47,
   "metadata": {},
   "outputs": [
    {
     "data": {
      "text/plain": [
       "0.82788836225257489"
      ]
     },
     "execution_count": 47,
     "metadata": {},
     "output_type": "execute_result"
    }
   ],
   "source": [
    "# Total variance explained with our 21 principal components\n",
    "pca.explained_variance_ratio_[:21].sum()"
   ]
  },
  {
   "cell_type": "markdown",
   "metadata": {},
   "source": [
    "### Discussion 2.2: Perform Dimensionality Reduction\n",
    "\n",
    "The explaned variance ratio for our first three components is: 16.9%, 14.3% and 10.4%. After that, the ratio drops to 5% and below. \n",
    "\n",
    "I decided to keep only the components where their explained variance ratio was above 1%. \n",
    "\n",
    "In doing this, our total explained variance ratio totaled 82.79%.  "
   ]
  },
  {
   "cell_type": "markdown",
   "metadata": {},
   "source": [
    "### Step 2.3: Interpret Principal Components\n",
    "\n",
    "Now that we have our transformed principal components, it's a nice idea to check out the weight of each variable on the first few components to see if they can be interpreted in some fashion.\n",
    "\n",
    "Each principal component is a unit vector that points in the direction of highest variance (after accounting for the variance captured by earlier principal components). The further a weight is from zero, the more the principal component is in the direction of the corresponding feature. If two features have large weights of the same sign (both positive or both negative), then increases in one tend expect to be associated with increases in the other. To contrast, features with different signs can be expected to show a negative correlation: increases in one variable should result in a decrease in the other.\n",
    "\n",
    "- To investigate the features, we will map each weight to their corresponding feature name, then sort the features according to weight. The most interesting features for each principal component, then, will be those at the beginning and end of the sorted list. We can use the data dictionary document to help us understand these most prominent features, their relationships, and what a positive or negative value on the principal component might indicate.\n",
    "- You will investigate and interpret feature associations from the first three principal components in this substep. "
   ]
  },
  {
   "cell_type": "code",
   "execution_count": 48,
   "metadata": {},
   "outputs": [
    {
     "data": {
      "text/html": [
       "<div>\n",
       "<style scoped>\n",
       "    .dataframe tbody tr th:only-of-type {\n",
       "        vertical-align: middle;\n",
       "    }\n",
       "\n",
       "    .dataframe tbody tr th {\n",
       "        vertical-align: top;\n",
       "    }\n",
       "\n",
       "    .dataframe thead th {\n",
       "        text-align: right;\n",
       "    }\n",
       "</style>\n",
       "<table border=\"1\" class=\"dataframe\">\n",
       "  <thead>\n",
       "    <tr style=\"text-align: right;\">\n",
       "      <th></th>\n",
       "      <th>Component 1</th>\n",
       "      <th>Component 2</th>\n",
       "      <th>Component 3</th>\n",
       "    </tr>\n",
       "  </thead>\n",
       "  <tbody>\n",
       "    <tr>\n",
       "      <th>FINANZ_SPARER</th>\n",
       "      <td>0.2137</td>\n",
       "      <td>-0.1763</td>\n",
       "      <td>-0.1090</td>\n",
       "    </tr>\n",
       "    <tr>\n",
       "      <th>PLZ8_BAUMAX</th>\n",
       "      <td>0.1882</td>\n",
       "      <td>0.1537</td>\n",
       "      <td>0.0576</td>\n",
       "    </tr>\n",
       "    <tr>\n",
       "      <th>SEMIO_REL</th>\n",
       "      <td>0.1841</td>\n",
       "      <td>-0.2159</td>\n",
       "      <td>0.0700</td>\n",
       "    </tr>\n",
       "    <tr>\n",
       "      <th>HH_EINKOMMEN_SCORE</th>\n",
       "      <td>0.1833</td>\n",
       "      <td>0.1165</td>\n",
       "      <td>-0.0085</td>\n",
       "    </tr>\n",
       "    <tr>\n",
       "      <th>SEMIO_PFLICHT</th>\n",
       "      <td>0.1817</td>\n",
       "      <td>-0.1799</td>\n",
       "      <td>-0.0825</td>\n",
       "    </tr>\n",
       "    <tr>\n",
       "      <th>wealth</th>\n",
       "      <td>0.1796</td>\n",
       "      <td>0.1361</td>\n",
       "      <td>0.0373</td>\n",
       "    </tr>\n",
       "    <tr>\n",
       "      <th>ORTSGR_KLS9</th>\n",
       "      <td>0.1770</td>\n",
       "      <td>0.1648</td>\n",
       "      <td>0.0577</td>\n",
       "    </tr>\n",
       "    <tr>\n",
       "      <th>decade</th>\n",
       "      <td>0.1745</td>\n",
       "      <td>-0.1954</td>\n",
       "      <td>-0.1156</td>\n",
       "    </tr>\n",
       "    <tr>\n",
       "      <th>EWDICHTE</th>\n",
       "      <td>0.1730</td>\n",
       "      <td>0.1640</td>\n",
       "      <td>0.0571</td>\n",
       "    </tr>\n",
       "    <tr>\n",
       "      <th>SEMIO_TRADV</th>\n",
       "      <td>0.1626</td>\n",
       "      <td>-0.1874</td>\n",
       "      <td>-0.0923</td>\n",
       "    </tr>\n",
       "    <tr>\n",
       "      <th>PLZ8_ANTG2</th>\n",
       "      <td>0.1473</td>\n",
       "      <td>0.1290</td>\n",
       "      <td>0.0435</td>\n",
       "    </tr>\n",
       "    <tr>\n",
       "      <th>SEMIO_RAT</th>\n",
       "      <td>0.1472</td>\n",
       "      <td>-0.1234</td>\n",
       "      <td>-0.2221</td>\n",
       "    </tr>\n",
       "    <tr>\n",
       "      <th>FINANZ_UNAUFFAELLIGER</th>\n",
       "      <td>0.1427</td>\n",
       "      <td>-0.1886</td>\n",
       "      <td>-0.1038</td>\n",
       "    </tr>\n",
       "    <tr>\n",
       "      <th>SEMIO_KULT</th>\n",
       "      <td>0.1334</td>\n",
       "      <td>-0.1976</td>\n",
       "      <td>0.2280</td>\n",
       "    </tr>\n",
       "    <tr>\n",
       "      <th>ARBEIT</th>\n",
       "      <td>0.1280</td>\n",
       "      <td>0.1193</td>\n",
       "      <td>0.0428</td>\n",
       "    </tr>\n",
       "    <tr>\n",
       "      <th>SEMIO_FAM</th>\n",
       "      <td>0.1272</td>\n",
       "      <td>-0.1605</td>\n",
       "      <td>0.2470</td>\n",
       "    </tr>\n",
       "    <tr>\n",
       "      <th>SEMIO_MAT</th>\n",
       "      <td>0.1263</td>\n",
       "      <td>-0.1309</td>\n",
       "      <td>0.0493</td>\n",
       "    </tr>\n",
       "    <tr>\n",
       "      <th>FINANZ_HAUSBAUER</th>\n",
       "      <td>0.1244</td>\n",
       "      <td>0.1682</td>\n",
       "      <td>-0.0304</td>\n",
       "    </tr>\n",
       "    <tr>\n",
       "      <th>FINANZ_ANLEGER</th>\n",
       "      <td>0.1222</td>\n",
       "      <td>-0.1759</td>\n",
       "      <td>-0.1958</td>\n",
       "    </tr>\n",
       "    <tr>\n",
       "      <th>RELAT_AB</th>\n",
       "      <td>0.1194</td>\n",
       "      <td>0.1140</td>\n",
       "      <td>0.0400</td>\n",
       "    </tr>\n",
       "    <tr>\n",
       "      <th>ANZ_HAUSHALTE_AKTIV</th>\n",
       "      <td>0.1167</td>\n",
       "      <td>0.1012</td>\n",
       "      <td>0.0310</td>\n",
       "    </tr>\n",
       "    <tr>\n",
       "      <th>SEMIO_SOZ</th>\n",
       "      <td>0.0709</td>\n",
       "      <td>-0.0964</td>\n",
       "      <td>0.2595</td>\n",
       "    </tr>\n",
       "    <tr>\n",
       "      <th>REGIOTYP</th>\n",
       "      <td>0.0536</td>\n",
       "      <td>0.0287</td>\n",
       "      <td>-0.0031</td>\n",
       "    </tr>\n",
       "    <tr>\n",
       "      <th>HEALTH_TYP</th>\n",
       "      <td>0.0501</td>\n",
       "      <td>-0.0394</td>\n",
       "      <td>-0.0215</td>\n",
       "    </tr>\n",
       "    <tr>\n",
       "      <th>KKK</th>\n",
       "      <td>0.0344</td>\n",
       "      <td>0.0081</td>\n",
       "      <td>-0.0129</td>\n",
       "    </tr>\n",
       "    <tr>\n",
       "      <th>PLZ8_HHZ</th>\n",
       "      <td>0.0332</td>\n",
       "      <td>0.0234</td>\n",
       "      <td>0.0030</td>\n",
       "    </tr>\n",
       "    <tr>\n",
       "      <th>VERS_TYP</th>\n",
       "      <td>0.0185</td>\n",
       "      <td>0.0406</td>\n",
       "      <td>0.0174</td>\n",
       "    </tr>\n",
       "    <tr>\n",
       "      <th>W_KEIT_KIND_HH</th>\n",
       "      <td>0.0162</td>\n",
       "      <td>0.1330</td>\n",
       "      <td>0.1010</td>\n",
       "    </tr>\n",
       "    <tr>\n",
       "      <th>SEMIO_KAEM</th>\n",
       "      <td>0.0088</td>\n",
       "      <td>0.1367</td>\n",
       "      <td>-0.3310</td>\n",
       "    </tr>\n",
       "    <tr>\n",
       "      <th>SEMIO_DOM</th>\n",
       "      <td>0.0084</td>\n",
       "      <td>0.0914</td>\n",
       "      <td>-0.3101</td>\n",
       "    </tr>\n",
       "    <tr>\n",
       "      <th>ONLINE_AFFINITAET</th>\n",
       "      <td>-0.0075</td>\n",
       "      <td>-0.1166</td>\n",
       "      <td>-0.0618</td>\n",
       "    </tr>\n",
       "    <tr>\n",
       "      <th>ANREDE_KZ</th>\n",
       "      <td>-0.0164</td>\n",
       "      <td>0.1045</td>\n",
       "      <td>-0.3653</td>\n",
       "    </tr>\n",
       "    <tr>\n",
       "      <th>SEMIO_VERT</th>\n",
       "      <td>-0.0206</td>\n",
       "      <td>-0.0955</td>\n",
       "      <td>0.3417</td>\n",
       "    </tr>\n",
       "    <tr>\n",
       "      <th>SEMIO_KRIT</th>\n",
       "      <td>-0.0234</td>\n",
       "      <td>0.1302</td>\n",
       "      <td>-0.2670</td>\n",
       "    </tr>\n",
       "    <tr>\n",
       "      <th>MIN_GEBAEUDEJAHR</th>\n",
       "      <td>-0.0440</td>\n",
       "      <td>-0.0658</td>\n",
       "      <td>-0.0219</td>\n",
       "    </tr>\n",
       "    <tr>\n",
       "      <th>OST_WEST_KZ</th>\n",
       "      <td>-0.0450</td>\n",
       "      <td>-0.0403</td>\n",
       "      <td>-0.0164</td>\n",
       "    </tr>\n",
       "    <tr>\n",
       "      <th>RETOURTYP_BK_S</th>\n",
       "      <td>-0.0721</td>\n",
       "      <td>0.1472</td>\n",
       "      <td>0.1229</td>\n",
       "    </tr>\n",
       "    <tr>\n",
       "      <th>KBA13_ANZAHL_PKW</th>\n",
       "      <td>-0.0738</td>\n",
       "      <td>-0.0673</td>\n",
       "      <td>-0.0304</td>\n",
       "    </tr>\n",
       "    <tr>\n",
       "      <th>WOHNLAGE</th>\n",
       "      <td>-0.0766</td>\n",
       "      <td>-0.0959</td>\n",
       "      <td>-0.0283</td>\n",
       "    </tr>\n",
       "    <tr>\n",
       "      <th>ANZ_PERSONEN</th>\n",
       "      <td>-0.0851</td>\n",
       "      <td>-0.1044</td>\n",
       "      <td>-0.0173</td>\n",
       "    </tr>\n",
       "    <tr>\n",
       "      <th>WOHNDAUER_2008</th>\n",
       "      <td>-0.0871</td>\n",
       "      <td>0.0270</td>\n",
       "      <td>0.0334</td>\n",
       "    </tr>\n",
       "    <tr>\n",
       "      <th>movement</th>\n",
       "      <td>-0.0946</td>\n",
       "      <td>-0.0328</td>\n",
       "      <td>0.0375</td>\n",
       "    </tr>\n",
       "    <tr>\n",
       "      <th>GEBAEUDETYP_RASTER</th>\n",
       "      <td>-0.1062</td>\n",
       "      <td>-0.0831</td>\n",
       "      <td>-0.0362</td>\n",
       "    </tr>\n",
       "    <tr>\n",
       "      <th>BALLRAUM</th>\n",
       "      <td>-0.1141</td>\n",
       "      <td>-0.1092</td>\n",
       "      <td>-0.0421</td>\n",
       "    </tr>\n",
       "    <tr>\n",
       "      <th>life_stage</th>\n",
       "      <td>-0.1233</td>\n",
       "      <td>-0.0413</td>\n",
       "      <td>-0.0139</td>\n",
       "    </tr>\n",
       "    <tr>\n",
       "      <th>LP_LEBENSPHASE_GROB</th>\n",
       "      <td>-0.1288</td>\n",
       "      <td>-0.1003</td>\n",
       "      <td>-0.0139</td>\n",
       "    </tr>\n",
       "    <tr>\n",
       "      <th>SEMIO_LUST</th>\n",
       "      <td>-0.1342</td>\n",
       "      <td>0.1475</td>\n",
       "      <td>0.0766</td>\n",
       "    </tr>\n",
       "    <tr>\n",
       "      <th>PLZ8_GBZ</th>\n",
       "      <td>-0.1460</td>\n",
       "      <td>-0.1266</td>\n",
       "      <td>-0.0477</td>\n",
       "    </tr>\n",
       "    <tr>\n",
       "      <th>LP_LEBENSPHASE_FEIN</th>\n",
       "      <td>-0.1465</td>\n",
       "      <td>-0.0994</td>\n",
       "      <td>-0.0108</td>\n",
       "    </tr>\n",
       "    <tr>\n",
       "      <th>SEMIO_ERL</th>\n",
       "      <td>-0.1471</td>\n",
       "      <td>0.2028</td>\n",
       "      <td>-0.1664</td>\n",
       "    </tr>\n",
       "    <tr>\n",
       "      <th>INNENSTADT</th>\n",
       "      <td>-0.1477</td>\n",
       "      <td>-0.1357</td>\n",
       "      <td>-0.0521</td>\n",
       "    </tr>\n",
       "    <tr>\n",
       "      <th>KONSUMNAEHE</th>\n",
       "      <td>-0.1490</td>\n",
       "      <td>-0.1271</td>\n",
       "      <td>-0.0468</td>\n",
       "    </tr>\n",
       "    <tr>\n",
       "      <th>KBA05_GBZ</th>\n",
       "      <td>-0.1804</td>\n",
       "      <td>-0.1484</td>\n",
       "      <td>-0.0346</td>\n",
       "    </tr>\n",
       "    <tr>\n",
       "      <th>FINANZ_VORSORGER</th>\n",
       "      <td>-0.1823</td>\n",
       "      <td>0.1796</td>\n",
       "      <td>0.1066</td>\n",
       "    </tr>\n",
       "    <tr>\n",
       "      <th>PLZ8_ANTG1</th>\n",
       "      <td>-0.1931</td>\n",
       "      <td>-0.1607</td>\n",
       "      <td>-0.0555</td>\n",
       "    </tr>\n",
       "    <tr>\n",
       "      <th>MOBI_REGIO</th>\n",
       "      <td>-0.1967</td>\n",
       "      <td>-0.1473</td>\n",
       "      <td>-0.0350</td>\n",
       "    </tr>\n",
       "    <tr>\n",
       "      <th>ALTERSKATEGORIE_GROB</th>\n",
       "      <td>-0.1995</td>\n",
       "      <td>0.2037</td>\n",
       "      <td>0.0894</td>\n",
       "    </tr>\n",
       "    <tr>\n",
       "      <th>FINANZ_MINIMALIST</th>\n",
       "      <td>-0.2380</td>\n",
       "      <td>-0.0158</td>\n",
       "      <td>0.1513</td>\n",
       "    </tr>\n",
       "  </tbody>\n",
       "</table>\n",
       "</div>"
      ],
      "text/plain": [
       "                       Component 1  Component 2  Component 3\n",
       "FINANZ_SPARER               0.2137      -0.1763      -0.1090\n",
       "PLZ8_BAUMAX                 0.1882       0.1537       0.0576\n",
       "SEMIO_REL                   0.1841      -0.2159       0.0700\n",
       "HH_EINKOMMEN_SCORE          0.1833       0.1165      -0.0085\n",
       "SEMIO_PFLICHT               0.1817      -0.1799      -0.0825\n",
       "wealth                      0.1796       0.1361       0.0373\n",
       "ORTSGR_KLS9                 0.1770       0.1648       0.0577\n",
       "decade                      0.1745      -0.1954      -0.1156\n",
       "EWDICHTE                    0.1730       0.1640       0.0571\n",
       "SEMIO_TRADV                 0.1626      -0.1874      -0.0923\n",
       "PLZ8_ANTG2                  0.1473       0.1290       0.0435\n",
       "SEMIO_RAT                   0.1472      -0.1234      -0.2221\n",
       "FINANZ_UNAUFFAELLIGER       0.1427      -0.1886      -0.1038\n",
       "SEMIO_KULT                  0.1334      -0.1976       0.2280\n",
       "ARBEIT                      0.1280       0.1193       0.0428\n",
       "SEMIO_FAM                   0.1272      -0.1605       0.2470\n",
       "SEMIO_MAT                   0.1263      -0.1309       0.0493\n",
       "FINANZ_HAUSBAUER            0.1244       0.1682      -0.0304\n",
       "FINANZ_ANLEGER              0.1222      -0.1759      -0.1958\n",
       "RELAT_AB                    0.1194       0.1140       0.0400\n",
       "ANZ_HAUSHALTE_AKTIV         0.1167       0.1012       0.0310\n",
       "SEMIO_SOZ                   0.0709      -0.0964       0.2595\n",
       "REGIOTYP                    0.0536       0.0287      -0.0031\n",
       "HEALTH_TYP                  0.0501      -0.0394      -0.0215\n",
       "KKK                         0.0344       0.0081      -0.0129\n",
       "PLZ8_HHZ                    0.0332       0.0234       0.0030\n",
       "VERS_TYP                    0.0185       0.0406       0.0174\n",
       "W_KEIT_KIND_HH              0.0162       0.1330       0.1010\n",
       "SEMIO_KAEM                  0.0088       0.1367      -0.3310\n",
       "SEMIO_DOM                   0.0084       0.0914      -0.3101\n",
       "ONLINE_AFFINITAET          -0.0075      -0.1166      -0.0618\n",
       "ANREDE_KZ                  -0.0164       0.1045      -0.3653\n",
       "SEMIO_VERT                 -0.0206      -0.0955       0.3417\n",
       "SEMIO_KRIT                 -0.0234       0.1302      -0.2670\n",
       "MIN_GEBAEUDEJAHR           -0.0440      -0.0658      -0.0219\n",
       "OST_WEST_KZ                -0.0450      -0.0403      -0.0164\n",
       "RETOURTYP_BK_S             -0.0721       0.1472       0.1229\n",
       "KBA13_ANZAHL_PKW           -0.0738      -0.0673      -0.0304\n",
       "WOHNLAGE                   -0.0766      -0.0959      -0.0283\n",
       "ANZ_PERSONEN               -0.0851      -0.1044      -0.0173\n",
       "WOHNDAUER_2008             -0.0871       0.0270       0.0334\n",
       "movement                   -0.0946      -0.0328       0.0375\n",
       "GEBAEUDETYP_RASTER         -0.1062      -0.0831      -0.0362\n",
       "BALLRAUM                   -0.1141      -0.1092      -0.0421\n",
       "life_stage                 -0.1233      -0.0413      -0.0139\n",
       "LP_LEBENSPHASE_GROB        -0.1288      -0.1003      -0.0139\n",
       "SEMIO_LUST                 -0.1342       0.1475       0.0766\n",
       "PLZ8_GBZ                   -0.1460      -0.1266      -0.0477\n",
       "LP_LEBENSPHASE_FEIN        -0.1465      -0.0994      -0.0108\n",
       "SEMIO_ERL                  -0.1471       0.2028      -0.1664\n",
       "INNENSTADT                 -0.1477      -0.1357      -0.0521\n",
       "KONSUMNAEHE                -0.1490      -0.1271      -0.0468\n",
       "KBA05_GBZ                  -0.1804      -0.1484      -0.0346\n",
       "FINANZ_VORSORGER           -0.1823       0.1796       0.1066\n",
       "PLZ8_ANTG1                 -0.1931      -0.1607      -0.0555\n",
       "MOBI_REGIO                 -0.1967      -0.1473      -0.0350\n",
       "ALTERSKATEGORIE_GROB       -0.1995       0.2037       0.0894\n",
       "FINANZ_MINIMALIST          -0.2380      -0.0158       0.1513"
      ]
     },
     "execution_count": 48,
     "metadata": {},
     "output_type": "execute_result"
    }
   ],
   "source": [
    "# index components for our dataframe\n",
    "components = [f'Component {i}' for i in range(1,len(pca.components_)+1)]\n",
    "\n",
    "# PCA components sorted\n",
    "df_components = pd.DataFrame(np.round(pca.components_, 4), columns = df_azdias.keys())\n",
    "df_components.index = components\n",
    "\n",
    "# sort by the first dimension\n",
    "df_components.sort_values(by=df_components.index[0], axis=1, ascending=False, inplace=True)\n",
    "\n",
    "# show the components of the first three dimensions\n",
    "df_components.iloc[:3].transpose()"
   ]
  },
  {
   "cell_type": "code",
   "execution_count": 49,
   "metadata": {},
   "outputs": [
    {
     "data": {
      "text/plain": [
       "FINANZ_SPARER            0.2137\n",
       "PLZ8_BAUMAX              0.1882\n",
       "SEMIO_REL                0.1841\n",
       "HH_EINKOMMEN_SCORE       0.1833\n",
       "SEMIO_PFLICHT            0.1817\n",
       "wealth                   0.1796\n",
       "ORTSGR_KLS9              0.1770\n",
       "decade                   0.1745\n",
       "EWDICHTE                 0.1730\n",
       "SEMIO_TRADV              0.1626\n",
       "PLZ8_ANTG2               0.1473\n",
       "SEMIO_RAT                0.1472\n",
       "FINANZ_UNAUFFAELLIGER    0.1427\n",
       "SEMIO_KULT               0.1334\n",
       "ARBEIT                   0.1280\n",
       "SEMIO_FAM                0.1272\n",
       "SEMIO_MAT                0.1263\n",
       "FINANZ_HAUSBAUER         0.1244\n",
       "FINANZ_ANLEGER           0.1222\n",
       "RELAT_AB                 0.1194\n",
       "ANZ_HAUSHALTE_AKTIV      0.1167\n",
       "SEMIO_SOZ                0.0709\n",
       "REGIOTYP                 0.0536\n",
       "HEALTH_TYP               0.0501\n",
       "KKK                      0.0344\n",
       "PLZ8_HHZ                 0.0332\n",
       "VERS_TYP                 0.0185\n",
       "W_KEIT_KIND_HH           0.0162\n",
       "SEMIO_KAEM               0.0088\n",
       "SEMIO_DOM                0.0084\n",
       "ONLINE_AFFINITAET       -0.0075\n",
       "ANREDE_KZ               -0.0164\n",
       "SEMIO_VERT              -0.0206\n",
       "SEMIO_KRIT              -0.0234\n",
       "MIN_GEBAEUDEJAHR        -0.0440\n",
       "OST_WEST_KZ             -0.0450\n",
       "RETOURTYP_BK_S          -0.0721\n",
       "KBA13_ANZAHL_PKW        -0.0738\n",
       "WOHNLAGE                -0.0766\n",
       "ANZ_PERSONEN            -0.0851\n",
       "WOHNDAUER_2008          -0.0871\n",
       "movement                -0.0946\n",
       "GEBAEUDETYP_RASTER      -0.1062\n",
       "BALLRAUM                -0.1141\n",
       "life_stage              -0.1233\n",
       "LP_LEBENSPHASE_GROB     -0.1288\n",
       "SEMIO_LUST              -0.1342\n",
       "PLZ8_GBZ                -0.1460\n",
       "LP_LEBENSPHASE_FEIN     -0.1465\n",
       "SEMIO_ERL               -0.1471\n",
       "INNENSTADT              -0.1477\n",
       "KONSUMNAEHE             -0.1490\n",
       "KBA05_GBZ               -0.1804\n",
       "FINANZ_VORSORGER        -0.1823\n",
       "PLZ8_ANTG1              -0.1931\n",
       "MOBI_REGIO              -0.1967\n",
       "ALTERSKATEGORIE_GROB    -0.1995\n",
       "FINANZ_MINIMALIST       -0.2380\n",
       "Name: Component 1, dtype: float64"
      ]
     },
     "execution_count": 49,
     "metadata": {},
     "output_type": "execute_result"
    }
   ],
   "source": [
    "# Create function to get list of sorted weights for each feature of a component we choose\n",
    "\n",
    "def get_sorted_weights_list(df, component):\n",
    "    \n",
    "    # Get sorted PCA components\n",
    "    df_components.sort_values(by=df_components.index[component], axis=1, ascending=False, inplace=True)\n",
    "    \n",
    "    # Get the top 6 weighted features\n",
    "    sorted_weights = df_components.iloc[component]\n",
    "    \n",
    "    return sorted_weights\n",
    "\n",
    "# Get sorted weights for the first dimension\n",
    "get_sorted_weights_list(df_azdias, 0)    "
   ]
  },
  {
   "cell_type": "code",
   "execution_count": 50,
   "metadata": {
    "scrolled": false
   },
   "outputs": [
    {
     "data": {
      "image/png": "[encoded data removed]",
      "text/plain": [
       "<matplotlib.figure.Figure at 0x7ff8aab37160>"
      ]
     },
     "metadata": {
      "needs_background": "light"
     },
     "output_type": "display_data"
    },
    {
     "data": {
      "image/png": "[encoded data removed]",
      "text/plain": [
       "<matplotlib.figure.Figure at 0x7ff8aaabbcf8>"
      ]
     },
     "metadata": {
      "needs_background": "light"
     },
     "output_type": "display_data"
    },
    {
     "data": {
      "image/png": "[encoded data removed]",
      "text/plain": [
       "<matplotlib.figure.Figure at 0x7ff8aaa9eda0>"
      ]
     },
     "metadata": {
      "needs_background": "light"
     },
     "output_type": "display_data"
    }
   ],
   "source": [
    "# Visualize the top 6 features for our first 3 components\n",
    "def plot_top_6_features(component):\n",
    "    \n",
    "    # Get sorted PCA components \n",
    "    df_components.sort_values(by=df_components.index[component], axis=1, ascending=False, inplace=True)\n",
    "    \n",
    "    # Get the top 6 weighted features\n",
    "    top_features = df_components.iloc[component][:3].append(df_components.iloc[component][-3:])\n",
    "    \n",
    "    fig, ax = plt.subplots(figsize = (10,8));\n",
    "\n",
    "    # Plot the feature weights as a function of the components\n",
    "    base_color = sns.color_palette(\"Blues\")\n",
    "    top_features.plot(kind='bar', color = base_color);\n",
    "    ax.set_ylabel(\"Feature Weights\")\n",
    "    ax.set_xticklabels(top_features.index, rotation=60);\n",
    "    ax.set_title(f'Top 6 feature weights for component {component}');\n",
    "    \n",
    "    return top_features\n",
    "\n",
    "# Get top features for the first 3 dimensions \n",
    "for dim in range(3):\n",
    "    plot_top_6_features(dim)"
   ]
  },
  {
   "cell_type": "markdown",
   "metadata": {},
   "source": [
    "### Discussion 2.3: Interpret Principal Components\n",
    "\n",
    "The features with the most importance for our **first** component are:\n",
    "- FINANZ_SPARER: Money-saver: from very low to very high\n",
    "- PLZ8_BAUMAX: Most common building type within the PLZ8 region\n",
    "- SEMIO_REL: Religious affinity\n",
    "- FINANZ_MINIMALIST: Low financial interest: from very low to very high\n",
    "- ALTERSKATEGORIE_GROB: Estimated age based on given name analysis\n",
    "- MOBI_REGIO: Movement patterns\n",
    "The first three features on the list seem to be positively correlated to one another because their weights are positive. Likewise for the bottom three features which have negative weights. \n",
    "\n",
    "The features with the most importance for our **second** component are:\n",
    "- ALTERSKATEGORIE_GROB: Estimated age based on given name analysis\n",
    "- SEMIO_REL: Religious affinity\n",
    "- FINANZ_VORSORGER: Financial typology - be prepared\n",
    "- SEMIO_ERL: Personality typology - event oriented\n",
    "- decade: The decade dominating the movement of a person's youth \n",
    "- SEMIO_KULT: Personality typology - Cultural minded\n",
    "The first three features on the list seem to be positively correlated to one another because their weights are positive. Likewise for the bottom three features which have negative weights. \n",
    "\n",
    "The features with the most importance for our **thrid** component are:\n",
    "- SEMIO_VERT: Personality typology - dreamful\n",
    "- SEMIO_SOZ: Personality typology - socially-minded\n",
    "- SEMIO_FAM: Personality typology - family-minded\n",
    "- ANDREDE_KZ: Info missing\n",
    "- SEMIO_KAEM: Personality typology - combative attitude\n",
    "- SEMIO_DOM: Personality typology - dominant-minded\n",
    "The first three features on the list seem to be positively correlated to one another because their weights are positive. Likewise for the bottom three features which have negative weights. \n",
    "\n"
   ]
  },
  {
   "cell_type": "markdown",
   "metadata": {},
   "source": [
    "## Step 3: Clustering\n",
    "\n",
    "### Step 3.1: Apply Clustering to General Population\n",
    "\n",
    "So far we've assessed and cleaned the demographics data, then scaled and transformed them. Now, it's time to see how the data clusters in the principal components space. In this substep, we will apply k-means clustering to the dataset and use the average within-cluster distances from each point to their assigned cluster's centroid to decide on a number of clusters to keep.\n"
   ]
  },
  {
   "cell_type": "code",
   "execution_count": 51,
   "metadata": {},
   "outputs": [
    {
     "data": {
      "text/plain": [
       "[<matplotlib.lines.Line2D at 0x7ff8aaa67a20>]"
      ]
     },
     "execution_count": 51,
     "metadata": {},
     "output_type": "execute_result"
    },
    {
     "data": {
      "image/png": "[encoded data removed]",
      "text/plain": [
       "<matplotlib.figure.Figure at 0x7ff8c783ffd0>"
      ]
     },
     "metadata": {
      "needs_background": "light"
     },
     "output_type": "display_data"
    }
   ],
   "source": [
    "clusters = []\n",
    "scores = []\n",
    "\n",
    "# Loop through the number of clusters and run k-means on the data\n",
    "for k in range(10):\n",
    "    k+= 1\n",
    "    kmeans = KMeans(k, n_jobs = -1).fit(pca_X)\n",
    "    score = np.abs(kmeans.score(pca_X))\n",
    "    scores.append(score)\n",
    "    clusters.append(k)\n",
    "\n",
    "# Graph the change in within-cluster distance across the number of clusters\n",
    "fig = plt.figure(figsize=(10,6))\n",
    "plt.plot(clusters, scores, linestyle='--', marker='o')  "
   ]
  },
  {
   "cell_type": "code",
   "execution_count": 52,
   "metadata": {},
   "outputs": [],
   "source": [
    "# Re-fit the k-means model with the selected number of clusters and obtain\n",
    "# cluster predictions for the general population demographics data.\n",
    "kmeans = KMeans(6, n_jobs = -1).fit(pca_X)\n",
    "general_labels = kmeans.predict(pca_X)"
   ]
  },
  {
   "cell_type": "markdown",
   "metadata": {},
   "source": [
    "### Discussion 3.1: Apply Clustering to General Population\n",
    "\n",
    "The number of centroids chosen is 6. After 6, our score continues to drop but in a less significant manner. We could have also chosen 8, because the scores decline notably less after as well. However in practice, my experience has shown that working with 6 groups, or personas is ideal. Less and we may miss our on characteristics of our customers. With more than 6 our groups tend to be smaller and it becomes hard to understand the differences between the groups.  "
   ]
  },
  {
   "cell_type": "markdown",
   "metadata": {},
   "source": [
    "### Step 3.2: Apply All Steps to the Customer Data\n",
    "\n",
    "Now that we have clusters and cluster centers for the general population, it's time to see how the customer data maps on to those clusters. We're going to use the fits from the general population to clean, transform, and cluster the customer data (which is different that refitting the data). In the last step of the project, we will interpret how the general population fits apply to the customer data."
   ]
  },
  {
   "cell_type": "code",
   "execution_count": 53,
   "metadata": {},
   "outputs": [
    {
     "data": {
      "text/html": [
       "<div>\n",
       "<style scoped>\n",
       "    .dataframe tbody tr th:only-of-type {\n",
       "        vertical-align: middle;\n",
       "    }\n",
       "\n",
       "    .dataframe tbody tr th {\n",
       "        vertical-align: top;\n",
       "    }\n",
       "\n",
       "    .dataframe thead th {\n",
       "        text-align: right;\n",
       "    }\n",
       "</style>\n",
       "<table border=\"1\" class=\"dataframe\">\n",
       "  <thead>\n",
       "    <tr style=\"text-align: right;\">\n",
       "      <th></th>\n",
       "      <th>AGER_TYP</th>\n",
       "      <th>ALTERSKATEGORIE_GROB</th>\n",
       "      <th>ANREDE_KZ</th>\n",
       "      <th>CJT_GESAMTTYP</th>\n",
       "      <th>FINANZ_MINIMALIST</th>\n",
       "      <th>FINANZ_SPARER</th>\n",
       "      <th>FINANZ_VORSORGER</th>\n",
       "      <th>FINANZ_ANLEGER</th>\n",
       "      <th>FINANZ_UNAUFFAELLIGER</th>\n",
       "      <th>FINANZ_HAUSBAUER</th>\n",
       "      <th>...</th>\n",
       "      <th>PLZ8_ANTG1</th>\n",
       "      <th>PLZ8_ANTG2</th>\n",
       "      <th>PLZ8_ANTG3</th>\n",
       "      <th>PLZ8_ANTG4</th>\n",
       "      <th>PLZ8_BAUMAX</th>\n",
       "      <th>PLZ8_HHZ</th>\n",
       "      <th>PLZ8_GBZ</th>\n",
       "      <th>ARBEIT</th>\n",
       "      <th>ORTSGR_KLS9</th>\n",
       "      <th>RELAT_AB</th>\n",
       "    </tr>\n",
       "  </thead>\n",
       "  <tbody>\n",
       "    <tr>\n",
       "      <th>0</th>\n",
       "      <td>2</td>\n",
       "      <td>4</td>\n",
       "      <td>1</td>\n",
       "      <td>5.0</td>\n",
       "      <td>5</td>\n",
       "      <td>1</td>\n",
       "      <td>5</td>\n",
       "      <td>1</td>\n",
       "      <td>2</td>\n",
       "      <td>2</td>\n",
       "      <td>...</td>\n",
       "      <td>3.0</td>\n",
       "      <td>3.0</td>\n",
       "      <td>1.0</td>\n",
       "      <td>0.0</td>\n",
       "      <td>1.0</td>\n",
       "      <td>5.0</td>\n",
       "      <td>5.0</td>\n",
       "      <td>1.0</td>\n",
       "      <td>2.0</td>\n",
       "      <td>1.0</td>\n",
       "    </tr>\n",
       "  </tbody>\n",
       "</table>\n",
       "<p>1 rows × 85 columns</p>\n",
       "</div>"
      ],
      "text/plain": [
       "   AGER_TYP  ALTERSKATEGORIE_GROB  ANREDE_KZ  CJT_GESAMTTYP  \\\n",
       "0         2                     4          1            5.0   \n",
       "\n",
       "   FINANZ_MINIMALIST  FINANZ_SPARER  FINANZ_VORSORGER  FINANZ_ANLEGER  \\\n",
       "0                  5              1                 5               1   \n",
       "\n",
       "   FINANZ_UNAUFFAELLIGER  FINANZ_HAUSBAUER    ...     PLZ8_ANTG1  PLZ8_ANTG2  \\\n",
       "0                      2                 2    ...            3.0         3.0   \n",
       "\n",
       "   PLZ8_ANTG3  PLZ8_ANTG4  PLZ8_BAUMAX  PLZ8_HHZ  PLZ8_GBZ  ARBEIT  \\\n",
       "0         1.0         0.0          1.0       5.0       5.0     1.0   \n",
       "\n",
       "   ORTSGR_KLS9  RELAT_AB  \n",
       "0          2.0       1.0  \n",
       "\n",
       "[1 rows x 85 columns]"
      ]
     },
     "execution_count": 53,
     "metadata": {},
     "output_type": "execute_result"
    }
   ],
   "source": [
    "# Load in the customer demographics data.\n",
    "customers = pd.read_csv('Udacity_CUSTOMERS_Subset.csv', sep=';')\n",
    "customers.head(1)"
   ]
  },
  {
   "cell_type": "code",
   "execution_count": 54,
   "metadata": {},
   "outputs": [],
   "source": [
    "# Apply preprocessing, feature transformation, and clustering from the general\n",
    "# demographics onto the customer data, obtaining cluster predictions for the\n",
    "# customer demographics data.\n",
    "customers = clean_data(customers)\n"
   ]
  },
  {
   "cell_type": "code",
   "execution_count": 55,
   "metadata": {},
   "outputs": [],
   "source": [
    "# Clean the customers dataset in the same way we cleaned the population dataset\n",
    "# First round of getting rid of null values. \n",
    "customers.fillna(method='ffill', axis=0)\n",
    "\n",
    "# Second round of getting rid of null values with imputer\n",
    "customers_cleaned = pd.DataFrame(imputer.fit_transform(customers))\n",
    "customers_cleaned.columns = customers.columns\n",
    "customers_cleaned.index = customers.index"
   ]
  },
  {
   "cell_type": "code",
   "execution_count": 56,
   "metadata": {},
   "outputs": [
    {
     "data": {
      "text/plain": [
       "(128401, 58)"
      ]
     },
     "execution_count": 56,
     "metadata": {},
     "output_type": "execute_result"
    }
   ],
   "source": [
    "# Check the shape of our cleaned customers DataFrame to see if the columns match our population dataset\n",
    "customers_cleaned.shape"
   ]
  },
  {
   "cell_type": "code",
   "execution_count": 57,
   "metadata": {},
   "outputs": [],
   "source": [
    "# Use the fitted scaler, pca, and kmeans to transform our customers DataFrame\n",
    "customers_X = scaler.transform(customers_cleaned)\n",
    "customers_pca = pca.transform(customers_X)\n",
    "customers_kmeans = kmeans.transform(customers_pca)\n",
    "\n",
    "# Get customer cluster predictions\n",
    "customer_labels = kmeans.predict(customers_pca)"
   ]
  },
  {
   "cell_type": "markdown",
   "metadata": {},
   "source": [
    "### Step 3.3: Compare Customer Data to Demographics Data\n",
    "\n",
    "At this point, we have clustered data based on demographics of the general population of Germany, and seen how the customer data for a mail-order sales company maps onto those demographic clusters. In this final substep, we will compare the two cluster distributions to see where the strongest customer base for the company is.\n",
    "\n",
    "We will consider the proportion of persons in each cluster for the general population, and the proportions for the customers. If we think the company's customer base to be universal, then the cluster assignment proportions should be fairly similar between the two. If there are only particular segments of the population that are interested in the company's products, then we should see a mismatch from one to the other. If there is a higher proportion of persons in a cluster for the customer data compared to the general population (e.g. 5% of persons are assigned to a cluster for the general population, but 15% of the customer data is closest to that cluster's centroid) then that suggests the people in that cluster to be a target audience for the company. On the other hand, the proportion of the data in a cluster being larger in the general population than the customer data (e.g. only 2% of customers closest to a population centroid that captures 6% of the data) suggests that group of persons to be outside of the target demographics.\n",
    "\n",
    "We will proceed with the following steps:\n",
    "\n",
    "- Compute and visualize the proportion of data points in each cluster for the general population and the customer data. \n",
    "- Find which cluster or clusters are overrepresented in the customer dataset compared to the general population. We will select at least one such cluster and infer what kind of people might be represented by that cluster. We will use the `.inverse_transform()` method of the PCA and StandardScaler objects to transform centroids back to the original data space and interpret the retrieved values.\n",
    "- We will then perform a similar investigation for the underrepresented clusters and find what kinds of people are typified by these clusters?"
   ]
  },
  {
   "cell_type": "code",
   "execution_count": 58,
   "metadata": {},
   "outputs": [
    {
     "name": "stdout",
     "output_type": "stream",
     "text": [
      "<class 'pandas.core.frame.DataFrame'>\n",
      "RangeIndex: 719376 entries, 0 to 719375\n",
      "Data columns (total 2 columns):\n",
      "general_labels     719376 non-null float64\n",
      "customer_labels    128401 non-null float64\n",
      "dtypes: float64(2)\n",
      "memory usage: 11.0 MB\n"
     ]
    }
   ],
   "source": [
    "# Create a dataframe with general population and customer cluster labels\n",
    "columns = ['general_labels', 'customer_labels']\n",
    "df = pd.DataFrame.from_dict({'general_labels':pd.Series(general_labels)+1, 'customer_labels':pd.Series(customer_labels)+1})\n",
    "\n",
    "# Convert column to floats to match the type of 'customer_labels'\n",
    "df.general_labels = df.general_labels.astype(float)\n",
    "df.info()"
   ]
  },
  {
   "cell_type": "code",
   "execution_count": 59,
   "metadata": {},
   "outputs": [
    {
     "data": {
      "text/plain": [
       "Text(0.5,1,'Customer Cluster Count')"
      ]
     },
     "execution_count": 59,
     "metadata": {},
     "output_type": "execute_result"
    },
    {
     "data": {
      "image/png": "[encoded data removed]",
      "text/plain": [
       "<matplotlib.figure.Figure at 0x7ff8aab33cc0>"
      ]
     },
     "metadata": {
      "needs_background": "light"
     },
     "output_type": "display_data"
    }
   ],
   "source": [
    "# Visualize the distribution of clusters\n",
    "fig = plt.figure(figsize=(15, 6))\n",
    "plt.subplot(1, 2, 1)\n",
    "sns.countplot(data = df, x='general_labels', color =  base_color)\n",
    "plt.xlabel('Clusters')\n",
    "plt.title('General Population Cluster Count')\n",
    "\n",
    "\n",
    "plt.subplot(1, 2, 2)\n",
    "sns.countplot(data = df, x='customer_labels', color = base_color)\n",
    "plt.xlabel('Clusters')\n",
    "plt.title('Customer Cluster Count')"
   ]
  },
  {
   "cell_type": "code",
   "execution_count": 60,
   "metadata": {},
   "outputs": [],
   "source": [
    "# Get cluster ratios\n",
    "customer_ratios = []\n",
    "general_ratios = []\n",
    "for n in range(6):\n",
    "    customer_ratios.append(list(customer_labels).count(n) / len(customer_labels))\n",
    "    general_ratios.append(list(general_labels).count(n) / len(general_labels))"
   ]
  },
  {
   "cell_type": "code",
   "execution_count": 61,
   "metadata": {},
   "outputs": [
    {
     "data": {
      "text/html": [
       "<div>\n",
       "<style scoped>\n",
       "    .dataframe tbody tr th:only-of-type {\n",
       "        vertical-align: middle;\n",
       "    }\n",
       "\n",
       "    .dataframe tbody tr th {\n",
       "        vertical-align: top;\n",
       "    }\n",
       "\n",
       "    .dataframe thead th {\n",
       "        text-align: right;\n",
       "    }\n",
       "</style>\n",
       "<table border=\"1\" class=\"dataframe\">\n",
       "  <thead>\n",
       "    <tr style=\"text-align: right;\">\n",
       "      <th></th>\n",
       "      <th>Cluster_1</th>\n",
       "      <th>Cluster_2</th>\n",
       "      <th>Cluster_3</th>\n",
       "      <th>Cluster_4</th>\n",
       "      <th>Cluster_5</th>\n",
       "      <th>Cluster_6</th>\n",
       "    </tr>\n",
       "  </thead>\n",
       "  <tbody>\n",
       "    <tr>\n",
       "      <th>Customer_ratios</th>\n",
       "      <td>0.018209</td>\n",
       "      <td>0.112546</td>\n",
       "      <td>0.195544</td>\n",
       "      <td>0.016596</td>\n",
       "      <td>0.530011</td>\n",
       "      <td>0.127094</td>\n",
       "    </tr>\n",
       "    <tr>\n",
       "      <th>General_ratios</th>\n",
       "      <td>0.182044</td>\n",
       "      <td>0.148825</td>\n",
       "      <td>0.183811</td>\n",
       "      <td>0.138851</td>\n",
       "      <td>0.197948</td>\n",
       "      <td>0.148522</td>\n",
       "    </tr>\n",
       "  </tbody>\n",
       "</table>\n",
       "</div>"
      ],
      "text/plain": [
       "                 Cluster_1  Cluster_2  Cluster_3  Cluster_4  Cluster_5  \\\n",
       "Customer_ratios   0.018209   0.112546   0.195544   0.016596   0.530011   \n",
       "General_ratios    0.182044   0.148825   0.183811   0.138851   0.197948   \n",
       "\n",
       "                 Cluster_6  \n",
       "Customer_ratios   0.127094  \n",
       "General_ratios    0.148522  "
      ]
     },
     "execution_count": 61,
     "metadata": {},
     "output_type": "execute_result"
    }
   ],
   "source": [
    "# Create the Ratios DF\n",
    "columns = ['Cluster_1', 'Cluster_2', 'Cluster_3', 'Cluster_4', 'Cluster_5', 'Cluster_6']\n",
    "index = ['Customer_ratios', 'General_ratios']\n",
    "df2 = pd.DataFrame([customer_ratios, general_ratios], columns=columns, index=index)\n",
    "df2"
   ]
  },
  {
   "cell_type": "code",
   "execution_count": 62,
   "metadata": {},
   "outputs": [
    {
     "data": {
      "text/plain": [
       "<matplotlib.axes._subplots.AxesSubplot at 0x7ff8c7746e48>"
      ]
     },
     "execution_count": 62,
     "metadata": {},
     "output_type": "execute_result"
    },
    {
     "data": {
      "image/png": "[encoded data removed]",
      "text/plain": [
       "<matplotlib.figure.Figure at 0x7ff8aadeeef0>"
      ]
     },
     "metadata": {
      "needs_background": "light"
     },
     "output_type": "display_data"
    }
   ],
   "source": [
    "# plot the cluster ratios and compare\n",
    "df2.plot(kind = 'bar', figsize=(12, 6), colormap = 'Blues')"
   ]
  },
  {
   "cell_type": "code",
   "execution_count": 63,
   "metadata": {},
   "outputs": [],
   "source": [
    "# Choose a cluster and use inverse_transform to retrieve info about the cluster\n",
    "def cluster_representation(k, kmeans_predictions):\n",
    "\n",
    "    # inverse scale and inverse transform our PCA data for the chosen cluster\n",
    "    cluster_data = scaler.inverse_transform(pca.inverse_transform(pca_X[kmeans_predictions==k]))\n",
    "\n",
    "    # create a dataframe of our cluster and round the numbers \n",
    "    df_cluster = pd.DataFrame(cluster_data.round(), columns = customers_cleaned.columns)\n",
    "    \n",
    "    # Take the features that had the highest weights for the first principal component\n",
    "    # These were the features that had the highest importance - let's visualize them with only the data of our cluster\n",
    "    cols = ['FINANZ_SPARER', 'FINANZ_MINIMALIST', 'ALTERSKATEGORIE_GROB', 'PLZ8_BAUMAX', 'SEMIO_REL', 'MOBI_REGIO']\n",
    "    \n",
    "    # Plot distribution of most important features for our cluster\n",
    "    fig, axes = plt.subplots(2, 3) # grid of 2x3 subplots\n",
    "    fig.set_figheight(10)\n",
    "    fig.set_figwidth(15)\n",
    "    axes = axes.flatten() # reshape from 2x3 array into 6-element vector\n",
    "    for i in range(6):\n",
    "        plt.sca(axes[i]) # set the current Axes\n",
    "        sns.countplot(x=cols[i], data = df_cluster, color = base_color)\n"
   ]
  },
  {
   "cell_type": "code",
   "execution_count": 73,
   "metadata": {},
   "outputs": [
    {
     "data": {
      "image/png": "[encoded data removed]",
      "text/plain": [
       "<matplotlib.figure.Figure at 0x7ff8aa6de6a0>"
      ]
     },
     "metadata": {
      "needs_background": "light"
     },
     "output_type": "display_data"
    }
   ],
   "source": [
    "# Check demographics of people in cluster 5, which is most represented cluster in our customer dataset\n",
    "cluster_representation(5, kmeans_predictions=general_labels)\n"
   ]
  },
  {
   "cell_type": "code",
   "execution_count": 72,
   "metadata": {},
   "outputs": [
    {
     "data": {
      "image/png": "[encoded data removed]",
      "text/plain": [
       "<matplotlib.figure.Figure at 0x7ff8aac742b0>"
      ]
     },
     "metadata": {
      "needs_background": "light"
     },
     "output_type": "display_data"
    }
   ],
   "source": [
    "# Check demographics of people in cluster 1, which is most unrepresented cluster in our customer dataset\n",
    "cluster_representation(0, kmeans_predictions=general_labels)\n"
   ]
  },
  {
   "cell_type": "markdown",
   "metadata": {},
   "source": [
    "### Discussion 3.3: Compare Customer Data to Demographics Data\n",
    "\n",
    "- Cluster #5 represents about 53% of the customer dataset. Clusters 1 and 4 are barely represented with ratios of 1.6% and 1.8% only. This means that we can use cluster #5's information to target similar profiles in the population. \n",
    "\n",
    "Let's analyse cluster #5 more closely:  \n",
    "- FINANZ_SPARER: People in cluster #5 tend to be high money savers. In contrast, people in cluster #1 are the oposite. \n",
    "- FINANZ_MINIMALIST: The vast majority have average to low financial interest where as cluster #1 contains people with very high financial interest. \n",
    "- ALTERSKATEGORIE_GROB: The majority of cluster #5 is aged between 46 and 60. Another big age group is over 60 years old. \n",
    "- PLZ8_BAUMAX: The building type within the PLZ8 region is similar between the clusters. \n",
    "- SEMIO_REL: Cluster #5 contains people with average religious affinity. Underrepresented clusters like #1 have, in comparison, low to very low religious affinity. \n",
    "- MOBI_REGIO: This features measures one's movement pattern. Cluster 6 is associated with people that have mostly high to very high movement. \n",
    "\n",
    "\n",
    "\n",
    "## Assumptions and limitations\n",
    "\n",
    "- A lot of the variables in the dataset are ordinal. While ordinal values may technically be non-linear in spacing, we make the simplifying assumption that the ordinal variables can be treated as being interval in nature (that is, kept without any changes).\n",
    "- We removed a lot of categorical features which could have contained important information. We made this decision to keep our model simple. \n",
    "- There are a few features of type 'mixed' which we left untouched. We could have split them into multiple features because each unique value contains more than 1 type of information. These mixed features were left untouched to keep the model simple. \n",
    "- The clustering algorithm used was kmeans. Other types of clustering algorithms could have been used and compared which each other. \n",
    "\n"
   ]
  }
 ],
 "metadata": {
  "kernelspec": {
   "display_name": "Python 3",
   "language": "python",
   "name": "python3"
  },
  "language_info": {
   "codemirror_mode": {
    "name": "ipython",
    "version": 3
   },
   "file_extension": ".py",
   "mimetype": "text/x-python",
   "name": "python",
   "nbconvert_exporter": "python",
   "pygments_lexer": "ipython3",
   "version": "3.6.3"
  }
 },
 "nbformat": 4,
 "nbformat_minor": 2
}
