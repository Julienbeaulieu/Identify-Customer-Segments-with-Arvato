{
 "cells": [
  {
   "cell_type": "markdown",
   "metadata": {},
   "source": [
    "# Project: Identify Customer Segments\n",
    "\n",
    "In this project, we apply unsupervised learning techniques to identify segments of the population that form the core customer base for a mail-order sales company in Germany. These segments can then be used to direct marketing campaigns towards audiences that will have the highest expected rate of returns. The data that we use has been provided by Udacity partners at Bertelsmann Arvato Analytics, and represents a real-life data science task."
   ]
  },
  {
   "cell_type": "code",
   "execution_count": 59,
   "metadata": {},
   "outputs": [],
   "source": [
    "# import libraries here; add more as necessary\n",
    "import numpy as np\n",
    "import pandas as pd\n",
    "import matplotlib.pyplot as plt\n",
    "import seaborn as sns\n",
    "import random\n",
    "\n",
    "from sklearn.preprocessing import StandardScaler, Imputer\n",
    "from sklearn.decomposition import PCA\n",
    "from sklearn.cluster import KMeans\n",
    "\n",
    "# magic word for producing visualizations in notebook\n",
    "%matplotlib inline"
   ]
  },
  {
   "cell_type": "markdown",
   "metadata": {},
   "source": [
    "### Step 0: Load the Data\n",
    "\n",
    "There are four files associated with this project (not including this one):\n",
    "\n",
    "- `Udacity_AZDIAS_Subset.csv`: Demographics data for the general population of Germany; 891211 persons (rows) x 85 features (columns).\n",
    "- `Udacity_CUSTOMERS_Subset.csv`: Demographics data for customers of a mail-order company; 191652 persons (rows) x 85 features (columns).\n",
    "- `Data_Dictionary.md`: Detailed information file about the features in the provided datasets.\n",
    "- `AZDIAS_Feature_Summary.csv`: Summary of feature attributes for demographics data; 85 features (rows) x 4 columns\n",
    "\n",
    "Each row of the demographics files represents a single person, but also includes information outside of individuals, including information about their household, building, and neighborhood. We will:\n",
    "\n",
    "1. Use this information to cluster the general population into groups with similar demographic properties. \n",
    "2. See how the people in the customers dataset fit into those created clusters. \n",
    "\n",
    "The hope here is that certain clusters are over-represented in the customers data, as compared to the general population; those over-represented clusters will be assumed to be part of the core userbase. This information can then be used for further applications, such as targeting for a marketing campaign.\n",
    "\n",
    "To start off with, we load in the demographics data for the general population into a pandas DataFrame as well as the Feature Summary csv. "
   ]
  },
  {
   "cell_type": "code",
   "execution_count": 60,
   "metadata": {},
   "outputs": [],
   "source": [
    "# Load in the general demographics data.\n",
    "azdias = pd.read_csv('Udacity_AZDIAS_Subset.csv', sep=';')\n",
    "\n",
    "# Load in the feature summary file.\n",
    "feat_info = pd.read_csv('AZDIAS_Feature_Summary.csv', sep=';')"
   ]
  },
  {
   "cell_type": "code",
   "execution_count": 61,
   "metadata": {},
   "outputs": [
    {
     "name": "stdout",
     "output_type": "stream",
     "text": [
      "<class 'pandas.core.frame.DataFrame'>\n",
      "RangeIndex: 891221 entries, 0 to 891220\n",
      "Data columns (total 85 columns):\n",
      "AGER_TYP                 891221 non-null int64\n",
      "ALTERSKATEGORIE_GROB     891221 non-null int64\n",
      "ANREDE_KZ                891221 non-null int64\n",
      "CJT_GESAMTTYP            886367 non-null float64\n",
      "FINANZ_MINIMALIST        891221 non-null int64\n",
      "FINANZ_SPARER            891221 non-null int64\n",
      "FINANZ_VORSORGER         891221 non-null int64\n",
      "FINANZ_ANLEGER           891221 non-null int64\n",
      "FINANZ_UNAUFFAELLIGER    891221 non-null int64\n",
      "FINANZ_HAUSBAUER         891221 non-null int64\n",
      "FINANZTYP                891221 non-null int64\n",
      "GEBURTSJAHR              891221 non-null int64\n",
      "GFK_URLAUBERTYP          886367 non-null float64\n",
      "GREEN_AVANTGARDE         891221 non-null int64\n",
      "HEALTH_TYP               891221 non-null int64\n",
      "LP_LEBENSPHASE_FEIN      886367 non-null float64\n",
      "LP_LEBENSPHASE_GROB      886367 non-null float64\n",
      "LP_FAMILIE_FEIN          886367 non-null float64\n",
      "LP_FAMILIE_GROB          886367 non-null float64\n",
      "LP_STATUS_FEIN           886367 non-null float64\n",
      "LP_STATUS_GROB           886367 non-null float64\n",
      "NATIONALITAET_KZ         891221 non-null int64\n",
      "PRAEGENDE_JUGENDJAHRE    891221 non-null int64\n",
      "RETOURTYP_BK_S           886367 non-null float64\n",
      "SEMIO_SOZ                891221 non-null int64\n",
      "SEMIO_FAM                891221 non-null int64\n",
      "SEMIO_REL                891221 non-null int64\n",
      "SEMIO_MAT                891221 non-null int64\n",
      "SEMIO_VERT               891221 non-null int64\n",
      "SEMIO_LUST               891221 non-null int64\n",
      "SEMIO_ERL                891221 non-null int64\n",
      "SEMIO_KULT               891221 non-null int64\n",
      "SEMIO_RAT                891221 non-null int64\n",
      "SEMIO_KRIT               891221 non-null int64\n",
      "SEMIO_DOM                891221 non-null int64\n",
      "SEMIO_KAEM               891221 non-null int64\n",
      "SEMIO_PFLICHT            891221 non-null int64\n",
      "SEMIO_TRADV              891221 non-null int64\n",
      "SHOPPER_TYP              891221 non-null int64\n",
      "SOHO_KZ                  817722 non-null float64\n",
      "TITEL_KZ                 817722 non-null float64\n",
      "VERS_TYP                 891221 non-null int64\n",
      "ZABEOTYP                 891221 non-null int64\n",
      "ALTER_HH                 817722 non-null float64\n",
      "ANZ_PERSONEN             817722 non-null float64\n",
      "ANZ_TITEL                817722 non-null float64\n",
      "HH_EINKOMMEN_SCORE       872873 non-null float64\n",
      "KK_KUNDENTYP             306609 non-null float64\n",
      "W_KEIT_KIND_HH           783619 non-null float64\n",
      "WOHNDAUER_2008           817722 non-null float64\n",
      "ANZ_HAUSHALTE_AKTIV      798073 non-null float64\n",
      "ANZ_HH_TITEL             794213 non-null float64\n",
      "GEBAEUDETYP              798073 non-null float64\n",
      "KONSUMNAEHE              817252 non-null float64\n",
      "MIN_GEBAEUDEJAHR         798073 non-null float64\n",
      "OST_WEST_KZ              798073 non-null object\n",
      "WOHNLAGE                 798073 non-null float64\n",
      "CAMEO_DEUG_2015          792242 non-null object\n",
      "CAMEO_DEU_2015           792242 non-null object\n",
      "CAMEO_INTL_2015          792242 non-null object\n",
      "KBA05_ANTG1              757897 non-null float64\n",
      "KBA05_ANTG2              757897 non-null float64\n",
      "KBA05_ANTG3              757897 non-null float64\n",
      "KBA05_ANTG4              757897 non-null float64\n",
      "KBA05_BAUMAX             757897 non-null float64\n",
      "KBA05_GBZ                757897 non-null float64\n",
      "BALLRAUM                 797481 non-null float64\n",
      "EWDICHTE                 797481 non-null float64\n",
      "INNENSTADT               797481 non-null float64\n",
      "GEBAEUDETYP_RASTER       798066 non-null float64\n",
      "KKK                      770025 non-null float64\n",
      "MOBI_REGIO               757897 non-null float64\n",
      "ONLINE_AFFINITAET        886367 non-null float64\n",
      "REGIOTYP                 770025 non-null float64\n",
      "KBA13_ANZAHL_PKW         785421 non-null float64\n",
      "PLZ8_ANTG1               774706 non-null float64\n",
      "PLZ8_ANTG2               774706 non-null float64\n",
      "PLZ8_ANTG3               774706 non-null float64\n",
      "PLZ8_ANTG4               774706 non-null float64\n",
      "PLZ8_BAUMAX              774706 non-null float64\n",
      "PLZ8_HHZ                 774706 non-null float64\n",
      "PLZ8_GBZ                 774706 non-null float64\n",
      "ARBEIT                   794005 non-null float64\n",
      "ORTSGR_KLS9              794005 non-null float64\n",
      "RELAT_AB                 794005 non-null float64\n",
      "dtypes: float64(49), int64(32), object(4)\n",
      "memory usage: 578.0+ MB\n"
     ]
    }
   ],
   "source": [
    "# Check the structure of the data\n",
    "azdias.info()"
   ]
  },
  {
   "cell_type": "code",
   "execution_count": 62,
   "metadata": {},
   "outputs": [
    {
     "data": {
      "text/html": [
       "<div>\n",
       "<style scoped>\n",
       "    .dataframe tbody tr th:only-of-type {\n",
       "        vertical-align: middle;\n",
       "    }\n",
       "\n",
       "    .dataframe tbody tr th {\n",
       "        vertical-align: top;\n",
       "    }\n",
       "\n",
       "    .dataframe thead th {\n",
       "        text-align: right;\n",
       "    }\n",
       "</style>\n",
       "<table border=\"1\" class=\"dataframe\">\n",
       "  <thead>\n",
       "    <tr style=\"text-align: right;\">\n",
       "      <th></th>\n",
       "      <th>AGER_TYP</th>\n",
       "      <th>ALTERSKATEGORIE_GROB</th>\n",
       "      <th>ANREDE_KZ</th>\n",
       "      <th>CJT_GESAMTTYP</th>\n",
       "      <th>FINANZ_MINIMALIST</th>\n",
       "      <th>FINANZ_SPARER</th>\n",
       "      <th>FINANZ_VORSORGER</th>\n",
       "      <th>FINANZ_ANLEGER</th>\n",
       "      <th>FINANZ_UNAUFFAELLIGER</th>\n",
       "      <th>FINANZ_HAUSBAUER</th>\n",
       "      <th>...</th>\n",
       "      <th>PLZ8_ANTG1</th>\n",
       "      <th>PLZ8_ANTG2</th>\n",
       "      <th>PLZ8_ANTG3</th>\n",
       "      <th>PLZ8_ANTG4</th>\n",
       "      <th>PLZ8_BAUMAX</th>\n",
       "      <th>PLZ8_HHZ</th>\n",
       "      <th>PLZ8_GBZ</th>\n",
       "      <th>ARBEIT</th>\n",
       "      <th>ORTSGR_KLS9</th>\n",
       "      <th>RELAT_AB</th>\n",
       "    </tr>\n",
       "  </thead>\n",
       "  <tbody>\n",
       "    <tr>\n",
       "      <th>317409</th>\n",
       "      <td>1</td>\n",
       "      <td>4</td>\n",
       "      <td>2</td>\n",
       "      <td>3.0</td>\n",
       "      <td>5</td>\n",
       "      <td>1</td>\n",
       "      <td>5</td>\n",
       "      <td>1</td>\n",
       "      <td>2</td>\n",
       "      <td>3</td>\n",
       "      <td>...</td>\n",
       "      <td>3.0</td>\n",
       "      <td>2.0</td>\n",
       "      <td>1.0</td>\n",
       "      <td>0.0</td>\n",
       "      <td>1.0</td>\n",
       "      <td>3.0</td>\n",
       "      <td>4.0</td>\n",
       "      <td>3.0</td>\n",
       "      <td>6.0</td>\n",
       "      <td>4.0</td>\n",
       "    </tr>\n",
       "    <tr>\n",
       "      <th>522658</th>\n",
       "      <td>-1</td>\n",
       "      <td>3</td>\n",
       "      <td>1</td>\n",
       "      <td>4.0</td>\n",
       "      <td>2</td>\n",
       "      <td>5</td>\n",
       "      <td>1</td>\n",
       "      <td>4</td>\n",
       "      <td>3</td>\n",
       "      <td>4</td>\n",
       "      <td>...</td>\n",
       "      <td>0.0</td>\n",
       "      <td>3.0</td>\n",
       "      <td>3.0</td>\n",
       "      <td>2.0</td>\n",
       "      <td>4.0</td>\n",
       "      <td>5.0</td>\n",
       "      <td>3.0</td>\n",
       "      <td>5.0</td>\n",
       "      <td>4.0</td>\n",
       "      <td>5.0</td>\n",
       "    </tr>\n",
       "    <tr>\n",
       "      <th>625725</th>\n",
       "      <td>-1</td>\n",
       "      <td>3</td>\n",
       "      <td>2</td>\n",
       "      <td>4.0</td>\n",
       "      <td>2</td>\n",
       "      <td>3</td>\n",
       "      <td>3</td>\n",
       "      <td>5</td>\n",
       "      <td>1</td>\n",
       "      <td>4</td>\n",
       "      <td>...</td>\n",
       "      <td>1.0</td>\n",
       "      <td>3.0</td>\n",
       "      <td>3.0</td>\n",
       "      <td>2.0</td>\n",
       "      <td>4.0</td>\n",
       "      <td>5.0</td>\n",
       "      <td>3.0</td>\n",
       "      <td>3.0</td>\n",
       "      <td>5.0</td>\n",
       "      <td>2.0</td>\n",
       "    </tr>\n",
       "    <tr>\n",
       "      <th>594463</th>\n",
       "      <td>-1</td>\n",
       "      <td>3</td>\n",
       "      <td>2</td>\n",
       "      <td>6.0</td>\n",
       "      <td>3</td>\n",
       "      <td>2</td>\n",
       "      <td>4</td>\n",
       "      <td>4</td>\n",
       "      <td>3</td>\n",
       "      <td>1</td>\n",
       "      <td>...</td>\n",
       "      <td>3.0</td>\n",
       "      <td>2.0</td>\n",
       "      <td>1.0</td>\n",
       "      <td>0.0</td>\n",
       "      <td>1.0</td>\n",
       "      <td>3.0</td>\n",
       "      <td>4.0</td>\n",
       "      <td>2.0</td>\n",
       "      <td>6.0</td>\n",
       "      <td>1.0</td>\n",
       "    </tr>\n",
       "    <tr>\n",
       "      <th>681718</th>\n",
       "      <td>-1</td>\n",
       "      <td>3</td>\n",
       "      <td>2</td>\n",
       "      <td>3.0</td>\n",
       "      <td>3</td>\n",
       "      <td>4</td>\n",
       "      <td>3</td>\n",
       "      <td>5</td>\n",
       "      <td>5</td>\n",
       "      <td>3</td>\n",
       "      <td>...</td>\n",
       "      <td>NaN</td>\n",
       "      <td>NaN</td>\n",
       "      <td>NaN</td>\n",
       "      <td>NaN</td>\n",
       "      <td>NaN</td>\n",
       "      <td>NaN</td>\n",
       "      <td>NaN</td>\n",
       "      <td>NaN</td>\n",
       "      <td>NaN</td>\n",
       "      <td>NaN</td>\n",
       "    </tr>\n",
       "    <tr>\n",
       "      <th>225680</th>\n",
       "      <td>2</td>\n",
       "      <td>4</td>\n",
       "      <td>2</td>\n",
       "      <td>3.0</td>\n",
       "      <td>4</td>\n",
       "      <td>1</td>\n",
       "      <td>5</td>\n",
       "      <td>2</td>\n",
       "      <td>3</td>\n",
       "      <td>2</td>\n",
       "      <td>...</td>\n",
       "      <td>NaN</td>\n",
       "      <td>NaN</td>\n",
       "      <td>NaN</td>\n",
       "      <td>NaN</td>\n",
       "      <td>NaN</td>\n",
       "      <td>NaN</td>\n",
       "      <td>NaN</td>\n",
       "      <td>NaN</td>\n",
       "      <td>NaN</td>\n",
       "      <td>NaN</td>\n",
       "    </tr>\n",
       "    <tr>\n",
       "      <th>208302</th>\n",
       "      <td>-1</td>\n",
       "      <td>2</td>\n",
       "      <td>2</td>\n",
       "      <td>6.0</td>\n",
       "      <td>3</td>\n",
       "      <td>3</td>\n",
       "      <td>1</td>\n",
       "      <td>4</td>\n",
       "      <td>4</td>\n",
       "      <td>2</td>\n",
       "      <td>...</td>\n",
       "      <td>3.0</td>\n",
       "      <td>3.0</td>\n",
       "      <td>1.0</td>\n",
       "      <td>0.0</td>\n",
       "      <td>1.0</td>\n",
       "      <td>4.0</td>\n",
       "      <td>4.0</td>\n",
       "      <td>1.0</td>\n",
       "      <td>4.0</td>\n",
       "      <td>1.0</td>\n",
       "    </tr>\n",
       "    <tr>\n",
       "      <th>748272</th>\n",
       "      <td>-1</td>\n",
       "      <td>3</td>\n",
       "      <td>2</td>\n",
       "      <td>6.0</td>\n",
       "      <td>1</td>\n",
       "      <td>5</td>\n",
       "      <td>2</td>\n",
       "      <td>5</td>\n",
       "      <td>3</td>\n",
       "      <td>5</td>\n",
       "      <td>...</td>\n",
       "      <td>1.0</td>\n",
       "      <td>4.0</td>\n",
       "      <td>3.0</td>\n",
       "      <td>2.0</td>\n",
       "      <td>5.0</td>\n",
       "      <td>3.0</td>\n",
       "      <td>2.0</td>\n",
       "      <td>4.0</td>\n",
       "      <td>9.0</td>\n",
       "      <td>3.0</td>\n",
       "    </tr>\n",
       "    <tr>\n",
       "      <th>572610</th>\n",
       "      <td>-1</td>\n",
       "      <td>1</td>\n",
       "      <td>2</td>\n",
       "      <td>3.0</td>\n",
       "      <td>1</td>\n",
       "      <td>4</td>\n",
       "      <td>2</td>\n",
       "      <td>3</td>\n",
       "      <td>5</td>\n",
       "      <td>2</td>\n",
       "      <td>...</td>\n",
       "      <td>3.0</td>\n",
       "      <td>3.0</td>\n",
       "      <td>1.0</td>\n",
       "      <td>0.0</td>\n",
       "      <td>1.0</td>\n",
       "      <td>4.0</td>\n",
       "      <td>4.0</td>\n",
       "      <td>2.0</td>\n",
       "      <td>2.0</td>\n",
       "      <td>3.0</td>\n",
       "    </tr>\n",
       "    <tr>\n",
       "      <th>828390</th>\n",
       "      <td>-1</td>\n",
       "      <td>1</td>\n",
       "      <td>2</td>\n",
       "      <td>2.0</td>\n",
       "      <td>1</td>\n",
       "      <td>4</td>\n",
       "      <td>2</td>\n",
       "      <td>5</td>\n",
       "      <td>5</td>\n",
       "      <td>5</td>\n",
       "      <td>...</td>\n",
       "      <td>1.0</td>\n",
       "      <td>3.0</td>\n",
       "      <td>3.0</td>\n",
       "      <td>2.0</td>\n",
       "      <td>4.0</td>\n",
       "      <td>3.0</td>\n",
       "      <td>2.0</td>\n",
       "      <td>4.0</td>\n",
       "      <td>9.0</td>\n",
       "      <td>3.0</td>\n",
       "    </tr>\n",
       "    <tr>\n",
       "      <th>663528</th>\n",
       "      <td>-1</td>\n",
       "      <td>4</td>\n",
       "      <td>2</td>\n",
       "      <td>2.0</td>\n",
       "      <td>3</td>\n",
       "      <td>1</td>\n",
       "      <td>5</td>\n",
       "      <td>2</td>\n",
       "      <td>1</td>\n",
       "      <td>5</td>\n",
       "      <td>...</td>\n",
       "      <td>2.0</td>\n",
       "      <td>3.0</td>\n",
       "      <td>1.0</td>\n",
       "      <td>0.0</td>\n",
       "      <td>1.0</td>\n",
       "      <td>3.0</td>\n",
       "      <td>3.0</td>\n",
       "      <td>2.0</td>\n",
       "      <td>4.0</td>\n",
       "      <td>3.0</td>\n",
       "    </tr>\n",
       "    <tr>\n",
       "      <th>546758</th>\n",
       "      <td>-1</td>\n",
       "      <td>3</td>\n",
       "      <td>2</td>\n",
       "      <td>NaN</td>\n",
       "      <td>3</td>\n",
       "      <td>4</td>\n",
       "      <td>2</td>\n",
       "      <td>5</td>\n",
       "      <td>5</td>\n",
       "      <td>2</td>\n",
       "      <td>...</td>\n",
       "      <td>NaN</td>\n",
       "      <td>NaN</td>\n",
       "      <td>NaN</td>\n",
       "      <td>NaN</td>\n",
       "      <td>NaN</td>\n",
       "      <td>NaN</td>\n",
       "      <td>NaN</td>\n",
       "      <td>NaN</td>\n",
       "      <td>NaN</td>\n",
       "      <td>NaN</td>\n",
       "    </tr>\n",
       "    <tr>\n",
       "      <th>461603</th>\n",
       "      <td>-1</td>\n",
       "      <td>2</td>\n",
       "      <td>1</td>\n",
       "      <td>6.0</td>\n",
       "      <td>5</td>\n",
       "      <td>2</td>\n",
       "      <td>3</td>\n",
       "      <td>3</td>\n",
       "      <td>1</td>\n",
       "      <td>1</td>\n",
       "      <td>...</td>\n",
       "      <td>3.0</td>\n",
       "      <td>2.0</td>\n",
       "      <td>1.0</td>\n",
       "      <td>0.0</td>\n",
       "      <td>1.0</td>\n",
       "      <td>5.0</td>\n",
       "      <td>5.0</td>\n",
       "      <td>5.0</td>\n",
       "      <td>5.0</td>\n",
       "      <td>5.0</td>\n",
       "    </tr>\n",
       "    <tr>\n",
       "      <th>454009</th>\n",
       "      <td>-1</td>\n",
       "      <td>4</td>\n",
       "      <td>2</td>\n",
       "      <td>4.0</td>\n",
       "      <td>5</td>\n",
       "      <td>1</td>\n",
       "      <td>5</td>\n",
       "      <td>1</td>\n",
       "      <td>1</td>\n",
       "      <td>3</td>\n",
       "      <td>...</td>\n",
       "      <td>2.0</td>\n",
       "      <td>4.0</td>\n",
       "      <td>2.0</td>\n",
       "      <td>1.0</td>\n",
       "      <td>2.0</td>\n",
       "      <td>5.0</td>\n",
       "      <td>4.0</td>\n",
       "      <td>3.0</td>\n",
       "      <td>5.0</td>\n",
       "      <td>3.0</td>\n",
       "    </tr>\n",
       "    <tr>\n",
       "      <th>654095</th>\n",
       "      <td>2</td>\n",
       "      <td>1</td>\n",
       "      <td>1</td>\n",
       "      <td>5.0</td>\n",
       "      <td>4</td>\n",
       "      <td>1</td>\n",
       "      <td>5</td>\n",
       "      <td>1</td>\n",
       "      <td>1</td>\n",
       "      <td>3</td>\n",
       "      <td>...</td>\n",
       "      <td>2.0</td>\n",
       "      <td>3.0</td>\n",
       "      <td>2.0</td>\n",
       "      <td>1.0</td>\n",
       "      <td>1.0</td>\n",
       "      <td>5.0</td>\n",
       "      <td>4.0</td>\n",
       "      <td>3.0</td>\n",
       "      <td>5.0</td>\n",
       "      <td>3.0</td>\n",
       "    </tr>\n",
       "    <tr>\n",
       "      <th>661853</th>\n",
       "      <td>-1</td>\n",
       "      <td>2</td>\n",
       "      <td>2</td>\n",
       "      <td>6.0</td>\n",
       "      <td>3</td>\n",
       "      <td>4</td>\n",
       "      <td>3</td>\n",
       "      <td>5</td>\n",
       "      <td>5</td>\n",
       "      <td>3</td>\n",
       "      <td>...</td>\n",
       "      <td>NaN</td>\n",
       "      <td>NaN</td>\n",
       "      <td>NaN</td>\n",
       "      <td>NaN</td>\n",
       "      <td>NaN</td>\n",
       "      <td>NaN</td>\n",
       "      <td>NaN</td>\n",
       "      <td>NaN</td>\n",
       "      <td>NaN</td>\n",
       "      <td>NaN</td>\n",
       "    </tr>\n",
       "    <tr>\n",
       "      <th>278596</th>\n",
       "      <td>1</td>\n",
       "      <td>4</td>\n",
       "      <td>1</td>\n",
       "      <td>4.0</td>\n",
       "      <td>5</td>\n",
       "      <td>1</td>\n",
       "      <td>4</td>\n",
       "      <td>1</td>\n",
       "      <td>2</td>\n",
       "      <td>2</td>\n",
       "      <td>...</td>\n",
       "      <td>3.0</td>\n",
       "      <td>1.0</td>\n",
       "      <td>0.0</td>\n",
       "      <td>0.0</td>\n",
       "      <td>1.0</td>\n",
       "      <td>2.0</td>\n",
       "      <td>2.0</td>\n",
       "      <td>3.0</td>\n",
       "      <td>2.0</td>\n",
       "      <td>2.0</td>\n",
       "    </tr>\n",
       "    <tr>\n",
       "      <th>213773</th>\n",
       "      <td>-1</td>\n",
       "      <td>3</td>\n",
       "      <td>2</td>\n",
       "      <td>4.0</td>\n",
       "      <td>3</td>\n",
       "      <td>2</td>\n",
       "      <td>3</td>\n",
       "      <td>2</td>\n",
       "      <td>2</td>\n",
       "      <td>4</td>\n",
       "      <td>...</td>\n",
       "      <td>1.0</td>\n",
       "      <td>4.0</td>\n",
       "      <td>3.0</td>\n",
       "      <td>2.0</td>\n",
       "      <td>5.0</td>\n",
       "      <td>4.0</td>\n",
       "      <td>3.0</td>\n",
       "      <td>4.0</td>\n",
       "      <td>7.0</td>\n",
       "      <td>3.0</td>\n",
       "    </tr>\n",
       "    <tr>\n",
       "      <th>578622</th>\n",
       "      <td>-1</td>\n",
       "      <td>1</td>\n",
       "      <td>1</td>\n",
       "      <td>4.0</td>\n",
       "      <td>2</td>\n",
       "      <td>5</td>\n",
       "      <td>1</td>\n",
       "      <td>3</td>\n",
       "      <td>3</td>\n",
       "      <td>4</td>\n",
       "      <td>...</td>\n",
       "      <td>1.0</td>\n",
       "      <td>4.0</td>\n",
       "      <td>3.0</td>\n",
       "      <td>2.0</td>\n",
       "      <td>5.0</td>\n",
       "      <td>5.0</td>\n",
       "      <td>3.0</td>\n",
       "      <td>4.0</td>\n",
       "      <td>7.0</td>\n",
       "      <td>3.0</td>\n",
       "    </tr>\n",
       "    <tr>\n",
       "      <th>745773</th>\n",
       "      <td>-1</td>\n",
       "      <td>3</td>\n",
       "      <td>2</td>\n",
       "      <td>3.0</td>\n",
       "      <td>2</td>\n",
       "      <td>3</td>\n",
       "      <td>4</td>\n",
       "      <td>3</td>\n",
       "      <td>3</td>\n",
       "      <td>3</td>\n",
       "      <td>...</td>\n",
       "      <td>3.0</td>\n",
       "      <td>3.0</td>\n",
       "      <td>1.0</td>\n",
       "      <td>0.0</td>\n",
       "      <td>1.0</td>\n",
       "      <td>3.0</td>\n",
       "      <td>4.0</td>\n",
       "      <td>4.0</td>\n",
       "      <td>7.0</td>\n",
       "      <td>5.0</td>\n",
       "    </tr>\n",
       "  </tbody>\n",
       "</table>\n",
       "<p>20 rows × 85 columns</p>\n",
       "</div>"
      ],
      "text/plain": [
       "        AGER_TYP  ALTERSKATEGORIE_GROB  ANREDE_KZ  CJT_GESAMTTYP  \\\n",
       "317409         1                     4          2            3.0   \n",
       "522658        -1                     3          1            4.0   \n",
       "625725        -1                     3          2            4.0   \n",
       "594463        -1                     3          2            6.0   \n",
       "681718        -1                     3          2            3.0   \n",
       "225680         2                     4          2            3.0   \n",
       "208302        -1                     2          2            6.0   \n",
       "748272        -1                     3          2            6.0   \n",
       "572610        -1                     1          2            3.0   \n",
       "828390        -1                     1          2            2.0   \n",
       "663528        -1                     4          2            2.0   \n",
       "546758        -1                     3          2            NaN   \n",
       "461603        -1                     2          1            6.0   \n",
       "454009        -1                     4          2            4.0   \n",
       "654095         2                     1          1            5.0   \n",
       "661853        -1                     2          2            6.0   \n",
       "278596         1                     4          1            4.0   \n",
       "213773        -1                     3          2            4.0   \n",
       "578622        -1                     1          1            4.0   \n",
       "745773        -1                     3          2            3.0   \n",
       "\n",
       "        FINANZ_MINIMALIST  FINANZ_SPARER  FINANZ_VORSORGER  FINANZ_ANLEGER  \\\n",
       "317409                  5              1                 5               1   \n",
       "522658                  2              5                 1               4   \n",
       "625725                  2              3                 3               5   \n",
       "594463                  3              2                 4               4   \n",
       "681718                  3              4                 3               5   \n",
       "225680                  4              1                 5               2   \n",
       "208302                  3              3                 1               4   \n",
       "748272                  1              5                 2               5   \n",
       "572610                  1              4                 2               3   \n",
       "828390                  1              4                 2               5   \n",
       "663528                  3              1                 5               2   \n",
       "546758                  3              4                 2               5   \n",
       "461603                  5              2                 3               3   \n",
       "454009                  5              1                 5               1   \n",
       "654095                  4              1                 5               1   \n",
       "661853                  3              4                 3               5   \n",
       "278596                  5              1                 4               1   \n",
       "213773                  3              2                 3               2   \n",
       "578622                  2              5                 1               3   \n",
       "745773                  2              3                 4               3   \n",
       "\n",
       "        FINANZ_UNAUFFAELLIGER  FINANZ_HAUSBAUER    ...     PLZ8_ANTG1  \\\n",
       "317409                      2                 3    ...            3.0   \n",
       "522658                      3                 4    ...            0.0   \n",
       "625725                      1                 4    ...            1.0   \n",
       "594463                      3                 1    ...            3.0   \n",
       "681718                      5                 3    ...            NaN   \n",
       "225680                      3                 2    ...            NaN   \n",
       "208302                      4                 2    ...            3.0   \n",
       "748272                      3                 5    ...            1.0   \n",
       "572610                      5                 2    ...            3.0   \n",
       "828390                      5                 5    ...            1.0   \n",
       "663528                      1                 5    ...            2.0   \n",
       "546758                      5                 2    ...            NaN   \n",
       "461603                      1                 1    ...            3.0   \n",
       "454009                      1                 3    ...            2.0   \n",
       "654095                      1                 3    ...            2.0   \n",
       "661853                      5                 3    ...            NaN   \n",
       "278596                      2                 2    ...            3.0   \n",
       "213773                      2                 4    ...            1.0   \n",
       "578622                      3                 4    ...            1.0   \n",
       "745773                      3                 3    ...            3.0   \n",
       "\n",
       "        PLZ8_ANTG2  PLZ8_ANTG3  PLZ8_ANTG4  PLZ8_BAUMAX  PLZ8_HHZ  PLZ8_GBZ  \\\n",
       "317409         2.0         1.0         0.0          1.0       3.0       4.0   \n",
       "522658         3.0         3.0         2.0          4.0       5.0       3.0   \n",
       "625725         3.0         3.0         2.0          4.0       5.0       3.0   \n",
       "594463         2.0         1.0         0.0          1.0       3.0       4.0   \n",
       "681718         NaN         NaN         NaN          NaN       NaN       NaN   \n",
       "225680         NaN         NaN         NaN          NaN       NaN       NaN   \n",
       "208302         3.0         1.0         0.0          1.0       4.0       4.0   \n",
       "748272         4.0         3.0         2.0          5.0       3.0       2.0   \n",
       "572610         3.0         1.0         0.0          1.0       4.0       4.0   \n",
       "828390         3.0         3.0         2.0          4.0       3.0       2.0   \n",
       "663528         3.0         1.0         0.0          1.0       3.0       3.0   \n",
       "546758         NaN         NaN         NaN          NaN       NaN       NaN   \n",
       "461603         2.0         1.0         0.0          1.0       5.0       5.0   \n",
       "454009         4.0         2.0         1.0          2.0       5.0       4.0   \n",
       "654095         3.0         2.0         1.0          1.0       5.0       4.0   \n",
       "661853         NaN         NaN         NaN          NaN       NaN       NaN   \n",
       "278596         1.0         0.0         0.0          1.0       2.0       2.0   \n",
       "213773         4.0         3.0         2.0          5.0       4.0       3.0   \n",
       "578622         4.0         3.0         2.0          5.0       5.0       3.0   \n",
       "745773         3.0         1.0         0.0          1.0       3.0       4.0   \n",
       "\n",
       "        ARBEIT  ORTSGR_KLS9  RELAT_AB  \n",
       "317409     3.0          6.0       4.0  \n",
       "522658     5.0          4.0       5.0  \n",
       "625725     3.0          5.0       2.0  \n",
       "594463     2.0          6.0       1.0  \n",
       "681718     NaN          NaN       NaN  \n",
       "225680     NaN          NaN       NaN  \n",
       "208302     1.0          4.0       1.0  \n",
       "748272     4.0          9.0       3.0  \n",
       "572610     2.0          2.0       3.0  \n",
       "828390     4.0          9.0       3.0  \n",
       "663528     2.0          4.0       3.0  \n",
       "546758     NaN          NaN       NaN  \n",
       "461603     5.0          5.0       5.0  \n",
       "454009     3.0          5.0       3.0  \n",
       "654095     3.0          5.0       3.0  \n",
       "661853     NaN          NaN       NaN  \n",
       "278596     3.0          2.0       2.0  \n",
       "213773     4.0          7.0       3.0  \n",
       "578622     4.0          7.0       3.0  \n",
       "745773     4.0          7.0       5.0  \n",
       "\n",
       "[20 rows x 85 columns]"
      ]
     },
     "execution_count": 62,
     "metadata": {},
     "output_type": "execute_result"
    }
   ],
   "source": [
    "# Visual assessment of the data\n",
    "azdias.sample(20)"
   ]
  },
  {
   "cell_type": "code",
   "execution_count": 63,
   "metadata": {},
   "outputs": [
    {
     "data": {
      "text/html": [
       "<div>\n",
       "<style scoped>\n",
       "    .dataframe tbody tr th:only-of-type {\n",
       "        vertical-align: middle;\n",
       "    }\n",
       "\n",
       "    .dataframe tbody tr th {\n",
       "        vertical-align: top;\n",
       "    }\n",
       "\n",
       "    .dataframe thead th {\n",
       "        text-align: right;\n",
       "    }\n",
       "</style>\n",
       "<table border=\"1\" class=\"dataframe\">\n",
       "  <thead>\n",
       "    <tr style=\"text-align: right;\">\n",
       "      <th></th>\n",
       "      <th>attribute</th>\n",
       "      <th>information_level</th>\n",
       "      <th>type</th>\n",
       "      <th>missing_or_unknown</th>\n",
       "    </tr>\n",
       "  </thead>\n",
       "  <tbody>\n",
       "    <tr>\n",
       "      <th>0</th>\n",
       "      <td>AGER_TYP</td>\n",
       "      <td>person</td>\n",
       "      <td>categorical</td>\n",
       "      <td>[-1,0]</td>\n",
       "    </tr>\n",
       "    <tr>\n",
       "      <th>1</th>\n",
       "      <td>ALTERSKATEGORIE_GROB</td>\n",
       "      <td>person</td>\n",
       "      <td>ordinal</td>\n",
       "      <td>[-1,0,9]</td>\n",
       "    </tr>\n",
       "    <tr>\n",
       "      <th>2</th>\n",
       "      <td>ANREDE_KZ</td>\n",
       "      <td>person</td>\n",
       "      <td>categorical</td>\n",
       "      <td>[-1,0]</td>\n",
       "    </tr>\n",
       "    <tr>\n",
       "      <th>3</th>\n",
       "      <td>CJT_GESAMTTYP</td>\n",
       "      <td>person</td>\n",
       "      <td>categorical</td>\n",
       "      <td>[0]</td>\n",
       "    </tr>\n",
       "    <tr>\n",
       "      <th>4</th>\n",
       "      <td>FINANZ_MINIMALIST</td>\n",
       "      <td>person</td>\n",
       "      <td>ordinal</td>\n",
       "      <td>[-1]</td>\n",
       "    </tr>\n",
       "    <tr>\n",
       "      <th>5</th>\n",
       "      <td>FINANZ_SPARER</td>\n",
       "      <td>person</td>\n",
       "      <td>ordinal</td>\n",
       "      <td>[-1]</td>\n",
       "    </tr>\n",
       "    <tr>\n",
       "      <th>6</th>\n",
       "      <td>FINANZ_VORSORGER</td>\n",
       "      <td>person</td>\n",
       "      <td>ordinal</td>\n",
       "      <td>[-1]</td>\n",
       "    </tr>\n",
       "    <tr>\n",
       "      <th>7</th>\n",
       "      <td>FINANZ_ANLEGER</td>\n",
       "      <td>person</td>\n",
       "      <td>ordinal</td>\n",
       "      <td>[-1]</td>\n",
       "    </tr>\n",
       "    <tr>\n",
       "      <th>8</th>\n",
       "      <td>FINANZ_UNAUFFAELLIGER</td>\n",
       "      <td>person</td>\n",
       "      <td>ordinal</td>\n",
       "      <td>[-1]</td>\n",
       "    </tr>\n",
       "    <tr>\n",
       "      <th>9</th>\n",
       "      <td>FINANZ_HAUSBAUER</td>\n",
       "      <td>person</td>\n",
       "      <td>ordinal</td>\n",
       "      <td>[-1]</td>\n",
       "    </tr>\n",
       "  </tbody>\n",
       "</table>\n",
       "</div>"
      ],
      "text/plain": [
       "               attribute information_level         type missing_or_unknown\n",
       "0               AGER_TYP            person  categorical             [-1,0]\n",
       "1   ALTERSKATEGORIE_GROB            person      ordinal           [-1,0,9]\n",
       "2              ANREDE_KZ            person  categorical             [-1,0]\n",
       "3          CJT_GESAMTTYP            person  categorical                [0]\n",
       "4      FINANZ_MINIMALIST            person      ordinal               [-1]\n",
       "5          FINANZ_SPARER            person      ordinal               [-1]\n",
       "6       FINANZ_VORSORGER            person      ordinal               [-1]\n",
       "7         FINANZ_ANLEGER            person      ordinal               [-1]\n",
       "8  FINANZ_UNAUFFAELLIGER            person      ordinal               [-1]\n",
       "9       FINANZ_HAUSBAUER            person      ordinal               [-1]"
      ]
     },
     "execution_count": 63,
     "metadata": {},
     "output_type": "execute_result"
    }
   ],
   "source": [
    "# Visual assessement of the feature info dataset\n",
    "feat_info.head(10)"
   ]
  },
  {
   "cell_type": "markdown",
   "metadata": {},
   "source": [
    "\n",
    "## Step 1: Preprocessing\n",
    "\n",
    "### Step 1.1: Assess Missing Data\n",
    "\n",
    "The feature summary file contains a summary of properties for each demographics data column. We will use this file to help us make cleaning decisions during this stage of the project. First of all, we will assess the demographics data in terms of missing data. \n",
    "\n",
    "#### Step 1.1.1: Convert Missing Value Codes to NaNs\n",
    "The fourth column of the feature attributes summary (loaded in above as `feat_info`) documents the codes from the data dictionary that indicate missing or unknown data. While the file encodes this as a list (e.g. `[-1,0]`), this will get read in as a string object. We'll need to do a little bit of parsing to make use of it to identify and clean the data. First we'll convert data that matches a 'missing' or 'unknown' value code into a numpy NaN value. "
   ]
  },
  {
   "cell_type": "code",
   "execution_count": 64,
   "metadata": {},
   "outputs": [],
   "source": [
    "# Create a copy of the original dataset and work on the copy\n",
    "azdias_clean = azdias.copy()"
   ]
  },
  {
   "cell_type": "code",
   "execution_count": 65,
   "metadata": {},
   "outputs": [],
   "source": [
    "def is_int(value):\n",
    "    try:\n",
    "        int(value)\n",
    "        return True\n",
    "    except ValueError:\n",
    "        return False"
   ]
  },
  {
   "cell_type": "code",
   "execution_count": 66,
   "metadata": {},
   "outputs": [],
   "source": [
    "data_dict = {'nan_vals': feat_info['missing_or_unknown'] \\\n",
    "             .str.replace('[','').str.replace(']','').str.split(',').values}\n",
    "\n",
    "missing_vals = pd.DataFrame(data_dict, index = feat_info['attribute'].values)\n",
    "\n",
    "# convert to int unless the value is 'X' or 'XX'\n",
    "missing_vals['nan_vals'] = missing_vals.apply(lambda x: \n",
    "                [int(i) if is_int(i) == True else i for i in x[0]], axis=1)"
   ]
  },
  {
   "cell_type": "code",
   "execution_count": 67,
   "metadata": {},
   "outputs": [
    {
     "data": {
      "text/html": [
       "<div>\n",
       "<style scoped>\n",
       "    .dataframe tbody tr th:only-of-type {\n",
       "        vertical-align: middle;\n",
       "    }\n",
       "\n",
       "    .dataframe tbody tr th {\n",
       "        vertical-align: top;\n",
       "    }\n",
       "\n",
       "    .dataframe thead th {\n",
       "        text-align: right;\n",
       "    }\n",
       "</style>\n",
       "<table border=\"1\" class=\"dataframe\">\n",
       "  <thead>\n",
       "    <tr style=\"text-align: right;\">\n",
       "      <th></th>\n",
       "      <th>nan_vals</th>\n",
       "    </tr>\n",
       "  </thead>\n",
       "  <tbody>\n",
       "    <tr>\n",
       "      <th>ANZ_HAUSHALTE_AKTIV</th>\n",
       "      <td>[0]</td>\n",
       "    </tr>\n",
       "    <tr>\n",
       "      <th>ANZ_HH_TITEL</th>\n",
       "      <td>[]</td>\n",
       "    </tr>\n",
       "    <tr>\n",
       "      <th>GEBAEUDETYP</th>\n",
       "      <td>[-1, 0]</td>\n",
       "    </tr>\n",
       "    <tr>\n",
       "      <th>KONSUMNAEHE</th>\n",
       "      <td>[]</td>\n",
       "    </tr>\n",
       "    <tr>\n",
       "      <th>MIN_GEBAEUDEJAHR</th>\n",
       "      <td>[0]</td>\n",
       "    </tr>\n",
       "    <tr>\n",
       "      <th>OST_WEST_KZ</th>\n",
       "      <td>[-1]</td>\n",
       "    </tr>\n",
       "    <tr>\n",
       "      <th>WOHNLAGE</th>\n",
       "      <td>[-1]</td>\n",
       "    </tr>\n",
       "    <tr>\n",
       "      <th>CAMEO_DEUG_2015</th>\n",
       "      <td>[-1, X]</td>\n",
       "    </tr>\n",
       "    <tr>\n",
       "      <th>CAMEO_DEU_2015</th>\n",
       "      <td>[XX]</td>\n",
       "    </tr>\n",
       "    <tr>\n",
       "      <th>CAMEO_INTL_2015</th>\n",
       "      <td>[-1, XX]</td>\n",
       "    </tr>\n",
       "  </tbody>\n",
       "</table>\n",
       "</div>"
      ],
      "text/plain": [
       "                     nan_vals\n",
       "ANZ_HAUSHALTE_AKTIV       [0]\n",
       "ANZ_HH_TITEL               []\n",
       "GEBAEUDETYP           [-1, 0]\n",
       "KONSUMNAEHE                []\n",
       "MIN_GEBAEUDEJAHR          [0]\n",
       "OST_WEST_KZ              [-1]\n",
       "WOHNLAGE                 [-1]\n",
       "CAMEO_DEUG_2015       [-1, X]\n",
       "CAMEO_DEU_2015           [XX]\n",
       "CAMEO_INTL_2015      [-1, XX]"
      ]
     },
     "execution_count": 67,
     "metadata": {},
     "output_type": "execute_result"
    }
   ],
   "source": [
    "# sanity check\n",
    "missing_vals[50:60]"
   ]
  },
  {
   "cell_type": "code",
   "execution_count": 68,
   "metadata": {},
   "outputs": [
    {
     "data": {
      "text/plain": [
       "nan_vals    [-1, XX]\n",
       "Name: CAMEO_INTL_2015, dtype: object"
      ]
     },
     "execution_count": 68,
     "metadata": {},
     "output_type": "execute_result"
    }
   ],
   "source": [
    "missing_vals.loc['CAMEO_INTL_2015']"
   ]
  },
  {
   "cell_type": "code",
   "execution_count": 69,
   "metadata": {},
   "outputs": [],
   "source": [
    "for column in azdias_clean:\n",
    "    azdias_clean[column] = azdias_clean[column].replace(missing_vals.loc[column][0], np.nan)\n"
   ]
  },
  {
   "cell_type": "code",
   "execution_count": 70,
   "metadata": {},
   "outputs": [
    {
     "data": {
      "text/plain": [
       "array([nan, '8', '4', '2', '6', '1', '9', '5', '7', '3'], dtype=object)"
      ]
     },
     "execution_count": 70,
     "metadata": {},
     "output_type": "execute_result"
    }
   ],
   "source": [
    "# sanity check\n",
    "azdias_clean.CAMEO_DEUG_2015.unique()"
   ]
  },
  {
   "cell_type": "markdown",
   "metadata": {},
   "source": [
    "#### Step 1.1.2: Assess Missing Data in Each Column\n",
    "\n",
    "How much missing data is present in each column? There are a few columns that are outliers in terms of the proportion of values that are missing. We will use matplotlib's [`hist()`](https://matplotlib.org/api/_as_gen/matplotlib.pyplot.hist.html) function to visualize the distribution of missing value counts to find these columns the identify and document these columns. For this project we will just remove them from the dataframe. "
   ]
  },
  {
   "cell_type": "code",
   "execution_count": 71,
   "metadata": {},
   "outputs": [
    {
     "name": "stderr",
     "output_type": "stream",
     "text": [
      "/opt/conda/lib/python3.6/site-packages/ipykernel_launcher.py:6: FutureWarning: by argument to sort_index is deprecated, please use .sort_values(by=...)\n",
      "  \n"
     ]
    },
    {
     "data": {
      "text/html": [
       "<div>\n",
       "<style scoped>\n",
       "    .dataframe tbody tr th:only-of-type {\n",
       "        vertical-align: middle;\n",
       "    }\n",
       "\n",
       "    .dataframe tbody tr th {\n",
       "        vertical-align: top;\n",
       "    }\n",
       "\n",
       "    .dataframe thead th {\n",
       "        text-align: right;\n",
       "    }\n",
       "</style>\n",
       "<table border=\"1\" class=\"dataframe\">\n",
       "  <thead>\n",
       "    <tr style=\"text-align: right;\">\n",
       "      <th></th>\n",
       "      <th>number_of_nulls</th>\n",
       "      <th>percentage_of_nulls</th>\n",
       "    </tr>\n",
       "  </thead>\n",
       "  <tbody>\n",
       "    <tr>\n",
       "      <th>TITEL_KZ</th>\n",
       "      <td>889061</td>\n",
       "      <td>99.757636</td>\n",
       "    </tr>\n",
       "    <tr>\n",
       "      <th>AGER_TYP</th>\n",
       "      <td>685843</td>\n",
       "      <td>76.955435</td>\n",
       "    </tr>\n",
       "    <tr>\n",
       "      <th>KK_KUNDENTYP</th>\n",
       "      <td>584612</td>\n",
       "      <td>65.596749</td>\n",
       "    </tr>\n",
       "    <tr>\n",
       "      <th>KBA05_BAUMAX</th>\n",
       "      <td>476524</td>\n",
       "      <td>53.468668</td>\n",
       "    </tr>\n",
       "    <tr>\n",
       "      <th>GEBURTSJAHR</th>\n",
       "      <td>392318</td>\n",
       "      <td>44.020282</td>\n",
       "    </tr>\n",
       "    <tr>\n",
       "      <th>ALTER_HH</th>\n",
       "      <td>310267</td>\n",
       "      <td>34.813699</td>\n",
       "    </tr>\n",
       "    <tr>\n",
       "      <th>KKK</th>\n",
       "      <td>158064</td>\n",
       "      <td>17.735668</td>\n",
       "    </tr>\n",
       "    <tr>\n",
       "      <th>REGIOTYP</th>\n",
       "      <td>158064</td>\n",
       "      <td>17.735668</td>\n",
       "    </tr>\n",
       "    <tr>\n",
       "      <th>W_KEIT_KIND_HH</th>\n",
       "      <td>147988</td>\n",
       "      <td>16.605084</td>\n",
       "    </tr>\n",
       "    <tr>\n",
       "      <th>KBA05_ANTG3</th>\n",
       "      <td>133324</td>\n",
       "      <td>14.959701</td>\n",
       "    </tr>\n",
       "    <tr>\n",
       "      <th>KBA05_ANTG1</th>\n",
       "      <td>133324</td>\n",
       "      <td>14.959701</td>\n",
       "    </tr>\n",
       "    <tr>\n",
       "      <th>KBA05_ANTG2</th>\n",
       "      <td>133324</td>\n",
       "      <td>14.959701</td>\n",
       "    </tr>\n",
       "    <tr>\n",
       "      <th>KBA05_GBZ</th>\n",
       "      <td>133324</td>\n",
       "      <td>14.959701</td>\n",
       "    </tr>\n",
       "    <tr>\n",
       "      <th>KBA05_ANTG4</th>\n",
       "      <td>133324</td>\n",
       "      <td>14.959701</td>\n",
       "    </tr>\n",
       "    <tr>\n",
       "      <th>MOBI_REGIO</th>\n",
       "      <td>133324</td>\n",
       "      <td>14.959701</td>\n",
       "    </tr>\n",
       "    <tr>\n",
       "      <th>PLZ8_ANTG2</th>\n",
       "      <td>116515</td>\n",
       "      <td>13.073637</td>\n",
       "    </tr>\n",
       "    <tr>\n",
       "      <th>PLZ8_ANTG1</th>\n",
       "      <td>116515</td>\n",
       "      <td>13.073637</td>\n",
       "    </tr>\n",
       "    <tr>\n",
       "      <th>PLZ8_ANTG3</th>\n",
       "      <td>116515</td>\n",
       "      <td>13.073637</td>\n",
       "    </tr>\n",
       "    <tr>\n",
       "      <th>PLZ8_ANTG4</th>\n",
       "      <td>116515</td>\n",
       "      <td>13.073637</td>\n",
       "    </tr>\n",
       "    <tr>\n",
       "      <th>PLZ8_BAUMAX</th>\n",
       "      <td>116515</td>\n",
       "      <td>13.073637</td>\n",
       "    </tr>\n",
       "    <tr>\n",
       "      <th>PLZ8_HHZ</th>\n",
       "      <td>116515</td>\n",
       "      <td>13.073637</td>\n",
       "    </tr>\n",
       "    <tr>\n",
       "      <th>PLZ8_GBZ</th>\n",
       "      <td>116515</td>\n",
       "      <td>13.073637</td>\n",
       "    </tr>\n",
       "    <tr>\n",
       "      <th>VERS_TYP</th>\n",
       "      <td>111196</td>\n",
       "      <td>12.476816</td>\n",
       "    </tr>\n",
       "    <tr>\n",
       "      <th>SHOPPER_TYP</th>\n",
       "      <td>111196</td>\n",
       "      <td>12.476816</td>\n",
       "    </tr>\n",
       "    <tr>\n",
       "      <th>HEALTH_TYP</th>\n",
       "      <td>111196</td>\n",
       "      <td>12.476816</td>\n",
       "    </tr>\n",
       "    <tr>\n",
       "      <th>NATIONALITAET_KZ</th>\n",
       "      <td>108315</td>\n",
       "      <td>12.153551</td>\n",
       "    </tr>\n",
       "    <tr>\n",
       "      <th>PRAEGENDE_JUGENDJAHRE</th>\n",
       "      <td>108164</td>\n",
       "      <td>12.136608</td>\n",
       "    </tr>\n",
       "    <tr>\n",
       "      <th>KBA13_ANZAHL_PKW</th>\n",
       "      <td>105800</td>\n",
       "      <td>11.871354</td>\n",
       "    </tr>\n",
       "    <tr>\n",
       "      <th>ANZ_HAUSHALTE_AKTIV</th>\n",
       "      <td>99611</td>\n",
       "      <td>11.176913</td>\n",
       "    </tr>\n",
       "    <tr>\n",
       "      <th>CAMEO_INTL_2015</th>\n",
       "      <td>99352</td>\n",
       "      <td>11.147852</td>\n",
       "    </tr>\n",
       "    <tr>\n",
       "      <th>...</th>\n",
       "      <td>...</td>\n",
       "      <td>...</td>\n",
       "    </tr>\n",
       "    <tr>\n",
       "      <th>CAMEO_DEU_2015</th>\n",
       "      <td>99352</td>\n",
       "      <td>11.147852</td>\n",
       "    </tr>\n",
       "    <tr>\n",
       "      <th>LP_LEBENSPHASE_FEIN</th>\n",
       "      <td>97632</td>\n",
       "      <td>10.954859</td>\n",
       "    </tr>\n",
       "    <tr>\n",
       "      <th>ARBEIT</th>\n",
       "      <td>97375</td>\n",
       "      <td>10.926022</td>\n",
       "    </tr>\n",
       "    <tr>\n",
       "      <th>RELAT_AB</th>\n",
       "      <td>97375</td>\n",
       "      <td>10.926022</td>\n",
       "    </tr>\n",
       "    <tr>\n",
       "      <th>ORTSGR_KLS9</th>\n",
       "      <td>97274</td>\n",
       "      <td>10.914689</td>\n",
       "    </tr>\n",
       "    <tr>\n",
       "      <th>ANZ_HH_TITEL</th>\n",
       "      <td>97008</td>\n",
       "      <td>10.884842</td>\n",
       "    </tr>\n",
       "    <tr>\n",
       "      <th>LP_LEBENSPHASE_GROB</th>\n",
       "      <td>94572</td>\n",
       "      <td>10.611509</td>\n",
       "    </tr>\n",
       "    <tr>\n",
       "      <th>INNENSTADT</th>\n",
       "      <td>93740</td>\n",
       "      <td>10.518154</td>\n",
       "    </tr>\n",
       "    <tr>\n",
       "      <th>BALLRAUM</th>\n",
       "      <td>93740</td>\n",
       "      <td>10.518154</td>\n",
       "    </tr>\n",
       "    <tr>\n",
       "      <th>EWDICHTE</th>\n",
       "      <td>93740</td>\n",
       "      <td>10.518154</td>\n",
       "    </tr>\n",
       "    <tr>\n",
       "      <th>GEBAEUDETYP_RASTER</th>\n",
       "      <td>93155</td>\n",
       "      <td>10.452514</td>\n",
       "    </tr>\n",
       "    <tr>\n",
       "      <th>WOHNLAGE</th>\n",
       "      <td>93148</td>\n",
       "      <td>10.451729</td>\n",
       "    </tr>\n",
       "    <tr>\n",
       "      <th>OST_WEST_KZ</th>\n",
       "      <td>93148</td>\n",
       "      <td>10.451729</td>\n",
       "    </tr>\n",
       "    <tr>\n",
       "      <th>MIN_GEBAEUDEJAHR</th>\n",
       "      <td>93148</td>\n",
       "      <td>10.451729</td>\n",
       "    </tr>\n",
       "    <tr>\n",
       "      <th>GEBAEUDETYP</th>\n",
       "      <td>93148</td>\n",
       "      <td>10.451729</td>\n",
       "    </tr>\n",
       "    <tr>\n",
       "      <th>LP_FAMILIE_GROB</th>\n",
       "      <td>77792</td>\n",
       "      <td>8.728699</td>\n",
       "    </tr>\n",
       "    <tr>\n",
       "      <th>LP_FAMILIE_FEIN</th>\n",
       "      <td>77792</td>\n",
       "      <td>8.728699</td>\n",
       "    </tr>\n",
       "    <tr>\n",
       "      <th>KONSUMNAEHE</th>\n",
       "      <td>73969</td>\n",
       "      <td>8.299737</td>\n",
       "    </tr>\n",
       "    <tr>\n",
       "      <th>WOHNDAUER_2008</th>\n",
       "      <td>73499</td>\n",
       "      <td>8.247000</td>\n",
       "    </tr>\n",
       "    <tr>\n",
       "      <th>ANZ_TITEL</th>\n",
       "      <td>73499</td>\n",
       "      <td>8.247000</td>\n",
       "    </tr>\n",
       "    <tr>\n",
       "      <th>ANZ_PERSONEN</th>\n",
       "      <td>73499</td>\n",
       "      <td>8.247000</td>\n",
       "    </tr>\n",
       "    <tr>\n",
       "      <th>SOHO_KZ</th>\n",
       "      <td>73499</td>\n",
       "      <td>8.247000</td>\n",
       "    </tr>\n",
       "    <tr>\n",
       "      <th>HH_EINKOMMEN_SCORE</th>\n",
       "      <td>18348</td>\n",
       "      <td>2.058749</td>\n",
       "    </tr>\n",
       "    <tr>\n",
       "      <th>RETOURTYP_BK_S</th>\n",
       "      <td>4854</td>\n",
       "      <td>0.544646</td>\n",
       "    </tr>\n",
       "    <tr>\n",
       "      <th>LP_STATUS_GROB</th>\n",
       "      <td>4854</td>\n",
       "      <td>0.544646</td>\n",
       "    </tr>\n",
       "    <tr>\n",
       "      <th>LP_STATUS_FEIN</th>\n",
       "      <td>4854</td>\n",
       "      <td>0.544646</td>\n",
       "    </tr>\n",
       "    <tr>\n",
       "      <th>GFK_URLAUBERTYP</th>\n",
       "      <td>4854</td>\n",
       "      <td>0.544646</td>\n",
       "    </tr>\n",
       "    <tr>\n",
       "      <th>CJT_GESAMTTYP</th>\n",
       "      <td>4854</td>\n",
       "      <td>0.544646</td>\n",
       "    </tr>\n",
       "    <tr>\n",
       "      <th>ONLINE_AFFINITAET</th>\n",
       "      <td>4854</td>\n",
       "      <td>0.544646</td>\n",
       "    </tr>\n",
       "    <tr>\n",
       "      <th>ALTERSKATEGORIE_GROB</th>\n",
       "      <td>2881</td>\n",
       "      <td>0.323264</td>\n",
       "    </tr>\n",
       "  </tbody>\n",
       "</table>\n",
       "<p>61 rows × 2 columns</p>\n",
       "</div>"
      ],
      "text/plain": [
       "                       number_of_nulls  percentage_of_nulls\n",
       "TITEL_KZ                        889061            99.757636\n",
       "AGER_TYP                        685843            76.955435\n",
       "KK_KUNDENTYP                    584612            65.596749\n",
       "KBA05_BAUMAX                    476524            53.468668\n",
       "GEBURTSJAHR                     392318            44.020282\n",
       "ALTER_HH                        310267            34.813699\n",
       "KKK                             158064            17.735668\n",
       "REGIOTYP                        158064            17.735668\n",
       "W_KEIT_KIND_HH                  147988            16.605084\n",
       "KBA05_ANTG3                     133324            14.959701\n",
       "KBA05_ANTG1                     133324            14.959701\n",
       "KBA05_ANTG2                     133324            14.959701\n",
       "KBA05_GBZ                       133324            14.959701\n",
       "KBA05_ANTG4                     133324            14.959701\n",
       "MOBI_REGIO                      133324            14.959701\n",
       "PLZ8_ANTG2                      116515            13.073637\n",
       "PLZ8_ANTG1                      116515            13.073637\n",
       "PLZ8_ANTG3                      116515            13.073637\n",
       "PLZ8_ANTG4                      116515            13.073637\n",
       "PLZ8_BAUMAX                     116515            13.073637\n",
       "PLZ8_HHZ                        116515            13.073637\n",
       "PLZ8_GBZ                        116515            13.073637\n",
       "VERS_TYP                        111196            12.476816\n",
       "SHOPPER_TYP                     111196            12.476816\n",
       "HEALTH_TYP                      111196            12.476816\n",
       "NATIONALITAET_KZ                108315            12.153551\n",
       "PRAEGENDE_JUGENDJAHRE           108164            12.136608\n",
       "KBA13_ANZAHL_PKW                105800            11.871354\n",
       "ANZ_HAUSHALTE_AKTIV              99611            11.176913\n",
       "CAMEO_INTL_2015                  99352            11.147852\n",
       "...                                ...                  ...\n",
       "CAMEO_DEU_2015                   99352            11.147852\n",
       "LP_LEBENSPHASE_FEIN              97632            10.954859\n",
       "ARBEIT                           97375            10.926022\n",
       "RELAT_AB                         97375            10.926022\n",
       "ORTSGR_KLS9                      97274            10.914689\n",
       "ANZ_HH_TITEL                     97008            10.884842\n",
       "LP_LEBENSPHASE_GROB              94572            10.611509\n",
       "INNENSTADT                       93740            10.518154\n",
       "BALLRAUM                         93740            10.518154\n",
       "EWDICHTE                         93740            10.518154\n",
       "GEBAEUDETYP_RASTER               93155            10.452514\n",
       "WOHNLAGE                         93148            10.451729\n",
       "OST_WEST_KZ                      93148            10.451729\n",
       "MIN_GEBAEUDEJAHR                 93148            10.451729\n",
       "GEBAEUDETYP                      93148            10.451729\n",
       "LP_FAMILIE_GROB                  77792             8.728699\n",
       "LP_FAMILIE_FEIN                  77792             8.728699\n",
       "KONSUMNAEHE                      73969             8.299737\n",
       "WOHNDAUER_2008                   73499             8.247000\n",
       "ANZ_TITEL                        73499             8.247000\n",
       "ANZ_PERSONEN                     73499             8.247000\n",
       "SOHO_KZ                          73499             8.247000\n",
       "HH_EINKOMMEN_SCORE               18348             2.058749\n",
       "RETOURTYP_BK_S                    4854             0.544646\n",
       "LP_STATUS_GROB                    4854             0.544646\n",
       "LP_STATUS_FEIN                    4854             0.544646\n",
       "GFK_URLAUBERTYP                   4854             0.544646\n",
       "CJT_GESAMTTYP                     4854             0.544646\n",
       "ONLINE_AFFINITAET                 4854             0.544646\n",
       "ALTERSKATEGORIE_GROB              2881             0.323264\n",
       "\n",
       "[61 rows x 2 columns]"
      ]
     },
     "execution_count": 71,
     "metadata": {},
     "output_type": "execute_result"
    }
   ],
   "source": [
    "null_data = azdias_clean.isnull().sum()[azdias_clean.isnull().sum() != 0]\n",
    "null_data.values\n",
    "\n",
    "df_nulls = pd.DataFrame(data = null_data, columns = ['number_of_nulls'])\n",
    "df_nulls['percentage_of_nulls'] = null_data.values / len(azdias_clean) * 100\n",
    "df_nulls.sort_index(by='percentage_of_nulls', ascending=False)"
   ]
  },
  {
   "cell_type": "code",
   "execution_count": 72,
   "metadata": {},
   "outputs": [
    {
     "data": {
      "text/plain": [
       "Text(0.5,1,'Missing value distribution for each column')"
      ]
     },
     "execution_count": 72,
     "metadata": {},
     "output_type": "execute_result"
    },
    {
     "data": {
      "image/png": "[encoded data removed]",
      "text/plain": [
       "<matplotlib.figure.Figure at 0x7f2e15166b70>"
      ]
     },
     "metadata": {
      "needs_background": "light"
     },
     "output_type": "display_data"
    }
   ],
   "source": [
    "# Visualize the proportion of how much missing data there is in our columns\n",
    "plt.figure(figsize=(15,6))\n",
    "plt.hist(df_nulls['percentage_of_nulls']);\n",
    "plt.xlabel('Percentage of missing values per column')\n",
    "plt.ylabel('Count of columns')\n",
    "plt.title('Missing value distribution for each column')\n"
   ]
  },
  {
   "cell_type": "code",
   "execution_count": 73,
   "metadata": {},
   "outputs": [
    {
     "data": {
      "text/plain": [
       "array(['AGER_TYP', 'GEBURTSJAHR', 'TITEL_KZ', 'ALTER_HH', 'KK_KUNDENTYP',\n",
       "       'KBA05_BAUMAX'], dtype=object)"
      ]
     },
     "execution_count": 73,
     "metadata": {},
     "output_type": "execute_result"
    }
   ],
   "source": [
    "# Get column names of columns that have *over* 20% of null values\n",
    "high_null_count_cols = df_nulls.query('percentage_of_nulls > 20')\n",
    "high_null_count_cols.index.values"
   ]
  },
  {
   "cell_type": "code",
   "execution_count": 74,
   "metadata": {},
   "outputs": [
    {
     "data": {
      "text/plain": [
       "(891221, 79)"
      ]
     },
     "execution_count": 74,
     "metadata": {},
     "output_type": "execute_result"
    }
   ],
   "source": [
    "# Remove these columns from our dataset - they have too many null values\n",
    "remove_cols = high_null_count_cols.index.values\n",
    "azdias_clean.drop(remove_cols, axis = 1, inplace=True)\n",
    "\n",
    "# Check the new structure of our cleaned dataset\n",
    "azdias_clean.shape"
   ]
  },
  {
   "cell_type": "markdown",
   "metadata": {},
   "source": [
    "#### Discussion 1.1.2: Assess Missing Data in Each Column\n",
    "\n",
    "- Most columns have less than 20% of values that are missing. This was the threshold we chose to keep or remove columns from our dataset. All columns with over 20% of missing values were removed.\n",
    "\n",
    "- Here is a sample of the columns we removed from the dataset: \n",
    "\n",
    " 'AGER_TYP', 'GEBURTSJAHR', 'GREEN_AVANTGARDE', 'SHOPPER_TYP', 'SOHO_KZ', 'TITEL_KZ', 'ALTER_HH', 'ANZ_TITEL', 'KK_KUNDENTYP'. \n",
    " \n",
    "- The dataset contains columns that can be grouped. For example there are columns related to fiancial data that start with FINANZ. There are also personnality columns that begin with SEMIO. These columns usually have the same amount of missing values meaning they were probably gathered in the same research exercise."
   ]
  },
  {
   "cell_type": "markdown",
   "metadata": {},
   "source": [
    "#### Step 1.1.3: Assess Missing Data in Each Row\n",
    "\n",
    "Now, we'll perform a similar assessment for the rows of the dataset. How much data is missing in each row? As with the columns, we should see some groups of points that have a very different numbers of missing values. We'll divide the data into two subsets: one for data points that are above some threshold for missing values, and a second subset for points below that threshold.\n",
    "\n",
    "In order to know what to do with the outlier rows, we'll see if the distribution of data values on columns that are not missing data (or are missing very little data) are similar or different between the two groups. We'll select at least five of these columns and compare the distribution of values.\n",
    "\n",
    "If the distributions of non-missing features look similar between the data with many missing values and the data with few or no missing values, then we could argue that simply dropping those points from the analysis won't present a major issue. On the other hand, if the data with many missing values looks very different from the data with few or no missing values, then we should make a note on those data as special. We'll revisit these data later on. **Either way, for this project we will continue our analysis using just the subset of the data with few or no missing values.**"
   ]
  },
  {
   "cell_type": "code",
   "execution_count": 75,
   "metadata": {},
   "outputs": [
    {
     "data": {
      "text/plain": [
       "Text(0.5,1,'Missing value distribution for each row')"
      ]
     },
     "execution_count": 75,
     "metadata": {},
     "output_type": "execute_result"
    },
    {
     "data": {
      "image/png": "[encoded data removed]",
      "text/plain": [
       "<matplotlib.figure.Figure at 0x7f2e15166e10>"
      ]
     },
     "metadata": {
      "needs_background": "light"
     },
     "output_type": "display_data"
    }
   ],
   "source": [
    "# How much data is missing in each row of the dataset?\n",
    "plt.figure(figsize=(10,5))\n",
    "plt.hist(79 - azdias_clean.count(axis=1), bins=10);\n",
    "plt.xlabel('Number of missing values per row')\n",
    "plt.ylabel('Count of rows')\n",
    "plt.title('Missing value distribution for each row')"
   ]
  },
  {
   "cell_type": "code",
   "execution_count": 76,
   "metadata": {},
   "outputs": [
    {
     "data": {
      "text/plain": [
       "(771701, 119520)"
      ]
     },
     "execution_count": 76,
     "metadata": {},
     "output_type": "execute_result"
    }
   ],
   "source": [
    "# create 2 DataFrames where number of NaN values for each row is lower than 5, and greater or equal than 5\n",
    "low_nan_rows = azdias_clean[azdias_clean.isnull().sum(axis=1) < 9]\n",
    "high_nan_rows = azdias_clean[azdias_clean.isnull().sum(axis=1) >= 9]\n",
    "\n",
    "# Check how many total rows there are for both new datasets\n",
    "len(low_nan_rows), len(high_nan_rows)"
   ]
  },
  {
   "cell_type": "code",
   "execution_count": 77,
   "metadata": {},
   "outputs": [
    {
     "data": {
      "text/plain": [
       "Index(['ALTERSKATEGORIE_GROB', 'ANREDE_KZ', 'CJT_GESAMTTYP',\n",
       "       'FINANZ_MINIMALIST', 'FINANZ_SPARER', 'FINANZ_VORSORGER',\n",
       "       'FINANZ_ANLEGER', 'FINANZ_UNAUFFAELLIGER', 'FINANZ_HAUSBAUER',\n",
       "       'FINANZTYP', 'GFK_URLAUBERTYP', 'GREEN_AVANTGARDE', 'HEALTH_TYP',\n",
       "       'LP_LEBENSPHASE_FEIN', 'LP_LEBENSPHASE_GROB', 'LP_FAMILIE_FEIN',\n",
       "       'LP_FAMILIE_GROB', 'LP_STATUS_FEIN', 'LP_STATUS_GROB',\n",
       "       'NATIONALITAET_KZ', 'PRAEGENDE_JUGENDJAHRE', 'RETOURTYP_BK_S',\n",
       "       'SEMIO_SOZ', 'SEMIO_FAM', 'SEMIO_REL', 'SEMIO_MAT', 'SEMIO_VERT',\n",
       "       'SEMIO_LUST', 'SEMIO_ERL', 'SEMIO_KULT', 'SEMIO_RAT', 'SEMIO_KRIT',\n",
       "       'SEMIO_DOM', 'SEMIO_KAEM', 'SEMIO_PFLICHT', 'SEMIO_TRADV',\n",
       "       'SHOPPER_TYP', 'SOHO_KZ', 'VERS_TYP', 'ZABEOTYP', 'ANZ_PERSONEN',\n",
       "       'ANZ_TITEL', 'HH_EINKOMMEN_SCORE', 'W_KEIT_KIND_HH', 'WOHNDAUER_2008',\n",
       "       'ANZ_HAUSHALTE_AKTIV', 'ANZ_HH_TITEL', 'GEBAEUDETYP', 'KONSUMNAEHE',\n",
       "       'MIN_GEBAEUDEJAHR', 'OST_WEST_KZ', 'WOHNLAGE', 'CAMEO_DEUG_2015',\n",
       "       'CAMEO_DEU_2015', 'CAMEO_INTL_2015', 'KBA05_ANTG1', 'KBA05_ANTG2',\n",
       "       'KBA05_ANTG3', 'KBA05_ANTG4', 'KBA05_GBZ', 'BALLRAUM', 'EWDICHTE',\n",
       "       'INNENSTADT', 'GEBAEUDETYP_RASTER', 'KKK', 'MOBI_REGIO',\n",
       "       'ONLINE_AFFINITAET', 'REGIOTYP', 'KBA13_ANZAHL_PKW', 'PLZ8_ANTG1',\n",
       "       'PLZ8_ANTG2', 'PLZ8_ANTG3', 'PLZ8_ANTG4', 'PLZ8_BAUMAX', 'PLZ8_HHZ',\n",
       "       'PLZ8_GBZ', 'ARBEIT', 'ORTSGR_KLS9', 'RELAT_AB'],\n",
       "      dtype='object')"
      ]
     },
     "execution_count": 77,
     "metadata": {},
     "output_type": "execute_result"
    }
   ],
   "source": [
    "# Compare the distribution of values for at least five columns where there are\n",
    "# no or few missing values, between the two subsets.\n",
    "\n",
    "# Find 5 columns with 0 missing values\n",
    "no_nan_values = (high_nan_rows.isnull().sum()) == 0\n",
    "no_nan_values.index"
   ]
  },
  {
   "cell_type": "code",
   "execution_count": 78,
   "metadata": {
    "scrolled": false
   },
   "outputs": [
    {
     "data": {
      "image/png": "[encoded data removed]",
      "text/plain": [
       "<matplotlib.figure.Figure at 0x7f2e2af49198>"
      ]
     },
     "metadata": {
      "needs_background": "light"
     },
     "output_type": "display_data"
    },
    {
     "data": {
      "image/png": "[encoded data removed]",
      "text/plain": [
       "<matplotlib.figure.Figure at 0x7f2e2af84f28>"
      ]
     },
     "metadata": {
      "needs_background": "light"
     },
     "output_type": "display_data"
    },
    {
     "data": {
      "image/png": "[encoded data removed]",
      "text/plain": [
       "<matplotlib.figure.Figure at 0x7f2e2afc2eb8>"
      ]
     },
     "metadata": {
      "needs_background": "light"
     },
     "output_type": "display_data"
    },
    {
     "data": {
      "image/png": "[encoded data removed]",
      "text/plain": [
       "<matplotlib.figure.Figure at 0x7f2e2b03d550>"
      ]
     },
     "metadata": {
      "needs_background": "light"
     },
     "output_type": "display_data"
    },
    {
     "data": {
      "image/png": "[encoded data removed]",
      "text/plain": [
       "<matplotlib.figure.Figure at 0x7f2e2b0ab278>"
      ]
     },
     "metadata": {
      "needs_background": "light"
     },
     "output_type": "display_data"
    }
   ],
   "source": [
    "# Get all cols with no missing values\n",
    "cols = list(no_nan_values.index)\n",
    "\n",
    "# Function that compares the distribution between our DataFrames of high and low amount of NaN values\n",
    "def compare_distrib(col_name):\n",
    "\n",
    "    base_color = sns.color_palette()[0]\n",
    "\n",
    "    fig = plt.figure(figsize=(15, 6))\n",
    "    plt.subplot(1, 2, 1)\n",
    "    ax1 = sns.countplot(x= col_name, data = high_nan_rows, color = base_color)\n",
    "    plt.title('Data with high amount of NaN values')\n",
    "\n",
    "    plt.subplot(1, 2, 2)\n",
    "    sns.countplot(x= col_name, data = low_nan_rows, color = base_color)\n",
    "    plt.title('Data with low amount of NaN values')\n",
    "\n",
    "# Compare 5 random distributions within the cols list\n",
    "for col in random.sample(cols, 5):\n",
    "    compare_distrib(col)"
   ]
  },
  {
   "cell_type": "markdown",
   "metadata": {},
   "source": [
    "#### Discussion 1.1.3: Assess Missing Data in Each Row\n",
    "\n",
    "Based on my observations, our dataset with lots of missing values has almost no difference in the distribution of values with the exception of a few columns.   \n",
    "\n",
    "Since we do not want to deal with rows with too many missing values and since the distribution seems to be the same, **we will continue our analysis using just the subset of the data with few or no missing values.**"
   ]
  },
  {
   "cell_type": "code",
   "execution_count": 79,
   "metadata": {},
   "outputs": [
    {
     "data": {
      "text/plain": [
       "(771701, 79)"
      ]
     },
     "execution_count": 79,
     "metadata": {},
     "output_type": "execute_result"
    }
   ],
   "source": [
    "# use azdias_new for the remainder of our analysis\n",
    "azdias_new = low_nan_rows.copy()\n",
    "azdias_new.shape"
   ]
  },
  {
   "cell_type": "markdown",
   "metadata": {},
   "source": [
    "### Step 1.2: Select and Re-Encode Features\n",
    "\n",
    "Checking for missing data isn't the only way in which we can prepare a dataset for analysis. Since the unsupervised learning techniques to be used will only work on data that is encoded numerically, we need to make a few encoding changes or additional assumptions to be able to make progress. In addition, while almost all of the values in the dataset are encoded using numbers, not all of them represent numeric values. We can check the third column of the feature summary (`feat_info`) for a summary of types of measurement.\n",
    "- For numeric and interval data, these features can be kept without changes.\n",
    "- Most of the variables in the dataset are ordinal in nature. While ordinal values may technically be non-linear in spacing, we make the simplifying assumption that the ordinal variables can be treated as being interval in nature (that is, kept without any changes).\n",
    "\n",
    "In the first two parts of this sub-step, we will perform an investigation of the categorical and mixed-type features and make a decision on each of them, whether we will keep, drop, or re-encode each. Then, in the last part, we will create a new data frame with only the selected and engineered columns."
   ]
  },
  {
   "cell_type": "code",
   "execution_count": 80,
   "metadata": {},
   "outputs": [
    {
     "data": {
      "text/plain": [
       "Text(0.5,1,'Count of each data type')"
      ]
     },
     "execution_count": 80,
     "metadata": {},
     "output_type": "execute_result"
    },
    {
     "data": {
      "image/png": "[encoded data removed]",
      "text/plain": [
       "<matplotlib.figure.Figure at 0x7f2e2b060e48>"
      ]
     },
     "metadata": {
      "needs_background": "light"
     },
     "output_type": "display_data"
    }
   ],
   "source": [
    "# How many features are there of each data type? Let's visualize this first\n",
    "base_color = sns.color_palette()[0]\n",
    "sns.countplot(x='type', data= feat_info, color = base_color)\n",
    "plt.title('Count of each data type')"
   ]
  },
  {
   "cell_type": "code",
   "execution_count": 81,
   "metadata": {},
   "outputs": [
    {
     "data": {
      "text/plain": [
       "ordinal        49\n",
       "categorical    21\n",
       "mixed           7\n",
       "numeric         7\n",
       "interval        1\n",
       "Name: type, dtype: int64"
      ]
     },
     "execution_count": 81,
     "metadata": {},
     "output_type": "execute_result"
    }
   ],
   "source": [
    "feat_info.type.value_counts()"
   ]
  },
  {
   "cell_type": "markdown",
   "metadata": {},
   "source": [
    "#### Step 1.2.1: Re-Encode Categorical Features\n",
    "\n",
    "For categorical data, we would ordinarily need to encode the levels as dummy variables. Depending on the number of categories, we perform one of the following:\n",
    "- For binary (two-level) categoricals that take numeric values, we can keep them without needing to do anything.\n",
    "- There is one binary variable that takes on non-numeric values. For this one, we need to re-encode the values as numbers.\n",
    "- For multi-level categoricals (three or more values), we can choose to encode the values using multiple dummy variables (e.g. via [OneHotEncoder](http://scikit-learn.org/stable/modules/generated/sklearn.preprocessing.OneHotEncoder.html)), or (to keep things straightforward) just drop them from the analysis. "
   ]
  },
  {
   "cell_type": "code",
   "execution_count": 82,
   "metadata": {},
   "outputs": [
    {
     "data": {
      "text/plain": [
       "['AGER_TYP',\n",
       " 'ANREDE_KZ',\n",
       " 'CJT_GESAMTTYP',\n",
       " 'FINANZTYP',\n",
       " 'GFK_URLAUBERTYP',\n",
       " 'GREEN_AVANTGARDE',\n",
       " 'LP_FAMILIE_FEIN',\n",
       " 'LP_FAMILIE_GROB',\n",
       " 'LP_STATUS_FEIN',\n",
       " 'LP_STATUS_GROB',\n",
       " 'NATIONALITAET_KZ',\n",
       " 'SHOPPER_TYP',\n",
       " 'SOHO_KZ',\n",
       " 'TITEL_KZ',\n",
       " 'VERS_TYP',\n",
       " 'ZABEOTYP',\n",
       " 'KK_KUNDENTYP',\n",
       " 'GEBAEUDETYP',\n",
       " 'OST_WEST_KZ',\n",
       " 'CAMEO_DEUG_2015',\n",
       " 'CAMEO_DEU_2015']"
      ]
     },
     "execution_count": 82,
     "metadata": {},
     "output_type": "execute_result"
    }
   ],
   "source": [
    "# Get a list of all categorical columns \n",
    "category_data = feat_info.query('type == \"categorical\" ' ) \n",
    "cat_names = list(category_data.attribute.values)\n",
    "\n",
    "cat_names"
   ]
  },
  {
   "cell_type": "code",
   "execution_count": 83,
   "metadata": {
    "scrolled": false
   },
   "outputs": [
    {
     "name": "stdout",
     "output_type": "stream",
     "text": [
      "ANREDE_KZ:         [1 2]\n",
      "CJT_GESAMTTYP:         [  2.   5.   3.   4.   1.   6.  nan]\n",
      "FINANZTYP:         [4 1 6 5 2 3]\n",
      "GFK_URLAUBERTYP:         [ 10.   1.   5.  12.   9.   3.   8.  11.   4.   2.   7.   6.  nan]\n",
      "GREEN_AVANTGARDE:         [0 1]\n",
      "LP_FAMILIE_FEIN:         [  2.   5.   1.  nan  10.   7.  11.   3.   8.   4.   6.   9.]\n",
      "LP_FAMILIE_GROB:         [  2.   3.   1.  nan   5.   4.]\n",
      "LP_STATUS_FEIN:         [  1.   2.   3.   9.   4.  10.   5.   8.   6.   7.  nan]\n",
      "LP_STATUS_GROB:         [  1.   2.   4.   5.   3.  nan]\n",
      "NATIONALITAET_KZ:         [ nan   1.   3.   2.]\n",
      "SHOPPER_TYP:         [ nan   3.   2.   1.   0.]\n",
      "SOHO_KZ:         [ nan   1.   0.]\n",
      "VERS_TYP:         [ nan   2.   1.]\n",
      "ZABEOTYP:         [3 5 4 1 6 2]\n",
      "GEBAEUDETYP:         [ nan   8.   1.   3.   2.   6.   4.   5.]\n",
      "OST_WEST_KZ:         [nan 'W' 'O']\n",
      "CAMEO_DEUG_2015:         [nan '8' '4' '2' '6' '1' '9' '5' '7' '3']\n",
      "CAMEO_DEU_2015:         [nan '8A' '4C' '2A' '6B' '8C' '4A' '2D' '1A' '1E' '9D' '5C' '8B' '7A' '5D'\n",
      " '9E' '9B' '1B' '3D' '4E' '4B' '3C' '5A' '7B' '9A' '6D' '6E' '2C' '7C' '9C'\n",
      " '7D' '5E' '1D' '8D' '6C' '6A' '5B' '4D' '3A' '2B' '7E' '3B' '6F' '5F' '1C']\n"
     ]
    }
   ],
   "source": [
    "# Print all possible values for our categorical features to see which ones to keep\n",
    "categorical_features = []\n",
    "for attr in cat_names:\n",
    "    if attr in (azdias_clean.columns):\n",
    "        print('{}:        '.format(attr), azdias_clean[attr].unique())\n",
    "        categorical_features.append(attr)"
   ]
  },
  {
   "cell_type": "code",
   "execution_count": 84,
   "metadata": {},
   "outputs": [
    {
     "data": {
      "text/plain": [
       "['CJT_GESAMTTYP',\n",
       " 'FINANZTYP',\n",
       " 'GFK_URLAUBERTYP',\n",
       " 'GREEN_AVANTGARDE',\n",
       " 'LP_FAMILIE_FEIN',\n",
       " 'LP_FAMILIE_GROB',\n",
       " 'LP_STATUS_FEIN',\n",
       " 'LP_STATUS_GROB',\n",
       " 'NATIONALITAET_KZ',\n",
       " 'SHOPPER_TYP',\n",
       " 'SOHO_KZ',\n",
       " 'ZABEOTYP',\n",
       " 'GEBAEUDETYP',\n",
       " 'CAMEO_DEUG_2015',\n",
       " 'CAMEO_DEU_2015']"
      ]
     },
     "execution_count": 84,
     "metadata": {},
     "output_type": "execute_result"
    }
   ],
   "source": [
    "# For simplicity, keep only categories that are binary\n",
    "cats_to_keep = ['ANREDE_KZ', 'VERS_TYP', 'OST_WEST_KZ']\n",
    "\n",
    "# Create a variable with categories we want to drop\n",
    "cats_to_drop = [e for e in categorical_features if e not in cats_to_keep]\n",
    "cats_to_drop"
   ]
  },
  {
   "cell_type": "code",
   "execution_count": 85,
   "metadata": {},
   "outputs": [
    {
     "data": {
      "text/plain": [
       "(771701, 64)"
      ]
     },
     "execution_count": 85,
     "metadata": {},
     "output_type": "execute_result"
    }
   ],
   "source": [
    "# Remove categories that are not binary from our dataframe\n",
    "azdias_new.drop(cats_to_drop, axis=1, inplace=True)\n",
    "azdias_new.shape"
   ]
  },
  {
   "cell_type": "code",
   "execution_count": 86,
   "metadata": {},
   "outputs": [],
   "source": [
    "# Re-encode 'OST_WEST_KZ' category\n",
    "azdias_new.OST_WEST_KZ.replace(('W', 'O'), (1, 0), inplace=True)"
   ]
  },
  {
   "cell_type": "markdown",
   "metadata": {},
   "source": [
    "#### Discussion 1.2.1: Re-Encode Categorical Features\n",
    "\n",
    "For the sake of simplicity, I decided to only keep categorical features that were binary. The categories that were kept were the following: 'ANREDE_KZ', 'VERS_TYP', 'OST_WEST_KZ'. \n",
    "\n",
    "For OST_WEST_KZ, I had to re-encode the data to numerical values so that our algorithm can interpret it. \n",
    "All other categorical features were removed. "
   ]
  },
  {
   "cell_type": "markdown",
   "metadata": {},
   "source": [
    "#### Step 1.2.2: Engineer Mixed-Type Features\n",
    "\n",
    "There are a handful of features that are marked as \"mixed\" in the feature summary that require special treatment in order to be included in the analysis. There are two in particular that deserve attention:\n",
    "- \"PRAEGENDE_JUGENDJAHRE\" combines information on three dimensions: generation by decade, movement (mainstream vs. avantgarde), and nation (east vs. west). While there aren't enough levels to disentangle east from west, we will create two new variables to capture the other two dimensions: an interval-type variable for decade, and a binary variable for movement.\n",
    "- \"CAMEO_INTL_2015\" combines information on two axes: wealth and life stage. Break up the two-digit codes by their 'tens'-place and 'ones'-place digits into two new ordinal variables (which, for the purposes of this project, is equivalent to just treating them as their raw numeric values).\n",
    "- If you decide to keep or engineer new features around the other mixed-type features, make sure you note your steps in the Discussion section.\n"
   ]
  },
  {
   "cell_type": "code",
   "execution_count": 87,
   "metadata": {},
   "outputs": [
    {
     "data": {
      "text/plain": [
       "array([ 14.,  15.,   8.,   3.,  10.,  11.,   5.,   9.,   6.,   4.,  nan,\n",
       "         2.,   1.,  12.,  13.,   7.])"
      ]
     },
     "execution_count": 87,
     "metadata": {},
     "output_type": "execute_result"
    }
   ],
   "source": [
    "# Check all values of PRAEGENDE_JUGENDJAHRE\n",
    "azdias_new.PRAEGENDE_JUGENDJAHRE.unique()"
   ]
  },
  {
   "cell_type": "code",
   "execution_count": 88,
   "metadata": {},
   "outputs": [],
   "source": [
    "# Investigate \"PRAEGENDE_JUGENDJAHRE\" and engineer two new variables.\n",
    "\n",
    "# Values associated with mainstream movement\n",
    "mainstream = [1, 3, 5, 8, 10, 12, 14]\n",
    "\n",
    "# Create new column with 0 for 'mainstream' and 1 for 'avantgarde'\n",
    "azdias_new['movement'] = np.where(azdias_new['PRAEGENDE_JUGENDJAHRE'].isin(mainstream), 0, 1) "
   ]
  },
  {
   "cell_type": "code",
   "execution_count": 89,
   "metadata": {},
   "outputs": [
    {
     "data": {
      "text/plain": [
       "0    577216\n",
       "1    194485\n",
       "Name: movement, dtype: int64"
      ]
     },
     "execution_count": 89,
     "metadata": {},
     "output_type": "execute_result"
    }
   ],
   "source": [
    "# check value counts\n",
    "azdias_new['movement'].value_counts()"
   ]
  },
  {
   "cell_type": "code",
   "execution_count": 90,
   "metadata": {},
   "outputs": [],
   "source": [
    "'''\n",
    "Numbers associated with decade: \n",
    "\n",
    "40s = 1, 2\n",
    "50s = 3, 4\n",
    "60s = 5, 6, 7\n",
    "70s = 8, 9 \n",
    "80s = 10, 11, 12, 13 \n",
    "90s = 14, 15\n",
    "'''\n",
    "\n",
    "# map old values to new decade values\n",
    "decade = {1:1, 2:1, 3:2, 4:2, 5:3, 6:3, 7:3, 8:4, 9:4, 10:5, 11:5, 12:5, 13:5, 14:6, 15:6}\n",
    "\n",
    "azdias_new['decade'] = azdias_new['PRAEGENDE_JUGENDJAHRE'].replace(decade)\n"
   ]
  },
  {
   "cell_type": "code",
   "execution_count": 91,
   "metadata": {},
   "outputs": [
    {
     "data": {
      "text/plain": [
       "6.0    217739\n",
       "4.0    170418\n",
       "5.0    146838\n",
       "3.0    112211\n",
       "2.0     72820\n",
       "1.0     27346\n",
       "Name: decade, dtype: int64"
      ]
     },
     "execution_count": 91,
     "metadata": {},
     "output_type": "execute_result"
    }
   ],
   "source": [
    "azdias_new['decade'].value_counts()"
   ]
  },
  {
   "cell_type": "code",
   "execution_count": 92,
   "metadata": {},
   "outputs": [
    {
     "data": {
      "text/plain": [
       "51    131800\n",
       "41     90199\n",
       "24     88313\n",
       "14     60741\n",
       "43     55285\n",
       "54     44601\n",
       "25     38401\n",
       "22     31827\n",
       "45     25524\n",
       "13     25348\n",
       "23     23882\n",
       "55     23244\n",
       "52     20207\n",
       "34     18061\n",
       "31     17596\n",
       "15     16587\n",
       "44     14455\n",
       "12     12618\n",
       "35     10100\n",
       "32     10052\n",
       "33      9521\n",
       "Name: CAMEO_INTL_2015, dtype: int64"
      ]
     },
     "execution_count": 92,
     "metadata": {},
     "output_type": "execute_result"
    }
   ],
   "source": [
    "# Investigate \"CAMEO_INTL_2015\" and engineer two new variables.\n",
    "'''\n",
    "11: Wealthy Households - Pre-Family Couples & Singles\n",
    "12: Wealthy Households - Young Couples With Children\n",
    "13: Wealthy Households - Families With School Age Children\n",
    "14: Wealthy Households - Older Families & Mature Couples\n",
    "15: Wealthy Households - Elders In Retirement\n",
    "21: Prosperous Households - Pre-Family Couples & Singles\n",
    "22: Prosperous Households - Young Couples With Children\n",
    "23: Prosperous Households - Families With School Age Children\n",
    "24: Prosperous Households - Older Families & Mature Couples\n",
    "25: Prosperous Households - Elders In Retirement\n",
    "31: Comfortable Households - Pre-Family Couples & Singles\n",
    "32: Comfortable Households - Young Couples With Children\n",
    "33: Comfortable Households - Families With School Age Children\n",
    "34: Comfortable Households - Older Families & Mature Couples\n",
    "35: Comfortable Households - Elders In Retirement\n",
    "41: Less Affluent Households - Pre-Family Couples & Singles\n",
    "42: Less Affluent Households - Young Couples With Children\n",
    "43: Less Affluent Households - Families With School Age Children\n",
    "44: Less Affluent Households - Older Families & Mature Couples\n",
    "45: Less Affluent Households - Elders In Retirement\n",
    "51: Poorer Households - Pre-Family Couples & Singles\n",
    "52: Poorer Households - Young Couples With Children\n",
    "53: Poorer Households - Families With School Age Children\n",
    "54: Poorer Households - Older Families & Mature Couples\n",
    "55: Poorer Households - Elders In Retirement\n",
    "XX: unknown'''\n",
    "azdias_new.CAMEO_INTL_2015.value_counts()"
   ]
  },
  {
   "cell_type": "code",
   "execution_count": 93,
   "metadata": {},
   "outputs": [],
   "source": [
    "# map old values to wealth and life_stage\n",
    "wealth = {11:1, 12:1, 13:1, 14:1, 15:1, \n",
    "          21:2, 22:2, 23:2, 24:2, 25:2, \n",
    "          31:3, 32:3, 33:3, 34:3, 35:3, \n",
    "          41:4, 42:4, 43:4, 44:4, 45:4,\n",
    "          51:5, 52:5, 53:5, 54:5, 55:5}\n",
    "\n",
    "life_stage = {11:1, 12:2, 13:3, 14:4, 15:5, \n",
    "              21:1, 22:2, 23:3, 24:4, 25:5, \n",
    "              31:1, 32:2, 33:3, 34:4, 35:5, \n",
    "              41:1, 42:2, 43:3, 44:4, 45:5,\n",
    "              51:1, 52:2, 53:3, 54:4, 55:5}"
   ]
  },
  {
   "cell_type": "code",
   "execution_count": 94,
   "metadata": {},
   "outputs": [],
   "source": [
    "# Create 2 new columns with our maped values\n",
    "azdias_new['wealth'] = azdias_new['CAMEO_INTL_2015'].astype(float).replace(wealth)\n",
    "azdias_new['life_stage'] = azdias_new['CAMEO_INTL_2015'].astype(float).replace(life_stage)"
   ]
  },
  {
   "cell_type": "code",
   "execution_count": 95,
   "metadata": {},
   "outputs": [
    {
     "data": {
      "text/plain": [
       "5.0    219852\n",
       "4.0    185463\n",
       "2.0    182423\n",
       "1.0    115294\n",
       "3.0     65330\n",
       "Name: wealth, dtype: int64"
      ]
     },
     "execution_count": 95,
     "metadata": {},
     "output_type": "execute_result"
    }
   ],
   "source": [
    "azdias_new['wealth'].value_counts()"
   ]
  },
  {
   "cell_type": "code",
   "execution_count": 96,
   "metadata": {},
   "outputs": [
    {
     "data": {
      "text/plain": [
       "1.0    239595\n",
       "4.0    226171\n",
       "3.0    114036\n",
       "5.0    113856\n",
       "2.0     74704\n",
       "Name: life_stage, dtype: int64"
      ]
     },
     "execution_count": 96,
     "metadata": {},
     "output_type": "execute_result"
    }
   ],
   "source": [
    "azdias_new['life_stage'].value_counts()"
   ]
  },
  {
   "cell_type": "code",
   "execution_count": 97,
   "metadata": {},
   "outputs": [
    {
     "data": {
      "text/plain": [
       "(771701, 66)"
      ]
     },
     "execution_count": 97,
     "metadata": {},
     "output_type": "execute_result"
    }
   ],
   "source": [
    "# drop our old columns\n",
    "old_cols = ['PRAEGENDE_JUGENDJAHRE', 'CAMEO_INTL_2015']\n",
    "azdias_new.drop(old_cols, axis=1, inplace=True)\n",
    "\n",
    "# We should end up with 2 more columns than before: 66\n",
    "azdias_new.shape"
   ]
  },
  {
   "cell_type": "markdown",
   "metadata": {},
   "source": [
    "#### Discussion 1.2.2: Engineer Mixed-Type Features\n",
    "\n",
    "For mixed-types features I split \"PRAEGENDE_JUGENDJAHRE\" column into two new ones: 'movement' and 'decade'. \n",
    "\n",
    "Same for \"CAMEO_INTL_2015\" which was split in two new columns: 'life_stage' and 'wealth'. \n",
    "\n",
    "After the split, both \"PRAEGENDE_JUGENDJAHRE\" and \"CAMEO_INTL_2015\" were droped from our dataframe. "
   ]
  },
  {
   "cell_type": "markdown",
   "metadata": {},
   "source": [
    "### Step 1.3: Create a Cleaning Function\n",
    "\n",
    "Even though we've finished cleaning up the general population demographics data, it's important to look ahead to the future and realize that we'll need to perform the same cleaning steps on the customer demographics data. In this substep, complete the function below to execute the main feature selection, encoding, and re-engineering steps you performed above. Then, when it comes to looking at the customer data later on, we will just run this function on that DataFrame to get the trimmed dataset in a single step."
   ]
  },
  {
   "cell_type": "code",
   "execution_count": 149,
   "metadata": {},
   "outputs": [],
   "source": [
    "def clean_data(df_to_clean):\n",
    "    \"\"\"\n",
    "    Perform feature trimming, re-encoding, and engineering for demographics\n",
    "    data\n",
    "    \n",
    "    INPUT: Demographics DataFrame\n",
    "    OUTPUT: Trimmed and cleaned demographics DataFrame\n",
    "    \"\"\"\n",
    "    ### 1. Convert missing values ###\n",
    "    \n",
    "    data_dict = {'nan_vals': feat_info['missing_or_unknown'] \\\n",
    "             .str.replace('[','').str.replace(']','').str.split(',').values}\n",
    "\n",
    "    missing_vals = pd.DataFrame(data_dict, index = feat_info['attribute'].values)\n",
    "\n",
    "    # convert to int unless the value is 'X' or 'XX'\n",
    "    missing_vals['nan_vals'] = missing_vals.apply(lambda x: \n",
    "                    [int(i) if is_int(i) == True else i for i in x[0]], axis=1)\n",
    "\n",
    "    for column in azdias_clean:\n",
    "        df_to_clean[column] = df_to_clean[column].replace(missing_vals.loc[column][0], np.nan)\n",
    "\n",
    "    null_data = azdias.isnull().sum()[azdias.isnull().sum() != 0]\n",
    "    null_data.values\n",
    "\n",
    "    df_nulls = pd.DataFrame(data= null_data, columns = ['number_of_nulls'])\n",
    "    df_nulls['percentage_of_nulls'] = null_data.values / len(azdias_clean) * 100\n",
    "    \n",
    "\n",
    "    ### 2. Remove columns and rows ###\n",
    "    \n",
    "    # remove columns that have over 20% NaN among all values\n",
    "    remove_cols = ['AGER_TYP', 'GEBURTSJAHR', 'TITEL_KZ', 'ALTER_HH', 'KK_KUNDENTYP',\n",
    "                   'KBA05_BAUMAX']\n",
    "    # Remove these columns from our dataset\n",
    "    df_to_clean.drop(remove_cols, axis = 1, inplace=True)\n",
    "    \n",
    "    # Remove rows where number of NaN values for each row is lower than 9\n",
    "    df_to_clean = df_to_clean[df_to_clean.isnull().sum(axis=1) < 9]\n",
    "    \n",
    "    \n",
    "    ### 3. Re-encode and enginner column values ### \n",
    "\n",
    "    # List of categories to drop\n",
    "    cats_to_drop = ['CJT_GESAMTTYP', 'FINANZTYP', 'GFK_URLAUBERTYP', 'GREEN_AVANTGARDE', 'LP_FAMILIE_FEIN',\n",
    "                    'LP_FAMILIE_GROB', 'LP_STATUS_FEIN', 'LP_STATUS_GROB', 'NATIONALITAET_KZ', 'SHOPPER_TYP',\n",
    "                    'SOHO_KZ', 'ZABEOTYP', 'GEBAEUDETYP', 'CAMEO_DEUG_2015', 'CAMEO_DEU_2015']\n",
    "    \n",
    "    \n",
    "    # Remove categories that are not binary from our dataframe\n",
    "    df_to_clean.drop(cats_to_drop, axis=1, inplace=True)\n",
    "    # Re-encode 'OST_WEST_KZ' category\n",
    "    df_to_clean.OST_WEST_KZ.replace(('W', 'O'), (1, 0), inplace=True)\n",
    "\n",
    "    # Values associated with mainstream movement\n",
    "    mainstream = [1, 3, 5, 8, 10, 12, 14]\n",
    "\n",
    "    # Create new column with 0 for 'mainstream' and 1 for 'avantgarde'\n",
    "    df_to_clean['movement'] = np.where(df_to_clean['PRAEGENDE_JUGENDJAHRE'].isin(mainstream), 0, 1) \n",
    "\n",
    "    # map old values to new decade values\n",
    "    decade = {1:1, 2:1, 3:2, 4:2, 5:3, 6:3, 7:3, 8:4, 9:4, 10:5, 11:5, 12:5, 13:5, 14:6, 15:6}\n",
    "\n",
    "    df_to_clean['decade'] = df_to_clean['PRAEGENDE_JUGENDJAHRE'].replace(decade)\n",
    "    # map old values to wealth and life_stage\n",
    "    wealth = {11:1, 12:1, 13:1, 14:1, 15:1, 21:2, 22:2, 23:2, 24:2, 25:2, 31:3, 32:3, 33:3, 34:3, 35:3, 41:4, 42:4, 43:4, 44:4, 45:4,\n",
    "              51:5, 52:5, 53:5, 54:5, 55:5}\n",
    "\n",
    "    life_stage = {11:1, 12:2, 13:3, 14:4, 15:5, 21:1, 22:2, 23:3, 24:4, 25:5, 31:1, 32:2, 33:3, 34:4, 35:5, 41:1, 42:2, 43:3, 44:4, 45:5,\n",
    "                  51:1, 52:2, 53:3, 54:4, 55:5}\n",
    "\n",
    "    # Create 2 new columns with our maped values\n",
    "    df_to_clean['wealth'] = df_to_clean['CAMEO_INTL_2015'].astype(float).replace(wealth)\n",
    "    df_to_clean['life_stage'] = df_to_clean['CAMEO_INTL_2015'].astype(float).replace(life_stage)\n",
    "\n",
    "    # drop our old columns\n",
    "    old_cols = ['PRAEGENDE_JUGENDJAHRE', 'CAMEO_INTL_2015']\n",
    "    df_to_clean.drop(old_cols, axis=1, inplace=True)\n",
    "    \n",
    "    # Return the cleaned dataframe.\n",
    "    return df_to_clean\n",
    "    \n",
    "    "
   ]
  },
  {
   "cell_type": "markdown",
   "metadata": {},
   "source": [
    "## Step 2: Feature Transformation\n",
    "\n",
    "### Step 2.1: Apply Feature Scaling\n",
    "\n",
    "Before we apply dimensionality reduction techniques to the data, we need to perform feature scaling so that the principal component vectors are not influenced by the natural differences in scale for features. \n",
    "\n",
    "- sklearn requires that data not have missing values in order for its estimators to work properly. So, before applying the scaler to our data, we need make sure that we've cleaned the DataFrame of the remaining missing values. We will use an [Imputer](http://scikit-learn.org/stable/modules/generated/sklearn.preprocessing.Imputer.html) to replace all missing values. "
   ]
  },
  {
   "cell_type": "code",
   "execution_count": 99,
   "metadata": {},
   "outputs": [],
   "source": [
    "# Clean null values\n",
    "\n",
    "# Get rid of null values with imputer\n",
    "imputer = Imputer(missing_values='NaN', strategy='mean')\n",
    "df_azdias = pd.DataFrame(imputer.fit_transform(azdias_new))\n",
    "df_azdias.columns = azdias_new.columns\n",
    "df_azdias.index = azdias_new.index"
   ]
  },
  {
   "cell_type": "code",
   "execution_count": 100,
   "metadata": {},
   "outputs": [
    {
     "data": {
      "text/plain": [
       "ALTERSKATEGORIE_GROB     0\n",
       "ANREDE_KZ                0\n",
       "FINANZ_MINIMALIST        0\n",
       "FINANZ_SPARER            0\n",
       "FINANZ_VORSORGER         0\n",
       "FINANZ_ANLEGER           0\n",
       "FINANZ_UNAUFFAELLIGER    0\n",
       "FINANZ_HAUSBAUER         0\n",
       "HEALTH_TYP               0\n",
       "LP_LEBENSPHASE_FEIN      0\n",
       "LP_LEBENSPHASE_GROB      0\n",
       "RETOURTYP_BK_S           0\n",
       "SEMIO_SOZ                0\n",
       "SEMIO_FAM                0\n",
       "SEMIO_REL                0\n",
       "SEMIO_MAT                0\n",
       "SEMIO_VERT               0\n",
       "SEMIO_LUST               0\n",
       "SEMIO_ERL                0\n",
       "SEMIO_KULT               0\n",
       "SEMIO_RAT                0\n",
       "SEMIO_KRIT               0\n",
       "SEMIO_DOM                0\n",
       "SEMIO_KAEM               0\n",
       "SEMIO_PFLICHT            0\n",
       "SEMIO_TRADV              0\n",
       "VERS_TYP                 0\n",
       "ANZ_PERSONEN             0\n",
       "ANZ_TITEL                0\n",
       "HH_EINKOMMEN_SCORE       0\n",
       "                        ..\n",
       "OST_WEST_KZ              0\n",
       "WOHNLAGE                 0\n",
       "KBA05_ANTG1              0\n",
       "KBA05_ANTG2              0\n",
       "KBA05_ANTG3              0\n",
       "KBA05_ANTG4              0\n",
       "KBA05_GBZ                0\n",
       "BALLRAUM                 0\n",
       "EWDICHTE                 0\n",
       "INNENSTADT               0\n",
       "GEBAEUDETYP_RASTER       0\n",
       "KKK                      0\n",
       "MOBI_REGIO               0\n",
       "ONLINE_AFFINITAET        0\n",
       "REGIOTYP                 0\n",
       "KBA13_ANZAHL_PKW         0\n",
       "PLZ8_ANTG1               0\n",
       "PLZ8_ANTG2               0\n",
       "PLZ8_ANTG3               0\n",
       "PLZ8_ANTG4               0\n",
       "PLZ8_BAUMAX              0\n",
       "PLZ8_HHZ                 0\n",
       "PLZ8_GBZ                 0\n",
       "ARBEIT                   0\n",
       "ORTSGR_KLS9              0\n",
       "RELAT_AB                 0\n",
       "movement                 0\n",
       "decade                   0\n",
       "wealth                   0\n",
       "life_stage               0\n",
       "Length: 66, dtype: int64"
      ]
     },
     "execution_count": 100,
     "metadata": {},
     "output_type": "execute_result"
    }
   ],
   "source": [
    "# Check if there are null values remaining\n",
    "df_azdias.isnull().sum()"
   ]
  },
  {
   "cell_type": "code",
   "execution_count": 101,
   "metadata": {},
   "outputs": [
    {
     "data": {
      "text/plain": [
       "(771701, 66)"
      ]
     },
     "execution_count": 101,
     "metadata": {},
     "output_type": "execute_result"
    }
   ],
   "source": [
    "# Check if we will have our desired shape\n",
    "df_azdias.shape"
   ]
  },
  {
   "cell_type": "code",
   "execution_count": 102,
   "metadata": {},
   "outputs": [
    {
     "data": {
      "text/plain": [
       "(771701, 66)"
      ]
     },
     "execution_count": 102,
     "metadata": {},
     "output_type": "execute_result"
    }
   ],
   "source": [
    "# Apply feature scaling to the general population demographics data.\n",
    "scaler = StandardScaler()\n",
    "scaled_df =  scaler.fit_transform(df_azdias)\n",
    "scaled_df.shape"
   ]
  },
  {
   "cell_type": "markdown",
   "metadata": {},
   "source": [
    "### Discussion 2.1: Apply Feature Scaling\n",
    "\n",
    "In order to clean the missing values we used an imputer using the 'most frequent' strategy to deal with the remaining null values. \n",
    "\n",
    "Once that was done we applied a standard scaler and fit_transformed the dataset. "
   ]
  },
  {
   "cell_type": "markdown",
   "metadata": {},
   "source": [
    "### Step 2.2: Perform Dimensionality Reduction\n",
    "\n",
    "We are now ready to apply dimensionality reduction techniques on our scaled dataset.\n",
    "\n",
    "- We will use sklearn's [PCA](http://scikit-learn.org/stable/modules/generated/sklearn.decomposition.PCA.html) class to apply principal component analysis on the data, thus finding the vectors of maximal variance in the data. \n",
    "- We will then check out the ratio of variance explained by each principal component as well as the cumulative variance explained. "
   ]
  },
  {
   "cell_type": "code",
   "execution_count": 103,
   "metadata": {},
   "outputs": [
    {
     "data": {
      "text/plain": [
       "array([[ 3.14971707, -3.11482211, -2.97695403, ..., -0.67158758,\n",
       "         0.21120249, -0.06830453],\n",
       "       [-0.40733238,  0.39352891, -3.22993772, ..., -0.64782054,\n",
       "         1.34171789, -0.62849933],\n",
       "       [-3.98357105,  1.57923689, -0.66103688, ...,  0.49070413,\n",
       "         0.14290134, -1.09014763],\n",
       "       ..., \n",
       "       [-1.55786837, -3.34833167, -2.87024963, ...,  1.78609042,\n",
       "         0.42083006, -0.35425186],\n",
       "       [ 5.37611506, -3.92875446,  2.30473032, ...,  1.71523517,\n",
       "        -0.3395261 ,  0.43836918],\n",
       "       [-0.54229206,  1.16337677,  3.13543609, ..., -1.24251341,\n",
       "         1.02204601, -0.82355709]])"
      ]
     },
     "execution_count": 103,
     "metadata": {},
     "output_type": "execute_result"
    }
   ],
   "source": [
    "# Apply PCA to the data with 25 components\n",
    "pca = PCA(n_components=25)\n",
    "pca.fit_transform(scaled_df)"
   ]
  },
  {
   "cell_type": "code",
   "execution_count": 104,
   "metadata": {},
   "outputs": [
    {
     "data": {
      "text/plain": [
       "array([ 0.1771002 ,  0.13207648,  0.09173161,  0.05111354,  0.04109685,\n",
       "        0.03313704,  0.03130865,  0.02624514,  0.02322485,  0.02126146,\n",
       "        0.02034294,  0.01971547,  0.0183865 ,  0.01728081,  0.01610589,\n",
       "        0.01491839,  0.01400029,  0.01273293,  0.01233801,  0.01172176,\n",
       "        0.01152395,  0.01128009,  0.01095595,  0.01007746,  0.0094212 ])"
      ]
     },
     "execution_count": 104,
     "metadata": {},
     "output_type": "execute_result"
    }
   ],
   "source": [
    "# Variance explained by each principal component\n",
    "pca.explained_variance_ratio_\n"
   ]
  },
  {
   "cell_type": "code",
   "execution_count": 105,
   "metadata": {},
   "outputs": [
    {
     "data": {
      "image/png": "[encoded data removed]",
      "text/plain": [
       "<matplotlib.figure.Figure at 0x7f2e28391fd0>"
      ]
     },
     "metadata": {
      "needs_background": "light"
     },
     "output_type": "display_data"
    }
   ],
   "source": [
    "# Function that plots the variance accounted for by each principal component.\n",
    "def scree_plot(pca):\n",
    "    '''\n",
    "    Creates a scree plot associated with the principal components \n",
    "    \n",
    "    INPUT: pca - the result of instantian of PCA in scikit learn\n",
    "            \n",
    "    OUTPUT:\n",
    "            None\n",
    "    '''\n",
    "    num_components=len(pca.explained_variance_ratio_)\n",
    "    ind = np.arange(num_components)\n",
    "    vals = pca.explained_variance_ratio_\n",
    " \n",
    "    plt.figure(figsize=(17, 6))\n",
    "    ax = plt.subplot(111)\n",
    "    cumvals = np.cumsum(vals)\n",
    "    ax.bar(ind, vals)\n",
    "    ax.plot(ind, cumvals)\n",
    "    for i in range(num_components):\n",
    "        ax.annotate(r\"%s%%\" % ((str(vals[i]*100)[:4])), (ind[i]+0.2, vals[i]), va=\"bottom\", ha=\"center\", fontsize=10)\n",
    " \n",
    "    ax.xaxis.set_tick_params(width=0)\n",
    "    ax.yaxis.set_tick_params(width=2, length=12)\n",
    " \n",
    "    ax.set_xlabel(\"Principal Component\")\n",
    "    ax.set_ylabel(\"Variance Explained (%)\")\n",
    "    plt.title('Explained Variance Per Principal Component')\n",
    "\n",
    "scree_plot(pca)"
   ]
  },
  {
   "cell_type": "code",
   "execution_count": 106,
   "metadata": {},
   "outputs": [
    {
     "data": {
      "text/plain": [
       "array([[ 3.14971842, -3.11482936, -2.97698167, ...,  0.76695845,\n",
       "        -1.26123265,  0.88693629],\n",
       "       [-0.4073329 ,  0.39352494, -3.22990073, ..., -0.32897046,\n",
       "         1.5736539 , -0.35959937],\n",
       "       [-3.9835702 ,  1.5792359 , -0.66105834, ..., -0.07052241,\n",
       "         0.15251913,  1.37850954],\n",
       "       ..., \n",
       "       [-1.55786929, -3.34832782, -2.87026337, ...,  0.07865136,\n",
       "        -0.29721688, -0.46902814],\n",
       "       [ 5.37611517, -3.92875357,  2.30476195, ..., -0.45601968,\n",
       "        -1.04695406, -0.00893245],\n",
       "       [-0.54229097,  1.16337568,  3.13538655, ...,  0.25388611,\n",
       "        -0.59167914,  0.22298162]])"
      ]
     },
     "execution_count": 106,
     "metadata": {},
     "output_type": "execute_result"
    }
   ],
   "source": [
    "# Re-apply PCA to the data and keep the first 20 principal components \n",
    "pca = PCA(n_components=20)\n",
    "pca_X = pca.fit_transform(scaled_df)\n",
    "pca_X"
   ]
  },
  {
   "cell_type": "code",
   "execution_count": 107,
   "metadata": {},
   "outputs": [
    {
     "data": {
      "text/plain": [
       "0.78570490740686449"
      ]
     },
     "execution_count": 107,
     "metadata": {},
     "output_type": "execute_result"
    }
   ],
   "source": [
    "# Total variance explained with our 21 principal components\n",
    "pca.explained_variance_ratio_[:20].sum()"
   ]
  },
  {
   "cell_type": "markdown",
   "metadata": {},
   "source": [
    "### Discussion 2.2: Perform Dimensionality Reduction\n",
    "\n",
    "The explaned variance ratio for our first three components is: 17.7%, 13.2% and 9.17%. After that, the ratio drops to 5% and below. \n",
    "\n",
    "I decided to keep only the fist 20 components and reapply the PCA on only them. \n",
    "\n",
    "In doing this, our total explained variance ratio totaled 78.57%.  "
   ]
  },
  {
   "cell_type": "markdown",
   "metadata": {},
   "source": [
    "### Step 2.3: Interpret Principal Components\n",
    "\n",
    "Now that we have our transformed principal components, it's a nice idea to check out the weight of each variable on the first few components to see if they can be interpreted in some fashion.\n",
    "\n",
    "Each principal component is a unit vector that points in the direction of highest variance (after accounting for the variance captured by earlier principal components). The further a weight is from zero, the more the principal component is in the direction of the corresponding feature. If two features have large weights of the same sign (both positive or both negative), then increases in one tend expect to be associated with increases in the other. To contrast, features with different signs can be expected to show a negative correlation: increases in one variable should result in a decrease in the other.\n",
    "\n",
    "- To investigate the features, we will map each weight to their corresponding feature name, then sort the features according to weight. The most interesting features for each principal component, then, will be those at the beginning and end of the sorted list. We can use the data dictionary document to help us understand these most prominent features, their relationships, and what a positive or negative value on the principal component might indicate.\n",
    "- You will investigate and interpret feature associations from the first three principal components in this substep. "
   ]
  },
  {
   "cell_type": "code",
   "execution_count": 108,
   "metadata": {},
   "outputs": [
    {
     "data": {
      "text/html": [
       "<div>\n",
       "<style scoped>\n",
       "    .dataframe tbody tr th:only-of-type {\n",
       "        vertical-align: middle;\n",
       "    }\n",
       "\n",
       "    .dataframe tbody tr th {\n",
       "        vertical-align: top;\n",
       "    }\n",
       "\n",
       "    .dataframe thead th {\n",
       "        text-align: right;\n",
       "    }\n",
       "</style>\n",
       "<table border=\"1\" class=\"dataframe\">\n",
       "  <thead>\n",
       "    <tr style=\"text-align: right;\">\n",
       "      <th></th>\n",
       "      <th>Component 1</th>\n",
       "      <th>Component 2</th>\n",
       "      <th>Component 3</th>\n",
       "    </tr>\n",
       "  </thead>\n",
       "  <tbody>\n",
       "    <tr>\n",
       "      <th>PLZ8_ANTG3</th>\n",
       "      <td>0.2273</td>\n",
       "      <td>0.0658</td>\n",
       "      <td>0.0348</td>\n",
       "    </tr>\n",
       "    <tr>\n",
       "      <th>PLZ8_ANTG4</th>\n",
       "      <td>0.2212</td>\n",
       "      <td>0.0627</td>\n",
       "      <td>0.0363</td>\n",
       "    </tr>\n",
       "    <tr>\n",
       "      <th>PLZ8_BAUMAX</th>\n",
       "      <td>0.2164</td>\n",
       "      <td>0.0580</td>\n",
       "      <td>0.0392</td>\n",
       "    </tr>\n",
       "    <tr>\n",
       "      <th>ORTSGR_KLS9</th>\n",
       "      <td>0.2020</td>\n",
       "      <td>0.0676</td>\n",
       "      <td>0.0346</td>\n",
       "    </tr>\n",
       "    <tr>\n",
       "      <th>wealth</th>\n",
       "      <td>0.2007</td>\n",
       "      <td>0.0463</td>\n",
       "      <td>0.0200</td>\n",
       "    </tr>\n",
       "    <tr>\n",
       "      <th>EWDICHTE</th>\n",
       "      <td>0.1996</td>\n",
       "      <td>0.0688</td>\n",
       "      <td>0.0339</td>\n",
       "    </tr>\n",
       "    <tr>\n",
       "      <th>HH_EINKOMMEN_SCORE</th>\n",
       "      <td>0.1935</td>\n",
       "      <td>0.0269</td>\n",
       "      <td>-0.0239</td>\n",
       "    </tr>\n",
       "    <tr>\n",
       "      <th>FINANZ_HAUSBAUER</th>\n",
       "      <td>0.1625</td>\n",
       "      <td>0.0940</td>\n",
       "      <td>-0.0505</td>\n",
       "    </tr>\n",
       "    <tr>\n",
       "      <th>PLZ8_ANTG2</th>\n",
       "      <td>0.1545</td>\n",
       "      <td>0.0456</td>\n",
       "      <td>0.0222</td>\n",
       "    </tr>\n",
       "    <tr>\n",
       "      <th>KBA05_ANTG4</th>\n",
       "      <td>0.1507</td>\n",
       "      <td>0.0487</td>\n",
       "      <td>0.0212</td>\n",
       "    </tr>\n",
       "    <tr>\n",
       "      <th>ARBEIT</th>\n",
       "      <td>0.1436</td>\n",
       "      <td>0.0491</td>\n",
       "      <td>0.0270</td>\n",
       "    </tr>\n",
       "    <tr>\n",
       "      <th>RELAT_AB</th>\n",
       "      <td>0.1356</td>\n",
       "      <td>0.0477</td>\n",
       "      <td>0.0237</td>\n",
       "    </tr>\n",
       "    <tr>\n",
       "      <th>ANZ_HAUSHALTE_AKTIV</th>\n",
       "      <td>0.1337</td>\n",
       "      <td>0.0444</td>\n",
       "      <td>0.0199</td>\n",
       "    </tr>\n",
       "    <tr>\n",
       "      <th>KBA05_ANTG3</th>\n",
       "      <td>0.1306</td>\n",
       "      <td>0.0252</td>\n",
       "      <td>0.0029</td>\n",
       "    </tr>\n",
       "    <tr>\n",
       "      <th>FINANZ_SPARER</th>\n",
       "      <td>0.1159</td>\n",
       "      <td>-0.2509</td>\n",
       "      <td>-0.1065</td>\n",
       "    </tr>\n",
       "    <tr>\n",
       "      <th>SEMIO_PFLICHT</th>\n",
       "      <td>0.0867</td>\n",
       "      <td>-0.2408</td>\n",
       "      <td>-0.0792</td>\n",
       "    </tr>\n",
       "    <tr>\n",
       "      <th>SEMIO_REL</th>\n",
       "      <td>0.0843</td>\n",
       "      <td>-0.2651</td>\n",
       "      <td>0.0714</td>\n",
       "    </tr>\n",
       "    <tr>\n",
       "      <th>decade</th>\n",
       "      <td>0.0730</td>\n",
       "      <td>-0.2609</td>\n",
       "      <td>-0.1072</td>\n",
       "    </tr>\n",
       "    <tr>\n",
       "      <th>SEMIO_RAT</th>\n",
       "      <td>0.0708</td>\n",
       "      <td>-0.1821</td>\n",
       "      <td>-0.2182</td>\n",
       "    </tr>\n",
       "    <tr>\n",
       "      <th>REGIOTYP</th>\n",
       "      <td>0.0653</td>\n",
       "      <td>0.0107</td>\n",
       "      <td>-0.0037</td>\n",
       "    </tr>\n",
       "    <tr>\n",
       "      <th>SEMIO_TRADV</th>\n",
       "      <td>0.0635</td>\n",
       "      <td>-0.2392</td>\n",
       "      <td>-0.0794</td>\n",
       "    </tr>\n",
       "    <tr>\n",
       "      <th>SEMIO_FAM</th>\n",
       "      <td>0.0621</td>\n",
       "      <td>-0.1879</td>\n",
       "      <td>0.2509</td>\n",
       "    </tr>\n",
       "    <tr>\n",
       "      <th>SEMIO_MAT</th>\n",
       "      <td>0.0621</td>\n",
       "      <td>-0.1691</td>\n",
       "      <td>0.0543</td>\n",
       "    </tr>\n",
       "    <tr>\n",
       "      <th>W_KEIT_KIND_HH</th>\n",
       "      <td>0.0559</td>\n",
       "      <td>0.1162</td>\n",
       "      <td>0.0878</td>\n",
       "    </tr>\n",
       "    <tr>\n",
       "      <th>SEMIO_KULT</th>\n",
       "      <td>0.0524</td>\n",
       "      <td>-0.2239</td>\n",
       "      <td>0.2359</td>\n",
       "    </tr>\n",
       "    <tr>\n",
       "      <th>FINANZ_UNAUFFAELLIGER</th>\n",
       "      <td>0.0512</td>\n",
       "      <td>-0.2331</td>\n",
       "      <td>-0.0988</td>\n",
       "    </tr>\n",
       "    <tr>\n",
       "      <th>PLZ8_HHZ</th>\n",
       "      <td>0.0430</td>\n",
       "      <td>0.0086</td>\n",
       "      <td>0.0007</td>\n",
       "    </tr>\n",
       "    <tr>\n",
       "      <th>SEMIO_KAEM</th>\n",
       "      <td>0.0417</td>\n",
       "      <td>0.1029</td>\n",
       "      <td>-0.3418</td>\n",
       "    </tr>\n",
       "    <tr>\n",
       "      <th>FINANZ_ANLEGER</th>\n",
       "      <td>0.0403</td>\n",
       "      <td>-0.2134</td>\n",
       "      <td>-0.1858</td>\n",
       "    </tr>\n",
       "    <tr>\n",
       "      <th>SEMIO_SOZ</th>\n",
       "      <td>0.0366</td>\n",
       "      <td>-0.1042</td>\n",
       "      <td>0.2634</td>\n",
       "    </tr>\n",
       "    <tr>\n",
       "      <th>...</th>\n",
       "      <td>...</td>\n",
       "      <td>...</td>\n",
       "      <td>...</td>\n",
       "    </tr>\n",
       "    <tr>\n",
       "      <th>ANREDE_KZ</th>\n",
       "      <td>0.0083</td>\n",
       "      <td>0.0847</td>\n",
       "      <td>-0.3714</td>\n",
       "    </tr>\n",
       "    <tr>\n",
       "      <th>KBA05_ANTG2</th>\n",
       "      <td>0.0075</td>\n",
       "      <td>-0.0105</td>\n",
       "      <td>-0.0116</td>\n",
       "    </tr>\n",
       "    <tr>\n",
       "      <th>RETOURTYP_BK_S</th>\n",
       "      <td>-0.0016</td>\n",
       "      <td>0.1654</td>\n",
       "      <td>0.1075</td>\n",
       "    </tr>\n",
       "    <tr>\n",
       "      <th>ANZ_TITEL</th>\n",
       "      <td>-0.0028</td>\n",
       "      <td>0.0077</td>\n",
       "      <td>0.0089</td>\n",
       "    </tr>\n",
       "    <tr>\n",
       "      <th>SEMIO_VERT</th>\n",
       "      <td>-0.0373</td>\n",
       "      <td>-0.0606</td>\n",
       "      <td>0.3490</td>\n",
       "    </tr>\n",
       "    <tr>\n",
       "      <th>OST_WEST_KZ</th>\n",
       "      <td>-0.0531</td>\n",
       "      <td>-0.0183</td>\n",
       "      <td>-0.0147</td>\n",
       "    </tr>\n",
       "    <tr>\n",
       "      <th>SEMIO_LUST</th>\n",
       "      <td>-0.0531</td>\n",
       "      <td>0.1897</td>\n",
       "      <td>0.0642</td>\n",
       "    </tr>\n",
       "    <tr>\n",
       "      <th>WOHNDAUER_2008</th>\n",
       "      <td>-0.0563</td>\n",
       "      <td>0.0653</td>\n",
       "      <td>0.0340</td>\n",
       "    </tr>\n",
       "    <tr>\n",
       "      <th>SEMIO_ERL</th>\n",
       "      <td>-0.0564</td>\n",
       "      <td>0.2350</td>\n",
       "      <td>-0.1757</td>\n",
       "    </tr>\n",
       "    <tr>\n",
       "      <th>MIN_GEBAEUDEJAHR</th>\n",
       "      <td>-0.0597</td>\n",
       "      <td>-0.0407</td>\n",
       "      <td>-0.0133</td>\n",
       "    </tr>\n",
       "    <tr>\n",
       "      <th>ONLINE_AFFINITAET</th>\n",
       "      <td>-0.0609</td>\n",
       "      <td>-0.1586</td>\n",
       "      <td>-0.0519</td>\n",
       "    </tr>\n",
       "    <tr>\n",
       "      <th>movement</th>\n",
       "      <td>-0.0785</td>\n",
       "      <td>0.0081</td>\n",
       "      <td>0.0317</td>\n",
       "    </tr>\n",
       "    <tr>\n",
       "      <th>KBA13_ANZAHL_PKW</th>\n",
       "      <td>-0.0790</td>\n",
       "      <td>-0.0261</td>\n",
       "      <td>-0.0208</td>\n",
       "    </tr>\n",
       "    <tr>\n",
       "      <th>FINANZ_VORSORGER</th>\n",
       "      <td>-0.0873</td>\n",
       "      <td>0.2436</td>\n",
       "      <td>0.1007</td>\n",
       "    </tr>\n",
       "    <tr>\n",
       "      <th>ALTERSKATEGORIE_GROB</th>\n",
       "      <td>-0.0898</td>\n",
       "      <td>0.2715</td>\n",
       "      <td>0.0796</td>\n",
       "    </tr>\n",
       "    <tr>\n",
       "      <th>WOHNLAGE</th>\n",
       "      <td>-0.0913</td>\n",
       "      <td>-0.0469</td>\n",
       "      <td>-0.0133</td>\n",
       "    </tr>\n",
       "    <tr>\n",
       "      <th>ANZ_PERSONEN</th>\n",
       "      <td>-0.0939</td>\n",
       "      <td>-0.0554</td>\n",
       "      <td>-0.0061</td>\n",
       "    </tr>\n",
       "    <tr>\n",
       "      <th>life_stage</th>\n",
       "      <td>-0.1181</td>\n",
       "      <td>0.0174</td>\n",
       "      <td>-0.0055</td>\n",
       "    </tr>\n",
       "    <tr>\n",
       "      <th>GEBAEUDETYP_RASTER</th>\n",
       "      <td>-0.1185</td>\n",
       "      <td>-0.0290</td>\n",
       "      <td>-0.0247</td>\n",
       "    </tr>\n",
       "    <tr>\n",
       "      <th>BALLRAUM</th>\n",
       "      <td>-0.1297</td>\n",
       "      <td>-0.0455</td>\n",
       "      <td>-0.0259</td>\n",
       "    </tr>\n",
       "    <tr>\n",
       "      <th>LP_LEBENSPHASE_GROB</th>\n",
       "      <td>-0.1297</td>\n",
       "      <td>-0.0320</td>\n",
       "      <td>0.0007</td>\n",
       "    </tr>\n",
       "    <tr>\n",
       "      <th>LP_LEBENSPHASE_FEIN</th>\n",
       "      <td>-0.1441</td>\n",
       "      <td>-0.0240</td>\n",
       "      <td>0.0039</td>\n",
       "    </tr>\n",
       "    <tr>\n",
       "      <th>INNENSTADT</th>\n",
       "      <td>-0.1674</td>\n",
       "      <td>-0.0547</td>\n",
       "      <td>-0.0328</td>\n",
       "    </tr>\n",
       "    <tr>\n",
       "      <th>PLZ8_GBZ</th>\n",
       "      <td>-0.1680</td>\n",
       "      <td>-0.0511</td>\n",
       "      <td>-0.0329</td>\n",
       "    </tr>\n",
       "    <tr>\n",
       "      <th>KONSUMNAEHE</th>\n",
       "      <td>-0.1697</td>\n",
       "      <td>-0.0487</td>\n",
       "      <td>-0.0288</td>\n",
       "    </tr>\n",
       "    <tr>\n",
       "      <th>FINANZ_MINIMALIST</th>\n",
       "      <td>-0.1991</td>\n",
       "      <td>0.0942</td>\n",
       "      <td>0.1622</td>\n",
       "    </tr>\n",
       "    <tr>\n",
       "      <th>KBA05_GBZ</th>\n",
       "      <td>-0.2124</td>\n",
       "      <td>-0.0594</td>\n",
       "      <td>-0.0178</td>\n",
       "    </tr>\n",
       "    <tr>\n",
       "      <th>KBA05_ANTG1</th>\n",
       "      <td>-0.2191</td>\n",
       "      <td>-0.0489</td>\n",
       "      <td>-0.0150</td>\n",
       "    </tr>\n",
       "    <tr>\n",
       "      <th>PLZ8_ANTG1</th>\n",
       "      <td>-0.2261</td>\n",
       "      <td>-0.0628</td>\n",
       "      <td>-0.0367</td>\n",
       "    </tr>\n",
       "    <tr>\n",
       "      <th>MOBI_REGIO</th>\n",
       "      <td>-0.2367</td>\n",
       "      <td>-0.0571</td>\n",
       "      <td>-0.0200</td>\n",
       "    </tr>\n",
       "  </tbody>\n",
       "</table>\n",
       "<p>66 rows × 3 columns</p>\n",
       "</div>"
      ],
      "text/plain": [
       "                       Component 1  Component 2  Component 3\n",
       "PLZ8_ANTG3                  0.2273       0.0658       0.0348\n",
       "PLZ8_ANTG4                  0.2212       0.0627       0.0363\n",
       "PLZ8_BAUMAX                 0.2164       0.0580       0.0392\n",
       "ORTSGR_KLS9                 0.2020       0.0676       0.0346\n",
       "wealth                      0.2007       0.0463       0.0200\n",
       "EWDICHTE                    0.1996       0.0688       0.0339\n",
       "HH_EINKOMMEN_SCORE          0.1935       0.0269      -0.0239\n",
       "FINANZ_HAUSBAUER            0.1625       0.0940      -0.0505\n",
       "PLZ8_ANTG2                  0.1545       0.0456       0.0222\n",
       "KBA05_ANTG4                 0.1507       0.0487       0.0212\n",
       "ARBEIT                      0.1436       0.0491       0.0270\n",
       "RELAT_AB                    0.1356       0.0477       0.0237\n",
       "ANZ_HAUSHALTE_AKTIV         0.1337       0.0444       0.0199\n",
       "KBA05_ANTG3                 0.1306       0.0252       0.0029\n",
       "FINANZ_SPARER               0.1159      -0.2509      -0.1065\n",
       "SEMIO_PFLICHT               0.0867      -0.2408      -0.0792\n",
       "SEMIO_REL                   0.0843      -0.2651       0.0714\n",
       "decade                      0.0730      -0.2609      -0.1072\n",
       "SEMIO_RAT                   0.0708      -0.1821      -0.2182\n",
       "REGIOTYP                    0.0653       0.0107      -0.0037\n",
       "SEMIO_TRADV                 0.0635      -0.2392      -0.0794\n",
       "SEMIO_FAM                   0.0621      -0.1879       0.2509\n",
       "SEMIO_MAT                   0.0621      -0.1691       0.0543\n",
       "W_KEIT_KIND_HH              0.0559       0.1162       0.0878\n",
       "SEMIO_KULT                  0.0524      -0.2239       0.2359\n",
       "FINANZ_UNAUFFAELLIGER       0.0512      -0.2331      -0.0988\n",
       "PLZ8_HHZ                    0.0430       0.0086       0.0007\n",
       "SEMIO_KAEM                  0.0417       0.1029      -0.3418\n",
       "FINANZ_ANLEGER              0.0403      -0.2134      -0.1858\n",
       "SEMIO_SOZ                   0.0366      -0.1042       0.2634\n",
       "...                            ...          ...          ...\n",
       "ANREDE_KZ                   0.0083       0.0847      -0.3714\n",
       "KBA05_ANTG2                 0.0075      -0.0105      -0.0116\n",
       "RETOURTYP_BK_S             -0.0016       0.1654       0.1075\n",
       "ANZ_TITEL                  -0.0028       0.0077       0.0089\n",
       "SEMIO_VERT                 -0.0373      -0.0606       0.3490\n",
       "OST_WEST_KZ                -0.0531      -0.0183      -0.0147\n",
       "SEMIO_LUST                 -0.0531       0.1897       0.0642\n",
       "WOHNDAUER_2008             -0.0563       0.0653       0.0340\n",
       "SEMIO_ERL                  -0.0564       0.2350      -0.1757\n",
       "MIN_GEBAEUDEJAHR           -0.0597      -0.0407      -0.0133\n",
       "ONLINE_AFFINITAET          -0.0609      -0.1586      -0.0519\n",
       "movement                   -0.0785       0.0081       0.0317\n",
       "KBA13_ANZAHL_PKW           -0.0790      -0.0261      -0.0208\n",
       "FINANZ_VORSORGER           -0.0873       0.2436       0.1007\n",
       "ALTERSKATEGORIE_GROB       -0.0898       0.2715       0.0796\n",
       "WOHNLAGE                   -0.0913      -0.0469      -0.0133\n",
       "ANZ_PERSONEN               -0.0939      -0.0554      -0.0061\n",
       "life_stage                 -0.1181       0.0174      -0.0055\n",
       "GEBAEUDETYP_RASTER         -0.1185      -0.0290      -0.0247\n",
       "BALLRAUM                   -0.1297      -0.0455      -0.0259\n",
       "LP_LEBENSPHASE_GROB        -0.1297      -0.0320       0.0007\n",
       "LP_LEBENSPHASE_FEIN        -0.1441      -0.0240       0.0039\n",
       "INNENSTADT                 -0.1674      -0.0547      -0.0328\n",
       "PLZ8_GBZ                   -0.1680      -0.0511      -0.0329\n",
       "KONSUMNAEHE                -0.1697      -0.0487      -0.0288\n",
       "FINANZ_MINIMALIST          -0.1991       0.0942       0.1622\n",
       "KBA05_GBZ                  -0.2124      -0.0594      -0.0178\n",
       "KBA05_ANTG1                -0.2191      -0.0489      -0.0150\n",
       "PLZ8_ANTG1                 -0.2261      -0.0628      -0.0367\n",
       "MOBI_REGIO                 -0.2367      -0.0571      -0.0200\n",
       "\n",
       "[66 rows x 3 columns]"
      ]
     },
     "execution_count": 108,
     "metadata": {},
     "output_type": "execute_result"
    }
   ],
   "source": [
    "# index components for our dataframe\n",
    "components = [f'Component {i}' for i in range(1,len(pca.components_)+1)]\n",
    "\n",
    "# PCA components sorted\n",
    "df_components = pd.DataFrame(np.round(pca.components_, 4), columns = df_azdias.keys())\n",
    "df_components.index = components\n",
    "\n",
    "# sort by the first dimension\n",
    "df_components.sort_values(by=df_components.index[0], axis=1, ascending=False, inplace=True)\n",
    "\n",
    "# show the components of the first three dimensions\n",
    "df_components.iloc[:3].transpose()"
   ]
  },
  {
   "cell_type": "code",
   "execution_count": 109,
   "metadata": {},
   "outputs": [
    {
     "data": {
      "text/plain": [
       "PLZ8_ANTG3               0.2273\n",
       "PLZ8_ANTG4               0.2212\n",
       "PLZ8_BAUMAX              0.2164\n",
       "ORTSGR_KLS9              0.2020\n",
       "wealth                   0.2007\n",
       "EWDICHTE                 0.1996\n",
       "HH_EINKOMMEN_SCORE       0.1935\n",
       "FINANZ_HAUSBAUER         0.1625\n",
       "PLZ8_ANTG2               0.1545\n",
       "KBA05_ANTG4              0.1507\n",
       "ARBEIT                   0.1436\n",
       "RELAT_AB                 0.1356\n",
       "ANZ_HAUSHALTE_AKTIV      0.1337\n",
       "KBA05_ANTG3              0.1306\n",
       "FINANZ_SPARER            0.1159\n",
       "SEMIO_PFLICHT            0.0867\n",
       "SEMIO_REL                0.0843\n",
       "decade                   0.0730\n",
       "SEMIO_RAT                0.0708\n",
       "REGIOTYP                 0.0653\n",
       "SEMIO_TRADV              0.0635\n",
       "SEMIO_FAM                0.0621\n",
       "SEMIO_MAT                0.0621\n",
       "W_KEIT_KIND_HH           0.0559\n",
       "SEMIO_KULT               0.0524\n",
       "FINANZ_UNAUFFAELLIGER    0.0512\n",
       "PLZ8_HHZ                 0.0430\n",
       "SEMIO_KAEM               0.0417\n",
       "FINANZ_ANLEGER           0.0403\n",
       "SEMIO_SOZ                0.0366\n",
       "                          ...  \n",
       "ANREDE_KZ                0.0083\n",
       "KBA05_ANTG2              0.0075\n",
       "RETOURTYP_BK_S          -0.0016\n",
       "ANZ_TITEL               -0.0028\n",
       "SEMIO_VERT              -0.0373\n",
       "OST_WEST_KZ             -0.0531\n",
       "SEMIO_LUST              -0.0531\n",
       "WOHNDAUER_2008          -0.0563\n",
       "SEMIO_ERL               -0.0564\n",
       "MIN_GEBAEUDEJAHR        -0.0597\n",
       "ONLINE_AFFINITAET       -0.0609\n",
       "movement                -0.0785\n",
       "KBA13_ANZAHL_PKW        -0.0790\n",
       "FINANZ_VORSORGER        -0.0873\n",
       "ALTERSKATEGORIE_GROB    -0.0898\n",
       "WOHNLAGE                -0.0913\n",
       "ANZ_PERSONEN            -0.0939\n",
       "life_stage              -0.1181\n",
       "GEBAEUDETYP_RASTER      -0.1185\n",
       "BALLRAUM                -0.1297\n",
       "LP_LEBENSPHASE_GROB     -0.1297\n",
       "LP_LEBENSPHASE_FEIN     -0.1441\n",
       "INNENSTADT              -0.1674\n",
       "PLZ8_GBZ                -0.1680\n",
       "KONSUMNAEHE             -0.1697\n",
       "FINANZ_MINIMALIST       -0.1991\n",
       "KBA05_GBZ               -0.2124\n",
       "KBA05_ANTG1             -0.2191\n",
       "PLZ8_ANTG1              -0.2261\n",
       "MOBI_REGIO              -0.2367\n",
       "Name: Component 1, Length: 66, dtype: float64"
      ]
     },
     "execution_count": 109,
     "metadata": {},
     "output_type": "execute_result"
    }
   ],
   "source": [
    "# Create function to get list of sorted weights for each feature of a component we choose\n",
    "\n",
    "def get_sorted_weights_list(df, component):\n",
    "    \n",
    "    # Get sorted PCA components\n",
    "    df_components.sort_values(by=df_components.index[component], axis=1, ascending=False, inplace=True)\n",
    "    \n",
    "    # Get the top 6 weighted features\n",
    "    sorted_weights = df_components.iloc[component]\n",
    "    \n",
    "    return sorted_weights\n",
    "\n",
    "# Get sorted weights for the first dimension\n",
    "get_sorted_weights_list(df_azdias, 0)    "
   ]
  },
  {
   "cell_type": "code",
   "execution_count": 110,
   "metadata": {
    "scrolled": false
   },
   "outputs": [
    {
     "data": {
      "image/png": "[encoded data removed]",
      "text/plain": [
       "<matplotlib.figure.Figure at 0x7f2e28321ac8>"
      ]
     },
     "metadata": {
      "needs_background": "light"
     },
     "output_type": "display_data"
    },
    {
     "data": {
      "image/png": "[encoded data removed]",
      "text/plain": [
       "<matplotlib.figure.Figure at 0x7f2e282ff5c0>"
      ]
     },
     "metadata": {
      "needs_background": "light"
     },
     "output_type": "display_data"
    },
    {
     "data": {
      "image/png": "[encoded data removed]",
      "text/plain": [
       "<matplotlib.figure.Figure at 0x7f2e28390550>"
      ]
     },
     "metadata": {
      "needs_background": "light"
     },
     "output_type": "display_data"
    }
   ],
   "source": [
    "# Visualize the top 6 features for our first 3 components\n",
    "def plot_top_6_features(component):\n",
    "    \n",
    "    # Get sorted PCA components \n",
    "    df_components.sort_values(by=df_components.index[component], axis=1, ascending=False, inplace=True)\n",
    "    \n",
    "    # Get the top 6 weighted features\n",
    "    top_features = df_components.iloc[component][:3].append(df_components.iloc[component][-3:])\n",
    "    \n",
    "    fig, ax = plt.subplots(figsize = (10,8));\n",
    "\n",
    "    # Plot the feature weights as a function of the components\n",
    "    base_color = sns.color_palette(\"Blues\")\n",
    "    top_features.plot(kind='bar', color = base_color);\n",
    "    ax.set_ylabel(\"Feature Weights\")\n",
    "    ax.set_xticklabels(top_features.index, rotation=60);\n",
    "    ax.set_title(f'Top 6 feature weights for component {component}');\n",
    "    \n",
    "    return top_features\n",
    "\n",
    "# Get top features for the first 3 dimensions \n",
    "for dim in range(3):\n",
    "    plot_top_6_features(dim)"
   ]
  },
  {
   "cell_type": "markdown",
   "metadata": {},
   "source": [
    "### Discussion 2.3: Interpret Principal Components\n",
    "\n",
    "The features with the most importance for our **first** component are:\n",
    "- PLZ8_ANTG3: Number of 6-10 family houses in the PLZ8 region (from no share, to high share)\n",
    "- PLZ8_ANTG4: Number of 10+ family houses in the PLZ8 region\n",
    "- PLZ8_BAUMAX: Most common building type within the PLZ8 region\n",
    "- KBA05_ANTG1: Number of 1-2 family houses in the microcell\n",
    "- PLZ8_ANTG1: Number of 1-2 family houses in the PLZ8 region\n",
    "- MOBI_REGIO: Movement patterns\n",
    "The first three features on the list seem to be positively correlated to one another because their weights are positive. Likewise for the bottom three features which have negative weights. \n",
    "\n",
    "The features with the most importance for our **second** component are:\n",
    "- ALTERSKATEGORIE_GROB: Estimated age based on given name analysis\n",
    "- SEMIO_REL: Religious affinity\n",
    "- FINANZ_VORSORGER: Financial typology - be prepared\n",
    "- SEMIO_ERL: Personality typology - event oriented\n",
    "- decade: The decade dominating the movement of a person's youth \n",
    "- FINANCE_SPARER: Financial typology - money saver\n",
    "The first three features on the list seem to be positively correlated to one another because their weights are positive. Likewise for the bottom three features which have negative weights. \n",
    "\n",
    "The features with the most importance for our **thrid** component are:\n",
    "- SEMIO_VERT: Personality typology - dreamful\n",
    "- SEMIO_SOZ: Personality typology - socially-minded\n",
    "- SEMIO_FAM: Personality typology - family-minded\n",
    "- SEMIO_DOM: Personality typology - dominant-minded\n",
    "- SEMIO_KAEM: Personality typology - combative attitude\n",
    "- ANDREDE_KZ: Info missing\n",
    "\n",
    "The first three features on the list seem to be positively correlated to one another because their weights are positive. Likewise for the bottom three features which have negative weights. \n",
    "\n"
   ]
  },
  {
   "cell_type": "markdown",
   "metadata": {},
   "source": [
    "## Step 3: Clustering\n",
    "\n",
    "### Step 3.1: Apply Clustering to General Population\n",
    "\n",
    "So far we've assessed and cleaned the demographics data, then scaled and transformed them. Now, it's time to see how the data clusters in the principal components space. In this substep, we will apply k-means clustering to the dataset and use the average within-cluster distances from each point to their assigned cluster's centroid to decide on a number of clusters to keep.\n"
   ]
  },
  {
   "cell_type": "code",
   "execution_count": 59,
   "metadata": {},
   "outputs": [
    {
     "data": {
      "text/plain": [
       "[<matplotlib.lines.Line2D at 0x7fe20dc70cc0>]"
      ]
     },
     "execution_count": 59,
     "metadata": {},
     "output_type": "execute_result"
    },
    {
     "data": {
      "image/png": "[encoded data removed]",
      "text/plain": [
       "<matplotlib.figure.Figure at 0x7fe20dd1d6a0>"
      ]
     },
     "metadata": {
      "needs_background": "light"
     },
     "output_type": "display_data"
    }
   ],
   "source": [
    "clusters = []\n",
    "scores = []\n",
    "\n",
    "# Loop through the number of clusters and run k-means on the data\n",
    "for k in range(10):\n",
    "    k+= 1\n",
    "    kmeans = KMeans(k, n_jobs = -1).fit(pca_X)\n",
    "    score = np.abs(kmeans.score(pca_X))\n",
    "    scores.append(score)\n",
    "    clusters.append(k)\n",
    "\n",
    "# Graph the change in within-cluster distance across the number of clusters\n",
    "fig = plt.figure(figsize=(10,6))\n",
    "plt.plot(clusters, scores, linestyle='--', marker='o')  "
   ]
  },
  {
   "cell_type": "code",
   "execution_count": 54,
   "metadata": {},
   "outputs": [],
   "source": [
    "# Re-fit the k-means model with the selected number of clusters and obtain\n",
    "# cluster predictions for the general population demographics data.\n",
    "kmeans = KMeans(6, n_jobs = -1).fit(pca_X)\n",
    "general_labels = kmeans.predict(pca_X)"
   ]
  },
  {
   "cell_type": "markdown",
   "metadata": {},
   "source": [
    "### Discussion 3.1: Apply Clustering to General Population\n",
    "\n",
    "The number of centroids chosen is 6. After 6, our score continues to drop but in a less significant manner. We could have also chosen 8, because the scores decline notably less after as well. However in practice, my experience has shown that working with 6 groups, or personas is ideal. Less and we may miss our on characteristics of our customers. With more than 6 our groups tend to be smaller and it becomes hard to understand the differences between the groups.  "
   ]
  },
  {
   "cell_type": "markdown",
   "metadata": {},
   "source": [
    "### Step 3.2: Apply All Steps to the Customer Data\n",
    "\n",
    "Now that we have clusters and cluster centers for the general population, it's time to see how the customer data maps on to those clusters. We're going to use the fits from the general population to clean, transform, and cluster the customer data (which is different that refitting the data). In the last step of the project, we will interpret how the general population fits apply to the customer data."
   ]
  },
  {
   "cell_type": "code",
   "execution_count": 150,
   "metadata": {},
   "outputs": [
    {
     "data": {
      "text/html": [
       "<div>\n",
       "<style scoped>\n",
       "    .dataframe tbody tr th:only-of-type {\n",
       "        vertical-align: middle;\n",
       "    }\n",
       "\n",
       "    .dataframe tbody tr th {\n",
       "        vertical-align: top;\n",
       "    }\n",
       "\n",
       "    .dataframe thead th {\n",
       "        text-align: right;\n",
       "    }\n",
       "</style>\n",
       "<table border=\"1\" class=\"dataframe\">\n",
       "  <thead>\n",
       "    <tr style=\"text-align: right;\">\n",
       "      <th></th>\n",
       "      <th>AGER_TYP</th>\n",
       "      <th>ALTERSKATEGORIE_GROB</th>\n",
       "      <th>ANREDE_KZ</th>\n",
       "      <th>CJT_GESAMTTYP</th>\n",
       "      <th>FINANZ_MINIMALIST</th>\n",
       "      <th>FINANZ_SPARER</th>\n",
       "      <th>FINANZ_VORSORGER</th>\n",
       "      <th>FINANZ_ANLEGER</th>\n",
       "      <th>FINANZ_UNAUFFAELLIGER</th>\n",
       "      <th>FINANZ_HAUSBAUER</th>\n",
       "      <th>...</th>\n",
       "      <th>PLZ8_ANTG1</th>\n",
       "      <th>PLZ8_ANTG2</th>\n",
       "      <th>PLZ8_ANTG3</th>\n",
       "      <th>PLZ8_ANTG4</th>\n",
       "      <th>PLZ8_BAUMAX</th>\n",
       "      <th>PLZ8_HHZ</th>\n",
       "      <th>PLZ8_GBZ</th>\n",
       "      <th>ARBEIT</th>\n",
       "      <th>ORTSGR_KLS9</th>\n",
       "      <th>RELAT_AB</th>\n",
       "    </tr>\n",
       "  </thead>\n",
       "  <tbody>\n",
       "    <tr>\n",
       "      <th>0</th>\n",
       "      <td>2</td>\n",
       "      <td>4</td>\n",
       "      <td>1</td>\n",
       "      <td>5.0</td>\n",
       "      <td>5</td>\n",
       "      <td>1</td>\n",
       "      <td>5</td>\n",
       "      <td>1</td>\n",
       "      <td>2</td>\n",
       "      <td>2</td>\n",
       "      <td>...</td>\n",
       "      <td>3.0</td>\n",
       "      <td>3.0</td>\n",
       "      <td>1.0</td>\n",
       "      <td>0.0</td>\n",
       "      <td>1.0</td>\n",
       "      <td>5.0</td>\n",
       "      <td>5.0</td>\n",
       "      <td>1.0</td>\n",
       "      <td>2.0</td>\n",
       "      <td>1.0</td>\n",
       "    </tr>\n",
       "  </tbody>\n",
       "</table>\n",
       "<p>1 rows × 85 columns</p>\n",
       "</div>"
      ],
      "text/plain": [
       "   AGER_TYP  ALTERSKATEGORIE_GROB  ANREDE_KZ  CJT_GESAMTTYP  \\\n",
       "0         2                     4          1            5.0   \n",
       "\n",
       "   FINANZ_MINIMALIST  FINANZ_SPARER  FINANZ_VORSORGER  FINANZ_ANLEGER  \\\n",
       "0                  5              1                 5               1   \n",
       "\n",
       "   FINANZ_UNAUFFAELLIGER  FINANZ_HAUSBAUER    ...     PLZ8_ANTG1  PLZ8_ANTG2  \\\n",
       "0                      2                 2    ...            3.0         3.0   \n",
       "\n",
       "   PLZ8_ANTG3  PLZ8_ANTG4  PLZ8_BAUMAX  PLZ8_HHZ  PLZ8_GBZ  ARBEIT  \\\n",
       "0         1.0         0.0          1.0       5.0       5.0     1.0   \n",
       "\n",
       "   ORTSGR_KLS9  RELAT_AB  \n",
       "0          2.0       1.0  \n",
       "\n",
       "[1 rows x 85 columns]"
      ]
     },
     "execution_count": 150,
     "metadata": {},
     "output_type": "execute_result"
    }
   ],
   "source": [
    "# Load in the customer demographics data.\n",
    "customers = pd.read_csv('Udacity_CUSTOMERS_Subset.csv', sep=';')\n",
    "customers.head(1)"
   ]
  },
  {
   "cell_type": "code",
   "execution_count": 151,
   "metadata": {},
   "outputs": [
    {
     "name": "stderr",
     "output_type": "stream",
     "text": [
      "/opt/conda/lib/python3.6/site-packages/pandas/core/frame.py:3697: SettingWithCopyWarning: \n",
      "A value is trying to be set on a copy of a slice from a DataFrame\n",
      "\n",
      "See the caveats in the documentation: http://pandas.pydata.org/pandas-docs/stable/indexing.html#indexing-view-versus-copy\n",
      "  errors=errors)\n",
      "/opt/conda/lib/python3.6/site-packages/pandas/core/generic.py:5890: SettingWithCopyWarning: \n",
      "A value is trying to be set on a copy of a slice from a DataFrame\n",
      "\n",
      "See the caveats in the documentation: http://pandas.pydata.org/pandas-docs/stable/indexing.html#indexing-view-versus-copy\n",
      "  self._update_inplace(new_data)\n",
      "/opt/conda/lib/python3.6/site-packages/ipykernel_launcher.py:58: SettingWithCopyWarning: \n",
      "A value is trying to be set on a copy of a slice from a DataFrame.\n",
      "Try using .loc[row_indexer,col_indexer] = value instead\n",
      "\n",
      "See the caveats in the documentation: http://pandas.pydata.org/pandas-docs/stable/indexing.html#indexing-view-versus-copy\n",
      "/opt/conda/lib/python3.6/site-packages/ipykernel_launcher.py:63: SettingWithCopyWarning: \n",
      "A value is trying to be set on a copy of a slice from a DataFrame.\n",
      "Try using .loc[row_indexer,col_indexer] = value instead\n",
      "\n",
      "See the caveats in the documentation: http://pandas.pydata.org/pandas-docs/stable/indexing.html#indexing-view-versus-copy\n",
      "/opt/conda/lib/python3.6/site-packages/ipykernel_launcher.py:72: SettingWithCopyWarning: \n",
      "A value is trying to be set on a copy of a slice from a DataFrame.\n",
      "Try using .loc[row_indexer,col_indexer] = value instead\n",
      "\n",
      "See the caveats in the documentation: http://pandas.pydata.org/pandas-docs/stable/indexing.html#indexing-view-versus-copy\n",
      "/opt/conda/lib/python3.6/site-packages/ipykernel_launcher.py:73: SettingWithCopyWarning: \n",
      "A value is trying to be set on a copy of a slice from a DataFrame.\n",
      "Try using .loc[row_indexer,col_indexer] = value instead\n",
      "\n",
      "See the caveats in the documentation: http://pandas.pydata.org/pandas-docs/stable/indexing.html#indexing-view-versus-copy\n"
     ]
    }
   ],
   "source": [
    "# Apply preprocessing, feature transformation, and clustering from the general\n",
    "# demographics onto the customer data, obtaining cluster predictions for the\n",
    "# customer demographics data.\n",
    "customers = clean_data(customers)\n"
   ]
  },
  {
   "cell_type": "code",
   "execution_count": 152,
   "metadata": {},
   "outputs": [
    {
     "data": {
      "text/plain": [
       "(135799, 66)"
      ]
     },
     "execution_count": 152,
     "metadata": {},
     "output_type": "execute_result"
    }
   ],
   "source": [
    "# Check the shape of our cleaned customers DataFrame to see if the columns match our population dataset\n",
    "customers.shape"
   ]
  },
  {
   "cell_type": "code",
   "execution_count": 153,
   "metadata": {},
   "outputs": [],
   "source": [
    "# Use the fitted imputer, scaler, pca, and kmeans to transform our customers DataFrame\n",
    "customers_cleaned = imputer.fit_transform(customers)\n",
    "customers_X = scaler.transform(customers_cleaned)\n",
    "customers_pca = pca.transform(customers_X)\n",
    "customers_kmeans = kmeans.transform(customers_pca)\n",
    "\n",
    "# Get customer cluster predictions\n",
    "customer_labels = kmeans.predict(customers_pca)"
   ]
  },
  {
   "cell_type": "markdown",
   "metadata": {},
   "source": [
    "### Step 3.3: Compare Customer Data to Demographics Data\n",
    "\n",
    "At this point, we have clustered data based on demographics of the general population of Germany, and seen how the customer data for a mail-order sales company maps onto those demographic clusters. In this final substep, we will compare the two cluster distributions to see where the strongest customer base for the company is.\n",
    "\n",
    "We will consider the proportion of persons in each cluster for the general population, and the proportions for the customers. If we think the company's customer base to be universal, then the cluster assignment proportions should be fairly similar between the two. If there are only particular segments of the population that are interested in the company's products, then we should see a mismatch from one to the other. If there is a higher proportion of persons in a cluster for the customer data compared to the general population (e.g. 5% of persons are assigned to a cluster for the general population, but 15% of the customer data is closest to that cluster's centroid) then that suggests the people in that cluster to be a target audience for the company. On the other hand, the proportion of the data in a cluster being larger in the general population than the customer data (e.g. only 2% of customers closest to a population centroid that captures 6% of the data) suggests that group of persons to be outside of the target demographics.\n",
    "\n",
    "We will proceed with the following steps:\n",
    "\n",
    "- Compute and visualize the proportion of data points in each cluster for the general population and the customer data. \n",
    "- Find which cluster or clusters are overrepresented in the customer dataset compared to the general population. We will select at least one such cluster and infer what kind of people might be represented by that cluster. We will use the `.inverse_transform()` method of the PCA and StandardScaler objects to transform centroids back to the original data space and interpret the retrieved values.\n",
    "- We will then perform a similar investigation for the underrepresented clusters and find what kinds of people are typified by these clusters?"
   ]
  },
  {
   "cell_type": "code",
   "execution_count": 123,
   "metadata": {},
   "outputs": [
    {
     "name": "stdout",
     "output_type": "stream",
     "text": [
      "<class 'pandas.core.frame.DataFrame'>\n",
      "RangeIndex: 771701 entries, 0 to 771700\n",
      "Data columns (total 2 columns):\n",
      "general_labels     771701 non-null float64\n",
      "customer_labels    135799 non-null float64\n",
      "dtypes: float64(2)\n",
      "memory usage: 11.8 MB\n"
     ]
    }
   ],
   "source": [
    "# Create a dataframe with general population and customer cluster labels\n",
    "columns = ['general_labels', 'customer_labels']\n",
    "df = pd.DataFrame.from_dict({'general_labels':pd.Series(general_labels)+1, 'customer_labels':pd.Series(customer_labels)+1})\n",
    "\n",
    "# Convert column to floats to match the type of 'customer_labels'\n",
    "df.general_labels = df.general_labels.astype(float)\n",
    "df.info()"
   ]
  },
  {
   "cell_type": "code",
   "execution_count": 124,
   "metadata": {},
   "outputs": [
    {
     "data": {
      "text/plain": [
       "Text(0.5,1,'Customer Cluster Count')"
      ]
     },
     "execution_count": 124,
     "metadata": {},
     "output_type": "execute_result"
    },
    {
     "data": {
      "image/png": "[encoded data removed]",
      "text/plain": [
       "<matplotlib.figure.Figure at 0x7f2e284e9fd0>"
      ]
     },
     "metadata": {
      "needs_background": "light"
     },
     "output_type": "display_data"
    }
   ],
   "source": [
    "# Visualize the distribution of clusters\n",
    "fig = plt.figure(figsize=(15, 6))\n",
    "plt.subplot(1, 2, 1)\n",
    "sns.countplot(data = df, x='general_labels', color =  base_color)\n",
    "plt.xlabel('Clusters')\n",
    "plt.title('General Population Cluster Count')\n",
    "\n",
    "\n",
    "plt.subplot(1, 2, 2)\n",
    "sns.countplot(data = df, x='customer_labels', color = base_color)\n",
    "plt.xlabel('Clusters')\n",
    "plt.title('Customer Cluster Count')"
   ]
  },
  {
   "cell_type": "code",
   "execution_count": 125,
   "metadata": {},
   "outputs": [],
   "source": [
    "# Get cluster ratios\n",
    "customer_ratios = []\n",
    "general_ratios = []\n",
    "for n in range(6):\n",
    "    customer_ratios.append(list(customer_labels).count(n) / len(customer_labels))\n",
    "    general_ratios.append(list(general_labels).count(n) / len(general_labels))"
   ]
  },
  {
   "cell_type": "code",
   "execution_count": 126,
   "metadata": {},
   "outputs": [
    {
     "data": {
      "text/html": [
       "<div>\n",
       "<style scoped>\n",
       "    .dataframe tbody tr th:only-of-type {\n",
       "        vertical-align: middle;\n",
       "    }\n",
       "\n",
       "    .dataframe tbody tr th {\n",
       "        vertical-align: top;\n",
       "    }\n",
       "\n",
       "    .dataframe thead th {\n",
       "        text-align: right;\n",
       "    }\n",
       "</style>\n",
       "<table border=\"1\" class=\"dataframe\">\n",
       "  <thead>\n",
       "    <tr style=\"text-align: right;\">\n",
       "      <th></th>\n",
       "      <th>Cluster_1</th>\n",
       "      <th>Cluster_2</th>\n",
       "      <th>Cluster_3</th>\n",
       "      <th>Cluster_4</th>\n",
       "      <th>Cluster_5</th>\n",
       "      <th>Cluster_6</th>\n",
       "    </tr>\n",
       "  </thead>\n",
       "  <tbody>\n",
       "    <tr>\n",
       "      <th>Customer_ratios</th>\n",
       "      <td>0.013100</td>\n",
       "      <td>0.198175</td>\n",
       "      <td>0.089301</td>\n",
       "      <td>0.033520</td>\n",
       "      <td>0.550321</td>\n",
       "      <td>0.115583</td>\n",
       "    </tr>\n",
       "    <tr>\n",
       "      <th>General_ratios</th>\n",
       "      <td>0.131377</td>\n",
       "      <td>0.179835</td>\n",
       "      <td>0.190182</td>\n",
       "      <td>0.165622</td>\n",
       "      <td>0.191425</td>\n",
       "      <td>0.141557</td>\n",
       "    </tr>\n",
       "  </tbody>\n",
       "</table>\n",
       "</div>"
      ],
      "text/plain": [
       "                 Cluster_1  Cluster_2  Cluster_3  Cluster_4  Cluster_5  \\\n",
       "Customer_ratios   0.013100   0.198175   0.089301   0.033520   0.550321   \n",
       "General_ratios    0.131377   0.179835   0.190182   0.165622   0.191425   \n",
       "\n",
       "                 Cluster_6  \n",
       "Customer_ratios   0.115583  \n",
       "General_ratios    0.141557  "
      ]
     },
     "execution_count": 126,
     "metadata": {},
     "output_type": "execute_result"
    }
   ],
   "source": [
    "# Create the Ratios DF\n",
    "columns = ['Cluster_1', 'Cluster_2', 'Cluster_3', 'Cluster_4', 'Cluster_5', 'Cluster_6']\n",
    "index = ['Customer_ratios', 'General_ratios']\n",
    "df2 = pd.DataFrame([customer_ratios, general_ratios], columns=columns, index=index)\n",
    "df2"
   ]
  },
  {
   "cell_type": "code",
   "execution_count": 127,
   "metadata": {},
   "outputs": [
    {
     "data": {
      "text/plain": [
       "<matplotlib.axes._subplots.AxesSubplot at 0x7f2e2850ceb8>"
      ]
     },
     "execution_count": 127,
     "metadata": {},
     "output_type": "execute_result"
    },
    {
     "data": {
      "image/png": "[encoded data removed]",
      "text/plain": [
       "<matplotlib.figure.Figure at 0x7f2e284bd3c8>"
      ]
     },
     "metadata": {
      "needs_background": "light"
     },
     "output_type": "display_data"
    }
   ],
   "source": [
    "# plot the cluster ratios and compare\n",
    "df2.plot(kind = 'bar', figsize=(12, 6), colormap = 'Blues')"
   ]
  },
  {
   "cell_type": "code",
   "execution_count": 158,
   "metadata": {},
   "outputs": [],
   "source": [
    "# Choose a cluster and use inverse_transform to retrieve info about the cluster\n",
    "def cluster_representation(k, kmeans_predictions):\n",
    "\n",
    "    # inverse scale and inverse transform our PCA data for the chosen cluster\n",
    "    cluster_data = scaler.inverse_transform(pca.inverse_transform(pca_X[kmeans_predictions==k]))\n",
    "\n",
    "    # create a dataframe of our cluster and round the numbers \n",
    "    df_cluster = pd.DataFrame(cluster_data.round(), columns = customers.columns)\n",
    "    \n",
    "    # Take the features that had the highest weights for the first principal component\n",
    "    # These were the features that had the highest importance - let's visualize them with only the data of our cluster\n",
    "    cols = ['PLZ8_ANTG3', 'PLZ8_ANTG4', 'PLZ8_BAUMAX', 'KBA05_ANTG1', 'PLZ8_ANTG1', 'MOBI_REGIO']\n",
    "    \n",
    "    # Plot distribution of most important features for our cluster\n",
    "    fig, axes = plt.subplots(2, 3) # grid of 2x3 subplots\n",
    "    fig.set_figheight(10)\n",
    "    fig.set_figwidth(15)\n",
    "    axes = axes.flatten() # reshape from 2x3 array into 6-element vector\n",
    "    for i in range(6):\n",
    "        plt.sca(axes[i]) # set the current Axes\n",
    "        sns.countplot(x=cols[i], data = df_cluster, color = base_color)\n"
   ]
  },
  {
   "cell_type": "code",
   "execution_count": 159,
   "metadata": {},
   "outputs": [
    {
     "data": {
      "image/png": "[encoded data removed]",
      "text/plain": [
       "<matplotlib.figure.Figure at 0x7f2e27ee8e80>"
      ]
     },
     "metadata": {
      "needs_background": "light"
     },
     "output_type": "display_data"
    }
   ],
   "source": [
    "# Check demographics of people in cluster 5, which is most represented cluster in our customer dataset\n",
    "cluster_representation(4, kmeans_predictions=general_labels)\n"
   ]
  },
  {
   "cell_type": "code",
   "execution_count": 160,
   "metadata": {},
   "outputs": [
    {
     "data": {
      "image/png": "[encoded data removed]",
      "text/plain": [
       "<matplotlib.figure.Figure at 0x7f2e27ef35c0>"
      ]
     },
     "metadata": {
      "needs_background": "light"
     },
     "output_type": "display_data"
    }
   ],
   "source": [
    "# Check demographics of people in cluster 1, which is most unrepresented cluster in our customer dataset\n",
    "cluster_representation(0, kmeans_predictions=general_labels)\n"
   ]
  },
  {
   "cell_type": "markdown",
   "metadata": {},
   "source": [
    "### Discussion 3.3: Compare Customer Data to Demographics Data\n",
    "\n",
    "- Cluster #5 represents about 53% of the customer dataset. Clusters 1 and 4 are barely represented with ratios of 1.6% and 1.8% only. This means that we can use cluster #5's information to target similar profiles in the population. \n",
    "\n",
    "Let's analyse cluster #5 more closely:  \n",
    "- PLZ8_ANTG3: People in cluser #5 have mostly a lower share of households of size 6-10. In contract, people in cluster #1 have medium to high share.\n",
    "- PLZ8_ANTG4: Likewise for the number of 10+ people per household in the PLZ8 region, people that mostly represent our customers have no shares of this category. \n",
    "- PLZ8_BAUMAX: The number of people living in the household for Cluster #5's is mostly 1 or 2. Cluster 1's distribution is much more evenly distributed in terms of household size.  \n",
    "- KBA05_ANTG1: Cluster #5 has a very high number of households of size 1-2 in the microcell which confirms our observations about the last category. \n",
    "- PLZ8_ANTG1: The same thing can be said for households of size 1-2 in the PLZ8 region. \n",
    "- MOBI_REGIO: Average movement for cluster #5 is much higher than cluster 1. \n",
    "\n",
    "In conclusion, a large part of our customers seem to be living in smaller sized households. \n",
    "\n",
    "\n",
    "## Assumptions and limitations\n",
    "\n",
    "- A lot of the variables in the dataset are ordinal. While ordinal values may technically be non-linear in spacing, we make the simplifying assumption that the ordinal variables can be treated as being interval in nature (that is, kept without any changes).\n",
    "- We removed a lot of categorical features which could have contained important information. We made this decision to keep our model simple. \n",
    "- There are a few features of type 'mixed' which we left untouched. We could have split them into multiple features because each unique value contains more than 1 type of information. These mixed features were left untouched to keep the model simple. \n",
    "- The clustering algorithm used was kmeans. Other types of clustering algorithms could have been used and compared which each other. \n",
    "\n"
   ]
  }
 ],
 "metadata": {
  "kernelspec": {
   "display_name": "Python 3",
   "language": "python",
   "name": "python3"
  },
  "language_info": {
   "codemirror_mode": {
    "name": "ipython",
    "version": 3
   },
   "file_extension": ".py",
   "mimetype": "text/x-python",
   "name": "python",
   "nbconvert_exporter": "python",
   "pygments_lexer": "ipython3",
   "version": "3.6.3"
  }
 },
 "nbformat": 4,
 "nbformat_minor": 2
}
